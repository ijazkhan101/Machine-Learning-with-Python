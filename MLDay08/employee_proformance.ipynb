{
 "cells": [
  {
   "attachments": {},
   "cell_type": "markdown",
   "metadata": {},
   "source": [
    "# **Employee Performance Prediction**"
   ]
  },
  {
   "cell_type": "code",
   "execution_count": 48,
   "metadata": {},
   "outputs": [],
   "source": [
    "import pandas as pd\n",
    "import numpy as np\n",
    "from sklearn.linear_model import LinearRegression\n",
    "from sklearn.model_selection import train_test_split\n",
    "from sklearn.neighbors import KNeighborsRegressor\n",
    "from sklearn.metrics import r2_score\n",
    "from sklearn.metrics import mean_squared_error\n",
    "from sklearn.pipeline import Pipeline"
   ]
  },
  {
   "cell_type": "code",
   "execution_count": 49,
   "metadata": {},
   "outputs": [
    {
     "data": {
      "text/html": [
       "<div><div id=db332cc1-00cc-41d7-86b9-1a7cc60ffd3f style=\"display:none; background-color:#9D6CFF; color:white; width:200px; height:30px; padding-left:5px; border-radius:4px; flex-direction:row; justify-content:space-around; align-items:center;\" onmouseover=\"this.style.backgroundColor='#BA9BF8'\" onmouseout=\"this.style.backgroundColor='#9D6CFF'\" onclick=\"window.commands?.execute('create-mitosheet-from-dataframe-output');\">See Full Dataframe in Mito</div> <script> if (window.commands?.hasCommand('create-mitosheet-from-dataframe-output')) document.getElementById('db332cc1-00cc-41d7-86b9-1a7cc60ffd3f').style.display = 'flex' </script> <table border=\"1\" class=\"dataframe\">\n",
       "  <thead>\n",
       "    <tr style=\"text-align: right;\">\n",
       "      <th></th>\n",
       "      <th>team</th>\n",
       "      <th>targeted_productivity</th>\n",
       "      <th>smv</th>\n",
       "      <th>wip</th>\n",
       "      <th>over_time</th>\n",
       "      <th>incentive</th>\n",
       "      <th>idle_time</th>\n",
       "      <th>idle_men</th>\n",
       "      <th>no_of_style_change</th>\n",
       "      <th>no_of_workers</th>\n",
       "      <th>month</th>\n",
       "      <th>quarter_Quarter1</th>\n",
       "      <th>quarter_Quarter2</th>\n",
       "      <th>quarter_Quarter3</th>\n",
       "      <th>quarter_Quarter4</th>\n",
       "      <th>quarter_Quarter5</th>\n",
       "      <th>department_finishing</th>\n",
       "      <th>department_finishing</th>\n",
       "      <th>department_sweing</th>\n",
       "      <th>day_Monday</th>\n",
       "      <th>day_Saturday</th>\n",
       "      <th>day_Sunday</th>\n",
       "      <th>day_Thursday</th>\n",
       "      <th>day_Tuesday</th>\n",
       "      <th>day_Wednesday</th>\n",
       "      <th>actual_productivity</th>\n",
       "    </tr>\n",
       "  </thead>\n",
       "  <tbody>\n",
       "    <tr>\n",
       "      <th>0</th>\n",
       "      <td>9</td>\n",
       "      <td>0.75</td>\n",
       "      <td>3.94</td>\n",
       "      <td>NaN</td>\n",
       "      <td>960</td>\n",
       "      <td>0</td>\n",
       "      <td>0.0</td>\n",
       "      <td>0</td>\n",
       "      <td>0</td>\n",
       "      <td>8.0</td>\n",
       "      <td>2</td>\n",
       "      <td>1</td>\n",
       "      <td>0</td>\n",
       "      <td>0</td>\n",
       "      <td>0</td>\n",
       "      <td>0</td>\n",
       "      <td>1</td>\n",
       "      <td>0</td>\n",
       "      <td>0</td>\n",
       "      <td>0</td>\n",
       "      <td>0</td>\n",
       "      <td>0</td>\n",
       "      <td>0</td>\n",
       "      <td>0</td>\n",
       "      <td>1</td>\n",
       "      <td>0.755167</td>\n",
       "    </tr>\n",
       "    <tr>\n",
       "      <th>1</th>\n",
       "      <td>7</td>\n",
       "      <td>0.65</td>\n",
       "      <td>30.10</td>\n",
       "      <td>909.0</td>\n",
       "      <td>7080</td>\n",
       "      <td>0</td>\n",
       "      <td>0.0</td>\n",
       "      <td>0</td>\n",
       "      <td>1</td>\n",
       "      <td>59.0</td>\n",
       "      <td>2</td>\n",
       "      <td>0</td>\n",
       "      <td>1</td>\n",
       "      <td>0</td>\n",
       "      <td>0</td>\n",
       "      <td>0</td>\n",
       "      <td>0</td>\n",
       "      <td>0</td>\n",
       "      <td>1</td>\n",
       "      <td>0</td>\n",
       "      <td>0</td>\n",
       "      <td>0</td>\n",
       "      <td>1</td>\n",
       "      <td>0</td>\n",
       "      <td>0</td>\n",
       "      <td>0.535678</td>\n",
       "    </tr>\n",
       "    <tr>\n",
       "      <th>2</th>\n",
       "      <td>3</td>\n",
       "      <td>0.80</td>\n",
       "      <td>4.15</td>\n",
       "      <td>NaN</td>\n",
       "      <td>1440</td>\n",
       "      <td>0</td>\n",
       "      <td>0.0</td>\n",
       "      <td>0</td>\n",
       "      <td>0</td>\n",
       "      <td>7.0</td>\n",
       "      <td>1</td>\n",
       "      <td>0</td>\n",
       "      <td>1</td>\n",
       "      <td>0</td>\n",
       "      <td>0</td>\n",
       "      <td>0</td>\n",
       "      <td>0</td>\n",
       "      <td>1</td>\n",
       "      <td>0</td>\n",
       "      <td>0</td>\n",
       "      <td>0</td>\n",
       "      <td>0</td>\n",
       "      <td>0</td>\n",
       "      <td>0</td>\n",
       "      <td>1</td>\n",
       "      <td>0.820833</td>\n",
       "    </tr>\n",
       "    <tr>\n",
       "      <th>3</th>\n",
       "      <td>1</td>\n",
       "      <td>0.65</td>\n",
       "      <td>22.53</td>\n",
       "      <td>762.0</td>\n",
       "      <td>5040</td>\n",
       "      <td>0</td>\n",
       "      <td>0.0</td>\n",
       "      <td>0</td>\n",
       "      <td>1</td>\n",
       "      <td>42.0</td>\n",
       "      <td>2</td>\n",
       "      <td>0</td>\n",
       "      <td>0</td>\n",
       "      <td>0</td>\n",
       "      <td>1</td>\n",
       "      <td>0</td>\n",
       "      <td>0</td>\n",
       "      <td>0</td>\n",
       "      <td>1</td>\n",
       "      <td>0</td>\n",
       "      <td>0</td>\n",
       "      <td>0</td>\n",
       "      <td>0</td>\n",
       "      <td>0</td>\n",
       "      <td>1</td>\n",
       "      <td>0.581131</td>\n",
       "    </tr>\n",
       "    <tr>\n",
       "      <th>4</th>\n",
       "      <td>4</td>\n",
       "      <td>0.70</td>\n",
       "      <td>30.10</td>\n",
       "      <td>767.0</td>\n",
       "      <td>3300</td>\n",
       "      <td>50</td>\n",
       "      <td>0.0</td>\n",
       "      <td>0</td>\n",
       "      <td>1</td>\n",
       "      <td>57.0</td>\n",
       "      <td>2</td>\n",
       "      <td>0</td>\n",
       "      <td>1</td>\n",
       "      <td>0</td>\n",
       "      <td>0</td>\n",
       "      <td>0</td>\n",
       "      <td>0</td>\n",
       "      <td>0</td>\n",
       "      <td>1</td>\n",
       "      <td>1</td>\n",
       "      <td>0</td>\n",
       "      <td>0</td>\n",
       "      <td>0</td>\n",
       "      <td>0</td>\n",
       "      <td>0</td>\n",
       "      <td>0.790003</td>\n",
       "    </tr>\n",
       "  </tbody>\n",
       "</table></div>"
      ],
      "text/plain": [
       "   team  targeted_productivity    smv    wip  over_time  incentive  idle_time  \\\n",
       "0     9                   0.75   3.94    NaN        960          0        0.0   \n",
       "1     7                   0.65  30.10  909.0       7080          0        0.0   \n",
       "2     3                   0.80   4.15    NaN       1440          0        0.0   \n",
       "3     1                   0.65  22.53  762.0       5040          0        0.0   \n",
       "4     4                   0.70  30.10  767.0       3300         50        0.0   \n",
       "\n",
       "   idle_men  no_of_style_change  no_of_workers  month  quarter_Quarter1  \\\n",
       "0         0                   0            8.0      2                 1   \n",
       "1         0                   1           59.0      2                 0   \n",
       "2         0                   0            7.0      1                 0   \n",
       "3         0                   1           42.0      2                 0   \n",
       "4         0                   1           57.0      2                 0   \n",
       "\n",
       "   quarter_Quarter2  quarter_Quarter3  quarter_Quarter4  quarter_Quarter5  \\\n",
       "0                 0                 0                 0                 0   \n",
       "1                 1                 0                 0                 0   \n",
       "2                 1                 0                 0                 0   \n",
       "3                 0                 0                 1                 0   \n",
       "4                 1                 0                 0                 0   \n",
       "\n",
       "   department_finishing  department_finishing   department_sweing  day_Monday  \\\n",
       "0                     1                      0                  0           0   \n",
       "1                     0                      0                  1           0   \n",
       "2                     0                      1                  0           0   \n",
       "3                     0                      0                  1           0   \n",
       "4                     0                      0                  1           1   \n",
       "\n",
       "   day_Saturday  day_Sunday  day_Thursday  day_Tuesday  day_Wednesday  \\\n",
       "0             0           0             0            0              1   \n",
       "1             0           0             1            0              0   \n",
       "2             0           0             0            0              1   \n",
       "3             0           0             0            0              1   \n",
       "4             0           0             0            0              0   \n",
       "\n",
       "   actual_productivity  \n",
       "0             0.755167  \n",
       "1             0.535678  \n",
       "2             0.820833  \n",
       "3             0.581131  \n",
       "4             0.790003  "
      ]
     },
     "execution_count": 49,
     "metadata": {},
     "output_type": "execute_result"
    }
   ],
   "source": [
    "df_train= pd.read_csv(\"train_dataset.csv\")\n",
    "df_test= pd.read_csv(\"test_dataset.csv\")\n",
    "\n",
    "pd.set_option('display.max_columns', None)\n",
    "df_train.head()"
   ]
  },
  {
   "cell_type": "code",
   "execution_count": 22,
   "metadata": {},
   "outputs": [
    {
     "name": "stdout",
     "output_type": "stream",
     "text": [
      "<class 'pandas.core.frame.DataFrame'>\n",
      "RangeIndex: 1017 entries, 0 to 1016\n",
      "Data columns (total 26 columns):\n",
      " #   Column                 Non-Null Count  Dtype  \n",
      "---  ------                 --------------  -----  \n",
      " 0   team                   1017 non-null   int64  \n",
      " 1   targeted_productivity  1017 non-null   float64\n",
      " 2   smv                    1017 non-null   float64\n",
      " 3   wip                    594 non-null    float64\n",
      " 4   over_time              1017 non-null   int64  \n",
      " 5   incentive              1017 non-null   int64  \n",
      " 6   idle_time              1017 non-null   float64\n",
      " 7   idle_men               1017 non-null   int64  \n",
      " 8   no_of_style_change     1017 non-null   int64  \n",
      " 9   no_of_workers          1017 non-null   float64\n",
      " 10  month                  1017 non-null   int64  \n",
      " 11  quarter_Quarter1       1017 non-null   int64  \n",
      " 12  quarter_Quarter2       1017 non-null   int64  \n",
      " 13  quarter_Quarter3       1017 non-null   int64  \n",
      " 14  quarter_Quarter4       1017 non-null   int64  \n",
      " 15  quarter_Quarter5       1017 non-null   int64  \n",
      " 16  department_finishing   1017 non-null   int64  \n",
      " 17  department_finishing   1017 non-null   int64  \n",
      " 18  department_sweing      1017 non-null   int64  \n",
      " 19  day_Monday             1017 non-null   int64  \n",
      " 20  day_Saturday           1017 non-null   int64  \n",
      " 21  day_Sunday             1017 non-null   int64  \n",
      " 22  day_Thursday           1017 non-null   int64  \n",
      " 23  day_Tuesday            1017 non-null   int64  \n",
      " 24  day_Wednesday          1017 non-null   int64  \n",
      " 25  actual_productivity    1017 non-null   float64\n",
      "dtypes: float64(6), int64(20)\n",
      "memory usage: 206.7 KB\n"
     ]
    }
   ],
   "source": [
    "df_train.info()"
   ]
  },
  {
   "cell_type": "code",
   "execution_count": 40,
   "metadata": {},
   "outputs": [
    {
     "data": {
      "text/plain": [
       "team                      0.00000\n",
       "targeted_productivity     0.00000\n",
       "smv                       0.00000\n",
       "wip                      41.59292\n",
       "over_time                 0.00000\n",
       "incentive                 0.00000\n",
       "idle_time                 0.00000\n",
       "idle_men                  0.00000\n",
       "no_of_style_change        0.00000\n",
       "no_of_workers             0.00000\n",
       "month                     0.00000\n",
       "quarter_Quarter1          0.00000\n",
       "quarter_Quarter2          0.00000\n",
       "quarter_Quarter3          0.00000\n",
       "quarter_Quarter4          0.00000\n",
       "quarter_Quarter5          0.00000\n",
       "department_finishing      0.00000\n",
       "department_finishing      0.00000\n",
       "department_sweing         0.00000\n",
       "day_Monday                0.00000\n",
       "day_Saturday              0.00000\n",
       "day_Sunday                0.00000\n",
       "day_Thursday              0.00000\n",
       "day_Tuesday               0.00000\n",
       "day_Wednesday             0.00000\n",
       "actual_productivity       0.00000\n",
       "dtype: float64"
      ]
     },
     "execution_count": 40,
     "metadata": {},
     "output_type": "execute_result"
    }
   ],
   "source": [
    "df_train.isna().sum()*100/df_train.shape[0]"
   ]
  },
  {
   "cell_type": "code",
   "execution_count": 50,
   "metadata": {},
   "outputs": [
    {
     "data": {
      "text/plain": [
       "team                     0.000000\n",
       "targeted_productivity    0.000000\n",
       "smv                      0.000000\n",
       "wip                      8.161259\n",
       "over_time                0.000000\n",
       "incentive                0.000000\n",
       "idle_time                0.000000\n",
       "idle_men                 0.000000\n",
       "no_of_style_change       0.000000\n",
       "no_of_workers            0.000000\n",
       "month                    0.000000\n",
       "quarter_Quarter1         0.000000\n",
       "quarter_Quarter2         0.000000\n",
       "quarter_Quarter3         0.000000\n",
       "quarter_Quarter4         0.000000\n",
       "quarter_Quarter5         0.000000\n",
       "department_finishing     0.000000\n",
       "department_finishing     0.000000\n",
       "department_sweing        0.000000\n",
       "day_Monday               0.000000\n",
       "day_Saturday             0.000000\n",
       "day_Sunday               0.000000\n",
       "day_Thursday             0.000000\n",
       "day_Tuesday              0.000000\n",
       "day_Wednesday            0.000000\n",
       "dtype: float64"
      ]
     },
     "execution_count": 50,
     "metadata": {},
     "output_type": "execute_result"
    }
   ],
   "source": [
    "df_test.isna().sum()*100/df_train.shape[0]"
   ]
  },
  {
   "cell_type": "code",
   "execution_count": 51,
   "metadata": {},
   "outputs": [],
   "source": [
    "df_train[\"wip\"]=df_train[\"wip\"].fillna(df_train[\"wip\"].mean()) \n",
    "df_test[\"wip\"]=df_train[\"wip\"].fillna(df_train[\"wip\"].mean()) "
   ]
  },
  {
   "cell_type": "code",
   "execution_count": 57,
   "metadata": {},
   "outputs": [],
   "source": [
    "X= df_train.iloc[:,:-1]\n",
    "y = df_train[\"actual_productivity\"]"
   ]
  },
  {
   "cell_type": "code",
   "execution_count": 52,
   "metadata": {},
   "outputs": [],
   "source": [
    "model1= LinearRegression()\n",
    "model2 = KNeighborsRegressor(n_neighbors=5)"
   ]
  },
  {
   "cell_type": "code",
   "execution_count": 58,
   "metadata": {},
   "outputs": [
    {
     "data": {
      "text/plain": [
       "KNeighborsRegressor()"
      ]
     },
     "execution_count": 58,
     "metadata": {},
     "output_type": "execute_result"
    }
   ],
   "source": [
    "model1.fit(X,y)\n",
    "model2.fit(X,y)"
   ]
  },
  {
   "cell_type": "code",
   "execution_count": 59,
   "metadata": {},
   "outputs": [],
   "source": [
    "pred= model1.predict(df_test)"
   ]
  },
  {
   "cell_type": "code",
   "execution_count": null,
   "metadata": {},
   "outputs": [],
   "source": [
    "R_square= r2_score(y, model1.predict(X))"
   ]
  }
 ],
 "metadata": {
  "kernelspec": {
   "display_name": "Python 3",
   "language": "python",
   "name": "python3"
  },
  "language_info": {
   "codemirror_mode": {
    "name": "ipython",
    "version": 3
   },
   "file_extension": ".py",
   "mimetype": "text/x-python",
   "name": "python",
   "nbconvert_exporter": "python",
   "pygments_lexer": "ipython3",
   "version": "3.10.7"
  },
  "orig_nbformat": 4,
  "vscode": {
   "interpreter": {
    "hash": "d39aa46bdd4488d7b61f31574c0149215d818215e262d4130838f2f5046d0039"
   }
  }
 },
 "nbformat": 4,
 "nbformat_minor": 2
}
