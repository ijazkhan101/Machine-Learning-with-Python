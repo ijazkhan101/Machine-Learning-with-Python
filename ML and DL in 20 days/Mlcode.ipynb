{
 "cells": [
  {
   "attachments": {},
   "cell_type": "markdown",
   "metadata": {},
   "source": [
    "### Name : Ijaz Ullah "
   ]
  },
  {
   "attachments": {},
   "cell_type": "markdown",
   "metadata": {},
   "source": [
    "### Day 2 - Pipeline and scikit-learn library for machine learning"
   ]
  },
  {
   "attachments": {},
   "cell_type": "markdown",
   "metadata": {},
   "source": [
    "### without Using pipline "
   ]
  },
  {
   "cell_type": "code",
   "execution_count": 119,
   "metadata": {},
   "outputs": [],
   "source": [
    "import matplotlib.pylab as plt \n",
    "from sklearn.linear_model import LinearRegression \n",
    "from sklearn.metrics import mean_squared_error \n",
    "from sklearn.datasets import load_boston\n",
    "from sklearn.preprocessing import StandardScaler \n"
   ]
  },
  {
   "cell_type": "code",
   "execution_count": 120,
   "metadata": {},
   "outputs": [],
   "source": [
    "X,y =load_boston(return_X_y=True)"
   ]
  },
  {
   "cell_type": "code",
   "execution_count": 121,
   "metadata": {},
   "outputs": [
    {
     "data": {
      "text/plain": [
       "array([[6.3200e-03, 1.8000e+01, 2.3100e+00, ..., 1.5300e+01, 3.9690e+02,\n",
       "        4.9800e+00],\n",
       "       [2.7310e-02, 0.0000e+00, 7.0700e+00, ..., 1.7800e+01, 3.9690e+02,\n",
       "        9.1400e+00],\n",
       "       [2.7290e-02, 0.0000e+00, 7.0700e+00, ..., 1.7800e+01, 3.9283e+02,\n",
       "        4.0300e+00],\n",
       "       ...,\n",
       "       [6.0760e-02, 0.0000e+00, 1.1930e+01, ..., 2.1000e+01, 3.9690e+02,\n",
       "        5.6400e+00],\n",
       "       [1.0959e-01, 0.0000e+00, 1.1930e+01, ..., 2.1000e+01, 3.9345e+02,\n",
       "        6.4800e+00],\n",
       "       [4.7410e-02, 0.0000e+00, 1.1930e+01, ..., 2.1000e+01, 3.9690e+02,\n",
       "        7.8800e+00]])"
      ]
     },
     "execution_count": 121,
     "metadata": {},
     "output_type": "execute_result"
    }
   ],
   "source": [
    "X"
   ]
  },
  {
   "cell_type": "code",
   "execution_count": 123,
   "metadata": {},
   "outputs": [],
   "source": [
    "Scaler = StandardScaler()"
   ]
  },
  {
   "cell_type": "code",
   "execution_count": 122,
   "metadata": {},
   "outputs": [
    {
     "data": {
      "text/plain": [
       "array([[-0.41978194,  0.28482986, -1.2879095 , ..., -1.45900038,\n",
       "         0.44105193, -1.0755623 ],\n",
       "       [-0.41733926, -0.48772236, -0.59338101, ..., -0.30309415,\n",
       "         0.44105193, -0.49243937],\n",
       "       [-0.41734159, -0.48772236, -0.59338101, ..., -0.30309415,\n",
       "         0.39642699, -1.2087274 ],\n",
       "       ...,\n",
       "       [-0.41344658, -0.48772236,  0.11573841, ...,  1.17646583,\n",
       "         0.44105193, -0.98304761],\n",
       "       [-0.40776407, -0.48772236,  0.11573841, ...,  1.17646583,\n",
       "         0.4032249 , -0.86530163],\n",
       "       [-0.41500016, -0.48772236,  0.11573841, ...,  1.17646583,\n",
       "         0.44105193, -0.66905833]])"
      ]
     },
     "execution_count": 122,
     "metadata": {},
     "output_type": "execute_result"
    }
   ],
   "source": [
    "scaled_X = Scaler.fit_transform(X)\n",
    "scaled_X"
   ]
  },
  {
   "cell_type": "code",
   "execution_count": 124,
   "metadata": {},
   "outputs": [],
   "source": [
    "#liner regression \n",
    "lr= LinearRegression()"
   ]
  },
  {
   "cell_type": "code",
   "execution_count": 125,
   "metadata": {},
   "outputs": [
    {
     "data": {
      "text/html": [
       "<style>#sk-container-id-11 {color: black;background-color: white;}#sk-container-id-11 pre{padding: 0;}#sk-container-id-11 div.sk-toggleable {background-color: white;}#sk-container-id-11 label.sk-toggleable__label {cursor: pointer;display: block;width: 100%;margin-bottom: 0;padding: 0.3em;box-sizing: border-box;text-align: center;}#sk-container-id-11 label.sk-toggleable__label-arrow:before {content: \"▸\";float: left;margin-right: 0.25em;color: #696969;}#sk-container-id-11 label.sk-toggleable__label-arrow:hover:before {color: black;}#sk-container-id-11 div.sk-estimator:hover label.sk-toggleable__label-arrow:before {color: black;}#sk-container-id-11 div.sk-toggleable__content {max-height: 0;max-width: 0;overflow: hidden;text-align: left;background-color: #f0f8ff;}#sk-container-id-11 div.sk-toggleable__content pre {margin: 0.2em;color: black;border-radius: 0.25em;background-color: #f0f8ff;}#sk-container-id-11 input.sk-toggleable__control:checked~div.sk-toggleable__content {max-height: 200px;max-width: 100%;overflow: auto;}#sk-container-id-11 input.sk-toggleable__control:checked~label.sk-toggleable__label-arrow:before {content: \"▾\";}#sk-container-id-11 div.sk-estimator input.sk-toggleable__control:checked~label.sk-toggleable__label {background-color: #d4ebff;}#sk-container-id-11 div.sk-label input.sk-toggleable__control:checked~label.sk-toggleable__label {background-color: #d4ebff;}#sk-container-id-11 input.sk-hidden--visually {border: 0;clip: rect(1px 1px 1px 1px);clip: rect(1px, 1px, 1px, 1px);height: 1px;margin: -1px;overflow: hidden;padding: 0;position: absolute;width: 1px;}#sk-container-id-11 div.sk-estimator {font-family: monospace;background-color: #f0f8ff;border: 1px dotted black;border-radius: 0.25em;box-sizing: border-box;margin-bottom: 0.5em;}#sk-container-id-11 div.sk-estimator:hover {background-color: #d4ebff;}#sk-container-id-11 div.sk-parallel-item::after {content: \"\";width: 100%;border-bottom: 1px solid gray;flex-grow: 1;}#sk-container-id-11 div.sk-label:hover label.sk-toggleable__label {background-color: #d4ebff;}#sk-container-id-11 div.sk-serial::before {content: \"\";position: absolute;border-left: 1px solid gray;box-sizing: border-box;top: 0;bottom: 0;left: 50%;z-index: 0;}#sk-container-id-11 div.sk-serial {display: flex;flex-direction: column;align-items: center;background-color: white;padding-right: 0.2em;padding-left: 0.2em;position: relative;}#sk-container-id-11 div.sk-item {position: relative;z-index: 1;}#sk-container-id-11 div.sk-parallel {display: flex;align-items: stretch;justify-content: center;background-color: white;position: relative;}#sk-container-id-11 div.sk-item::before, #sk-container-id-11 div.sk-parallel-item::before {content: \"\";position: absolute;border-left: 1px solid gray;box-sizing: border-box;top: 0;bottom: 0;left: 50%;z-index: -1;}#sk-container-id-11 div.sk-parallel-item {display: flex;flex-direction: column;z-index: 1;position: relative;background-color: white;}#sk-container-id-11 div.sk-parallel-item:first-child::after {align-self: flex-end;width: 50%;}#sk-container-id-11 div.sk-parallel-item:last-child::after {align-self: flex-start;width: 50%;}#sk-container-id-11 div.sk-parallel-item:only-child::after {width: 0;}#sk-container-id-11 div.sk-dashed-wrapped {border: 1px dashed gray;margin: 0 0.4em 0.5em 0.4em;box-sizing: border-box;padding-bottom: 0.4em;background-color: white;}#sk-container-id-11 div.sk-label label {font-family: monospace;font-weight: bold;display: inline-block;line-height: 1.2em;}#sk-container-id-11 div.sk-label-container {text-align: center;}#sk-container-id-11 div.sk-container {/* jupyter's `normalize.less` sets `[hidden] { display: none; }` but bootstrap.min.css set `[hidden] { display: none !important; }` so we also need the `!important` here to be able to override the default hidden behavior on the sphinx rendered scikit-learn.org. See: https://github.com/scikit-learn/scikit-learn/issues/21755 */display: inline-block !important;position: relative;}#sk-container-id-11 div.sk-text-repr-fallback {display: none;}</style><div id=\"sk-container-id-11\" class=\"sk-top-container\"><div class=\"sk-text-repr-fallback\"><pre>LinearRegression()</pre><b>In a Jupyter environment, please rerun this cell to show the HTML representation or trust the notebook. <br />On GitHub, the HTML representation is unable to render, please try loading this page with nbviewer.org.</b></div><div class=\"sk-container\" hidden><div class=\"sk-item\"><div class=\"sk-estimator sk-toggleable\"><input class=\"sk-toggleable__control sk-hidden--visually\" id=\"sk-estimator-id-30\" type=\"checkbox\" checked><label for=\"sk-estimator-id-30\" class=\"sk-toggleable__label sk-toggleable__label-arrow\">LinearRegression</label><div class=\"sk-toggleable__content\"><pre>LinearRegression()</pre></div></div></div></div></div>"
      ],
      "text/plain": [
       "LinearRegression()"
      ]
     },
     "execution_count": 125,
     "metadata": {},
     "output_type": "execute_result"
    }
   ],
   "source": [
    "lr.fit(scaled_X,y)"
   ]
  },
  {
   "cell_type": "code",
   "execution_count": 126,
   "metadata": {},
   "outputs": [],
   "source": [
    "predicted_y= lr.predict(scaled_X)"
   ]
  },
  {
   "cell_type": "code",
   "execution_count": 127,
   "metadata": {},
   "outputs": [
    {
     "name": "stdout",
     "output_type": "stream",
     "text": [
      "21.8948311817292\n"
     ]
    }
   ],
   "source": [
    "print(mean_squared_error(y,predicted_y))"
   ]
  },
  {
   "cell_type": "code",
   "execution_count": 128,
   "metadata": {},
   "outputs": [
    {
     "data": {
      "text/plain": [
       "<matplotlib.collections.PathCollection at 0x204245b30d0>"
      ]
     },
     "execution_count": 128,
     "metadata": {},
     "output_type": "execute_result"
    },
    {
     "data": {
      "image/png": "[encoded data removed]",
      "text/plain": [
       "<Figure size 640x480 with 1 Axes>"
      ]
     },
     "metadata": {},
     "output_type": "display_data"
    }
   ],
   "source": [
    "plt.scatter(y,predicted_y)"
   ]
  },
  {
   "attachments": {},
   "cell_type": "markdown",
   "metadata": {},
   "source": [
    "### Using pipline "
   ]
  },
  {
   "cell_type": "code",
   "execution_count": 129,
   "metadata": {},
   "outputs": [],
   "source": [
    "import matplotlib.pylab as plt \n",
    "from sklearn.linear_model import LinearRegression \n",
    "from sklearn.metrics import mean_squared_error \n",
    "from sklearn.datasets import load_boston\n",
    "from sklearn.preprocessing import StandardScaler \n",
    "from sklearn.pipeline import Pipeline \n"
   ]
  },
  {
   "cell_type": "code",
   "execution_count": 13,
   "metadata": {},
   "outputs": [
    {
     "name": "stderr",
     "output_type": "stream",
     "text": [
      "C:\\Users\\Lenovo\\AppData\\Roaming\\Python\\Python310\\site-packages\\sklearn\\utils\\deprecation.py:87: FutureWarning: Function load_boston is deprecated; `load_boston` is deprecated in 1.0 and will be removed in 1.2.\n",
      "\n",
      "    The Boston housing prices dataset has an ethical problem. You can refer to\n",
      "    the documentation of this function for further details.\n",
      "\n",
      "    The scikit-learn maintainers therefore strongly discourage the use of this\n",
      "    dataset unless the purpose of the code is to study and educate about\n",
      "    ethical issues in data science and machine learning.\n",
      "\n",
      "    In this special case, you can fetch the dataset from the original\n",
      "    source::\n",
      "\n",
      "        import pandas as pd\n",
      "        import numpy as np\n",
      "\n",
      "        data_url = \"http://lib.stat.cmu.edu/datasets/boston\"\n",
      "        raw_df = pd.read_csv(data_url, sep=\"\\s+\", skiprows=22, header=None)\n",
      "        data = np.hstack([raw_df.values[::2, :], raw_df.values[1::2, :2]])\n",
      "        target = raw_df.values[1::2, 2]\n",
      "\n",
      "    Alternative datasets include the California housing dataset (i.e.\n",
      "    :func:`~sklearn.datasets.fetch_california_housing`) and the Ames housing\n",
      "    dataset. You can load the datasets as follows::\n",
      "\n",
      "        from sklearn.datasets import fetch_california_housing\n",
      "        housing = fetch_california_housing()\n",
      "\n",
      "    for the California housing dataset and::\n",
      "\n",
      "        from sklearn.datasets import fetch_openml\n",
      "        housing = fetch_openml(name=\"house_prices\", as_frame=True)\n",
      "\n",
      "    for the Ames housing dataset.\n",
      "  warnings.warn(msg, category=FutureWarning)\n"
     ]
    }
   ],
   "source": [
    "X,y = load_boston(return_X_y=True)"
   ]
  },
  {
   "cell_type": "code",
   "execution_count": 130,
   "metadata": {},
   "outputs": [],
   "source": [
    "pipe =Pipeline([(\"scaler:\",StandardScaler()),(\"Algo\",LinearRegression())])"
   ]
  },
  {
   "cell_type": "code",
   "execution_count": 131,
   "metadata": {},
   "outputs": [
    {
     "data": {
      "text/html": [
       "<style>#sk-container-id-12 {color: black;background-color: white;}#sk-container-id-12 pre{padding: 0;}#sk-container-id-12 div.sk-toggleable {background-color: white;}#sk-container-id-12 label.sk-toggleable__label {cursor: pointer;display: block;width: 100%;margin-bottom: 0;padding: 0.3em;box-sizing: border-box;text-align: center;}#sk-container-id-12 label.sk-toggleable__label-arrow:before {content: \"▸\";float: left;margin-right: 0.25em;color: #696969;}#sk-container-id-12 label.sk-toggleable__label-arrow:hover:before {color: black;}#sk-container-id-12 div.sk-estimator:hover label.sk-toggleable__label-arrow:before {color: black;}#sk-container-id-12 div.sk-toggleable__content {max-height: 0;max-width: 0;overflow: hidden;text-align: left;background-color: #f0f8ff;}#sk-container-id-12 div.sk-toggleable__content pre {margin: 0.2em;color: black;border-radius: 0.25em;background-color: #f0f8ff;}#sk-container-id-12 input.sk-toggleable__control:checked~div.sk-toggleable__content {max-height: 200px;max-width: 100%;overflow: auto;}#sk-container-id-12 input.sk-toggleable__control:checked~label.sk-toggleable__label-arrow:before {content: \"▾\";}#sk-container-id-12 div.sk-estimator input.sk-toggleable__control:checked~label.sk-toggleable__label {background-color: #d4ebff;}#sk-container-id-12 div.sk-label input.sk-toggleable__control:checked~label.sk-toggleable__label {background-color: #d4ebff;}#sk-container-id-12 input.sk-hidden--visually {border: 0;clip: rect(1px 1px 1px 1px);clip: rect(1px, 1px, 1px, 1px);height: 1px;margin: -1px;overflow: hidden;padding: 0;position: absolute;width: 1px;}#sk-container-id-12 div.sk-estimator {font-family: monospace;background-color: #f0f8ff;border: 1px dotted black;border-radius: 0.25em;box-sizing: border-box;margin-bottom: 0.5em;}#sk-container-id-12 div.sk-estimator:hover {background-color: #d4ebff;}#sk-container-id-12 div.sk-parallel-item::after {content: \"\";width: 100%;border-bottom: 1px solid gray;flex-grow: 1;}#sk-container-id-12 div.sk-label:hover label.sk-toggleable__label {background-color: #d4ebff;}#sk-container-id-12 div.sk-serial::before {content: \"\";position: absolute;border-left: 1px solid gray;box-sizing: border-box;top: 0;bottom: 0;left: 50%;z-index: 0;}#sk-container-id-12 div.sk-serial {display: flex;flex-direction: column;align-items: center;background-color: white;padding-right: 0.2em;padding-left: 0.2em;position: relative;}#sk-container-id-12 div.sk-item {position: relative;z-index: 1;}#sk-container-id-12 div.sk-parallel {display: flex;align-items: stretch;justify-content: center;background-color: white;position: relative;}#sk-container-id-12 div.sk-item::before, #sk-container-id-12 div.sk-parallel-item::before {content: \"\";position: absolute;border-left: 1px solid gray;box-sizing: border-box;top: 0;bottom: 0;left: 50%;z-index: -1;}#sk-container-id-12 div.sk-parallel-item {display: flex;flex-direction: column;z-index: 1;position: relative;background-color: white;}#sk-container-id-12 div.sk-parallel-item:first-child::after {align-self: flex-end;width: 50%;}#sk-container-id-12 div.sk-parallel-item:last-child::after {align-self: flex-start;width: 50%;}#sk-container-id-12 div.sk-parallel-item:only-child::after {width: 0;}#sk-container-id-12 div.sk-dashed-wrapped {border: 1px dashed gray;margin: 0 0.4em 0.5em 0.4em;box-sizing: border-box;padding-bottom: 0.4em;background-color: white;}#sk-container-id-12 div.sk-label label {font-family: monospace;font-weight: bold;display: inline-block;line-height: 1.2em;}#sk-container-id-12 div.sk-label-container {text-align: center;}#sk-container-id-12 div.sk-container {/* jupyter's `normalize.less` sets `[hidden] { display: none; }` but bootstrap.min.css set `[hidden] { display: none !important; }` so we also need the `!important` here to be able to override the default hidden behavior on the sphinx rendered scikit-learn.org. See: https://github.com/scikit-learn/scikit-learn/issues/21755 */display: inline-block !important;position: relative;}#sk-container-id-12 div.sk-text-repr-fallback {display: none;}</style><div id=\"sk-container-id-12\" class=\"sk-top-container\"><div class=\"sk-text-repr-fallback\"><pre>Pipeline(steps=[(&#x27;scaler:&#x27;, StandardScaler()), (&#x27;Algo&#x27;, LinearRegression())])</pre><b>In a Jupyter environment, please rerun this cell to show the HTML representation or trust the notebook. <br />On GitHub, the HTML representation is unable to render, please try loading this page with nbviewer.org.</b></div><div class=\"sk-container\" hidden><div class=\"sk-item sk-dashed-wrapped\"><div class=\"sk-label-container\"><div class=\"sk-label sk-toggleable\"><input class=\"sk-toggleable__control sk-hidden--visually\" id=\"sk-estimator-id-31\" type=\"checkbox\" ><label for=\"sk-estimator-id-31\" class=\"sk-toggleable__label sk-toggleable__label-arrow\">Pipeline</label><div class=\"sk-toggleable__content\"><pre>Pipeline(steps=[(&#x27;scaler:&#x27;, StandardScaler()), (&#x27;Algo&#x27;, LinearRegression())])</pre></div></div></div><div class=\"sk-serial\"><div class=\"sk-item\"><div class=\"sk-estimator sk-toggleable\"><input class=\"sk-toggleable__control sk-hidden--visually\" id=\"sk-estimator-id-32\" type=\"checkbox\" ><label for=\"sk-estimator-id-32\" class=\"sk-toggleable__label sk-toggleable__label-arrow\">StandardScaler</label><div class=\"sk-toggleable__content\"><pre>StandardScaler()</pre></div></div></div><div class=\"sk-item\"><div class=\"sk-estimator sk-toggleable\"><input class=\"sk-toggleable__control sk-hidden--visually\" id=\"sk-estimator-id-33\" type=\"checkbox\" ><label for=\"sk-estimator-id-33\" class=\"sk-toggleable__label sk-toggleable__label-arrow\">LinearRegression</label><div class=\"sk-toggleable__content\"><pre>LinearRegression()</pre></div></div></div></div></div></div></div>"
      ],
      "text/plain": [
       "Pipeline(steps=[('scaler:', StandardScaler()), ('Algo', LinearRegression())])"
      ]
     },
     "execution_count": 131,
     "metadata": {},
     "output_type": "execute_result"
    }
   ],
   "source": [
    "pipe"
   ]
  },
  {
   "cell_type": "code",
   "execution_count": 134,
   "metadata": {},
   "outputs": [
    {
     "data": {
      "text/html": [
       "<style>#sk-container-id-13 {color: black;background-color: white;}#sk-container-id-13 pre{padding: 0;}#sk-container-id-13 div.sk-toggleable {background-color: white;}#sk-container-id-13 label.sk-toggleable__label {cursor: pointer;display: block;width: 100%;margin-bottom: 0;padding: 0.3em;box-sizing: border-box;text-align: center;}#sk-container-id-13 label.sk-toggleable__label-arrow:before {content: \"▸\";float: left;margin-right: 0.25em;color: #696969;}#sk-container-id-13 label.sk-toggleable__label-arrow:hover:before {color: black;}#sk-container-id-13 div.sk-estimator:hover label.sk-toggleable__label-arrow:before {color: black;}#sk-container-id-13 div.sk-toggleable__content {max-height: 0;max-width: 0;overflow: hidden;text-align: left;background-color: #f0f8ff;}#sk-container-id-13 div.sk-toggleable__content pre {margin: 0.2em;color: black;border-radius: 0.25em;background-color: #f0f8ff;}#sk-container-id-13 input.sk-toggleable__control:checked~div.sk-toggleable__content {max-height: 200px;max-width: 100%;overflow: auto;}#sk-container-id-13 input.sk-toggleable__control:checked~label.sk-toggleable__label-arrow:before {content: \"▾\";}#sk-container-id-13 div.sk-estimator input.sk-toggleable__control:checked~label.sk-toggleable__label {background-color: #d4ebff;}#sk-container-id-13 div.sk-label input.sk-toggleable__control:checked~label.sk-toggleable__label {background-color: #d4ebff;}#sk-container-id-13 input.sk-hidden--visually {border: 0;clip: rect(1px 1px 1px 1px);clip: rect(1px, 1px, 1px, 1px);height: 1px;margin: -1px;overflow: hidden;padding: 0;position: absolute;width: 1px;}#sk-container-id-13 div.sk-estimator {font-family: monospace;background-color: #f0f8ff;border: 1px dotted black;border-radius: 0.25em;box-sizing: border-box;margin-bottom: 0.5em;}#sk-container-id-13 div.sk-estimator:hover {background-color: #d4ebff;}#sk-container-id-13 div.sk-parallel-item::after {content: \"\";width: 100%;border-bottom: 1px solid gray;flex-grow: 1;}#sk-container-id-13 div.sk-label:hover label.sk-toggleable__label {background-color: #d4ebff;}#sk-container-id-13 div.sk-serial::before {content: \"\";position: absolute;border-left: 1px solid gray;box-sizing: border-box;top: 0;bottom: 0;left: 50%;z-index: 0;}#sk-container-id-13 div.sk-serial {display: flex;flex-direction: column;align-items: center;background-color: white;padding-right: 0.2em;padding-left: 0.2em;position: relative;}#sk-container-id-13 div.sk-item {position: relative;z-index: 1;}#sk-container-id-13 div.sk-parallel {display: flex;align-items: stretch;justify-content: center;background-color: white;position: relative;}#sk-container-id-13 div.sk-item::before, #sk-container-id-13 div.sk-parallel-item::before {content: \"\";position: absolute;border-left: 1px solid gray;box-sizing: border-box;top: 0;bottom: 0;left: 50%;z-index: -1;}#sk-container-id-13 div.sk-parallel-item {display: flex;flex-direction: column;z-index: 1;position: relative;background-color: white;}#sk-container-id-13 div.sk-parallel-item:first-child::after {align-self: flex-end;width: 50%;}#sk-container-id-13 div.sk-parallel-item:last-child::after {align-self: flex-start;width: 50%;}#sk-container-id-13 div.sk-parallel-item:only-child::after {width: 0;}#sk-container-id-13 div.sk-dashed-wrapped {border: 1px dashed gray;margin: 0 0.4em 0.5em 0.4em;box-sizing: border-box;padding-bottom: 0.4em;background-color: white;}#sk-container-id-13 div.sk-label label {font-family: monospace;font-weight: bold;display: inline-block;line-height: 1.2em;}#sk-container-id-13 div.sk-label-container {text-align: center;}#sk-container-id-13 div.sk-container {/* jupyter's `normalize.less` sets `[hidden] { display: none; }` but bootstrap.min.css set `[hidden] { display: none !important; }` so we also need the `!important` here to be able to override the default hidden behavior on the sphinx rendered scikit-learn.org. See: https://github.com/scikit-learn/scikit-learn/issues/21755 */display: inline-block !important;position: relative;}#sk-container-id-13 div.sk-text-repr-fallback {display: none;}</style><div id=\"sk-container-id-13\" class=\"sk-top-container\"><div class=\"sk-text-repr-fallback\"><pre>Pipeline(steps=[(&#x27;scaler:&#x27;, StandardScaler()), (&#x27;Algo&#x27;, LinearRegression())])</pre><b>In a Jupyter environment, please rerun this cell to show the HTML representation or trust the notebook. <br />On GitHub, the HTML representation is unable to render, please try loading this page with nbviewer.org.</b></div><div class=\"sk-container\" hidden><div class=\"sk-item sk-dashed-wrapped\"><div class=\"sk-label-container\"><div class=\"sk-label sk-toggleable\"><input class=\"sk-toggleable__control sk-hidden--visually\" id=\"sk-estimator-id-34\" type=\"checkbox\" ><label for=\"sk-estimator-id-34\" class=\"sk-toggleable__label sk-toggleable__label-arrow\">Pipeline</label><div class=\"sk-toggleable__content\"><pre>Pipeline(steps=[(&#x27;scaler:&#x27;, StandardScaler()), (&#x27;Algo&#x27;, LinearRegression())])</pre></div></div></div><div class=\"sk-serial\"><div class=\"sk-item\"><div class=\"sk-estimator sk-toggleable\"><input class=\"sk-toggleable__control sk-hidden--visually\" id=\"sk-estimator-id-35\" type=\"checkbox\" ><label for=\"sk-estimator-id-35\" class=\"sk-toggleable__label sk-toggleable__label-arrow\">StandardScaler</label><div class=\"sk-toggleable__content\"><pre>StandardScaler()</pre></div></div></div><div class=\"sk-item\"><div class=\"sk-estimator sk-toggleable\"><input class=\"sk-toggleable__control sk-hidden--visually\" id=\"sk-estimator-id-36\" type=\"checkbox\" ><label for=\"sk-estimator-id-36\" class=\"sk-toggleable__label sk-toggleable__label-arrow\">LinearRegression</label><div class=\"sk-toggleable__content\"><pre>LinearRegression()</pre></div></div></div></div></div></div></div>"
      ],
      "text/plain": [
       "Pipeline(steps=[('scaler:', StandardScaler()), ('Algo', LinearRegression())])"
      ]
     },
     "execution_count": 134,
     "metadata": {},
     "output_type": "execute_result"
    }
   ],
   "source": [
    "pipe.fit(X,y)"
   ]
  },
  {
   "cell_type": "code",
   "execution_count": 135,
   "metadata": {},
   "outputs": [],
   "source": [
    "predicted_y=pipe.predict(X)"
   ]
  },
  {
   "cell_type": "code",
   "execution_count": 136,
   "metadata": {},
   "outputs": [
    {
     "data": {
      "text/plain": [
       "<matplotlib.collections.PathCollection at 0x20425018310>"
      ]
     },
     "execution_count": 136,
     "metadata": {},
     "output_type": "execute_result"
    },
    {
     "data": {
      "image/png": "[encoded data removed]",
      "text/plain": [
       "<Figure size 640x480 with 1 Axes>"
      ]
     },
     "metadata": {},
     "output_type": "display_data"
    }
   ],
   "source": [
    "plt.scatter(predicted_y,y)"
   ]
  },
  {
   "attachments": {},
   "cell_type": "markdown",
   "metadata": {},
   "source": [
    "### Assigment Day 2 : KKN Pipelines Date 12/12/2022"
   ]
  },
  {
   "cell_type": "code",
   "execution_count": 1,
   "metadata": {},
   "outputs": [],
   "source": [
    "import matplotlib.pylab as plt \n",
    "from sklearn.linear_model import LinearRegression \n",
    "from sklearn.metrics import mean_squared_error \n",
    "from sklearn.datasets import load_boston\n",
    "from sklearn.preprocessing import StandardScaler \n",
    "from sklearn.pipeline import Pipeline\n",
    "from sklearn.neighbors import KNeighborsRegressor"
   ]
  },
  {
   "cell_type": "code",
   "execution_count": 2,
   "metadata": {},
   "outputs": [
    {
     "name": "stderr",
     "output_type": "stream",
     "text": [
      "C:\\Users\\Lenovo\\AppData\\Roaming\\Python\\Python310\\site-packages\\sklearn\\utils\\deprecation.py:87: FutureWarning: Function load_boston is deprecated; `load_boston` is deprecated in 1.0 and will be removed in 1.2.\n",
      "\n",
      "    The Boston housing prices dataset has an ethical problem. You can refer to\n",
      "    the documentation of this function for further details.\n",
      "\n",
      "    The scikit-learn maintainers therefore strongly discourage the use of this\n",
      "    dataset unless the purpose of the code is to study and educate about\n",
      "    ethical issues in data science and machine learning.\n",
      "\n",
      "    In this special case, you can fetch the dataset from the original\n",
      "    source::\n",
      "\n",
      "        import pandas as pd\n",
      "        import numpy as np\n",
      "\n",
      "        data_url = \"http://lib.stat.cmu.edu/datasets/boston\"\n",
      "        raw_df = pd.read_csv(data_url, sep=\"\\s+\", skiprows=22, header=None)\n",
      "        data = np.hstack([raw_df.values[::2, :], raw_df.values[1::2, :2]])\n",
      "        target = raw_df.values[1::2, 2]\n",
      "\n",
      "    Alternative datasets include the California housing dataset (i.e.\n",
      "    :func:`~sklearn.datasets.fetch_california_housing`) and the Ames housing\n",
      "    dataset. You can load the datasets as follows::\n",
      "\n",
      "        from sklearn.datasets import fetch_california_housing\n",
      "        housing = fetch_california_housing()\n",
      "\n",
      "    for the California housing dataset and::\n",
      "\n",
      "        from sklearn.datasets import fetch_openml\n",
      "        housing = fetch_openml(name=\"house_prices\", as_frame=True)\n",
      "\n",
      "    for the Ames housing dataset.\n",
      "  warnings.warn(msg, category=FutureWarning)\n"
     ]
    }
   ],
   "source": [
    "X,y = load_boston(return_X_y=True)"
   ]
  },
  {
   "cell_type": "code",
   "execution_count": 4,
   "metadata": {},
   "outputs": [],
   "source": [
    "pipe =Pipeline([(\"scaler:\",StandardScaler()),(\"Algo\",KNeighborsRegressor())])"
   ]
  },
  {
   "cell_type": "code",
   "execution_count": 6,
   "metadata": {},
   "outputs": [
    {
     "data": {
      "text/html": [
       "<style>#sk-container-id-2 {color: black;background-color: white;}#sk-container-id-2 pre{padding: 0;}#sk-container-id-2 div.sk-toggleable {background-color: white;}#sk-container-id-2 label.sk-toggleable__label {cursor: pointer;display: block;width: 100%;margin-bottom: 0;padding: 0.3em;box-sizing: border-box;text-align: center;}#sk-container-id-2 label.sk-toggleable__label-arrow:before {content: \"▸\";float: left;margin-right: 0.25em;color: #696969;}#sk-container-id-2 label.sk-toggleable__label-arrow:hover:before {color: black;}#sk-container-id-2 div.sk-estimator:hover label.sk-toggleable__label-arrow:before {color: black;}#sk-container-id-2 div.sk-toggleable__content {max-height: 0;max-width: 0;overflow: hidden;text-align: left;background-color: #f0f8ff;}#sk-container-id-2 div.sk-toggleable__content pre {margin: 0.2em;color: black;border-radius: 0.25em;background-color: #f0f8ff;}#sk-container-id-2 input.sk-toggleable__control:checked~div.sk-toggleable__content {max-height: 200px;max-width: 100%;overflow: auto;}#sk-container-id-2 input.sk-toggleable__control:checked~label.sk-toggleable__label-arrow:before {content: \"▾\";}#sk-container-id-2 div.sk-estimator input.sk-toggleable__control:checked~label.sk-toggleable__label {background-color: #d4ebff;}#sk-container-id-2 div.sk-label input.sk-toggleable__control:checked~label.sk-toggleable__label {background-color: #d4ebff;}#sk-container-id-2 input.sk-hidden--visually {border: 0;clip: rect(1px 1px 1px 1px);clip: rect(1px, 1px, 1px, 1px);height: 1px;margin: -1px;overflow: hidden;padding: 0;position: absolute;width: 1px;}#sk-container-id-2 div.sk-estimator {font-family: monospace;background-color: #f0f8ff;border: 1px dotted black;border-radius: 0.25em;box-sizing: border-box;margin-bottom: 0.5em;}#sk-container-id-2 div.sk-estimator:hover {background-color: #d4ebff;}#sk-container-id-2 div.sk-parallel-item::after {content: \"\";width: 100%;border-bottom: 1px solid gray;flex-grow: 1;}#sk-container-id-2 div.sk-label:hover label.sk-toggleable__label {background-color: #d4ebff;}#sk-container-id-2 div.sk-serial::before {content: \"\";position: absolute;border-left: 1px solid gray;box-sizing: border-box;top: 0;bottom: 0;left: 50%;z-index: 0;}#sk-container-id-2 div.sk-serial {display: flex;flex-direction: column;align-items: center;background-color: white;padding-right: 0.2em;padding-left: 0.2em;position: relative;}#sk-container-id-2 div.sk-item {position: relative;z-index: 1;}#sk-container-id-2 div.sk-parallel {display: flex;align-items: stretch;justify-content: center;background-color: white;position: relative;}#sk-container-id-2 div.sk-item::before, #sk-container-id-2 div.sk-parallel-item::before {content: \"\";position: absolute;border-left: 1px solid gray;box-sizing: border-box;top: 0;bottom: 0;left: 50%;z-index: -1;}#sk-container-id-2 div.sk-parallel-item {display: flex;flex-direction: column;z-index: 1;position: relative;background-color: white;}#sk-container-id-2 div.sk-parallel-item:first-child::after {align-self: flex-end;width: 50%;}#sk-container-id-2 div.sk-parallel-item:last-child::after {align-self: flex-start;width: 50%;}#sk-container-id-2 div.sk-parallel-item:only-child::after {width: 0;}#sk-container-id-2 div.sk-dashed-wrapped {border: 1px dashed gray;margin: 0 0.4em 0.5em 0.4em;box-sizing: border-box;padding-bottom: 0.4em;background-color: white;}#sk-container-id-2 div.sk-label label {font-family: monospace;font-weight: bold;display: inline-block;line-height: 1.2em;}#sk-container-id-2 div.sk-label-container {text-align: center;}#sk-container-id-2 div.sk-container {/* jupyter's `normalize.less` sets `[hidden] { display: none; }` but bootstrap.min.css set `[hidden] { display: none !important; }` so we also need the `!important` here to be able to override the default hidden behavior on the sphinx rendered scikit-learn.org. See: https://github.com/scikit-learn/scikit-learn/issues/21755 */display: inline-block !important;position: relative;}#sk-container-id-2 div.sk-text-repr-fallback {display: none;}</style><div id=\"sk-container-id-2\" class=\"sk-top-container\"><div class=\"sk-text-repr-fallback\"><pre>Pipeline(steps=[(&#x27;scaler:&#x27;, StandardScaler()), (&#x27;Algo&#x27;, KNeighborsRegressor())])</pre><b>In a Jupyter environment, please rerun this cell to show the HTML representation or trust the notebook. <br />On GitHub, the HTML representation is unable to render, please try loading this page with nbviewer.org.</b></div><div class=\"sk-container\" hidden><div class=\"sk-item sk-dashed-wrapped\"><div class=\"sk-label-container\"><div class=\"sk-label sk-toggleable\"><input class=\"sk-toggleable__control sk-hidden--visually\" id=\"sk-estimator-id-4\" type=\"checkbox\" ><label for=\"sk-estimator-id-4\" class=\"sk-toggleable__label sk-toggleable__label-arrow\">Pipeline</label><div class=\"sk-toggleable__content\"><pre>Pipeline(steps=[(&#x27;scaler:&#x27;, StandardScaler()), (&#x27;Algo&#x27;, KNeighborsRegressor())])</pre></div></div></div><div class=\"sk-serial\"><div class=\"sk-item\"><div class=\"sk-estimator sk-toggleable\"><input class=\"sk-toggleable__control sk-hidden--visually\" id=\"sk-estimator-id-5\" type=\"checkbox\" ><label for=\"sk-estimator-id-5\" class=\"sk-toggleable__label sk-toggleable__label-arrow\">StandardScaler</label><div class=\"sk-toggleable__content\"><pre>StandardScaler()</pre></div></div></div><div class=\"sk-item\"><div class=\"sk-estimator sk-toggleable\"><input class=\"sk-toggleable__control sk-hidden--visually\" id=\"sk-estimator-id-6\" type=\"checkbox\" ><label for=\"sk-estimator-id-6\" class=\"sk-toggleable__label sk-toggleable__label-arrow\">KNeighborsRegressor</label><div class=\"sk-toggleable__content\"><pre>KNeighborsRegressor()</pre></div></div></div></div></div></div></div>"
      ],
      "text/plain": [
       "Pipeline(steps=[('scaler:', StandardScaler()), ('Algo', KNeighborsRegressor())])"
      ]
     },
     "execution_count": 6,
     "metadata": {},
     "output_type": "execute_result"
    }
   ],
   "source": [
    "pipe"
   ]
  },
  {
   "cell_type": "code",
   "execution_count": 7,
   "metadata": {},
   "outputs": [
    {
     "data": {
      "text/html": [
       "<style>#sk-container-id-3 {color: black;background-color: white;}#sk-container-id-3 pre{padding: 0;}#sk-container-id-3 div.sk-toggleable {background-color: white;}#sk-container-id-3 label.sk-toggleable__label {cursor: pointer;display: block;width: 100%;margin-bottom: 0;padding: 0.3em;box-sizing: border-box;text-align: center;}#sk-container-id-3 label.sk-toggleable__label-arrow:before {content: \"▸\";float: left;margin-right: 0.25em;color: #696969;}#sk-container-id-3 label.sk-toggleable__label-arrow:hover:before {color: black;}#sk-container-id-3 div.sk-estimator:hover label.sk-toggleable__label-arrow:before {color: black;}#sk-container-id-3 div.sk-toggleable__content {max-height: 0;max-width: 0;overflow: hidden;text-align: left;background-color: #f0f8ff;}#sk-container-id-3 div.sk-toggleable__content pre {margin: 0.2em;color: black;border-radius: 0.25em;background-color: #f0f8ff;}#sk-container-id-3 input.sk-toggleable__control:checked~div.sk-toggleable__content {max-height: 200px;max-width: 100%;overflow: auto;}#sk-container-id-3 input.sk-toggleable__control:checked~label.sk-toggleable__label-arrow:before {content: \"▾\";}#sk-container-id-3 div.sk-estimator input.sk-toggleable__control:checked~label.sk-toggleable__label {background-color: #d4ebff;}#sk-container-id-3 div.sk-label input.sk-toggleable__control:checked~label.sk-toggleable__label {background-color: #d4ebff;}#sk-container-id-3 input.sk-hidden--visually {border: 0;clip: rect(1px 1px 1px 1px);clip: rect(1px, 1px, 1px, 1px);height: 1px;margin: -1px;overflow: hidden;padding: 0;position: absolute;width: 1px;}#sk-container-id-3 div.sk-estimator {font-family: monospace;background-color: #f0f8ff;border: 1px dotted black;border-radius: 0.25em;box-sizing: border-box;margin-bottom: 0.5em;}#sk-container-id-3 div.sk-estimator:hover {background-color: #d4ebff;}#sk-container-id-3 div.sk-parallel-item::after {content: \"\";width: 100%;border-bottom: 1px solid gray;flex-grow: 1;}#sk-container-id-3 div.sk-label:hover label.sk-toggleable__label {background-color: #d4ebff;}#sk-container-id-3 div.sk-serial::before {content: \"\";position: absolute;border-left: 1px solid gray;box-sizing: border-box;top: 0;bottom: 0;left: 50%;z-index: 0;}#sk-container-id-3 div.sk-serial {display: flex;flex-direction: column;align-items: center;background-color: white;padding-right: 0.2em;padding-left: 0.2em;position: relative;}#sk-container-id-3 div.sk-item {position: relative;z-index: 1;}#sk-container-id-3 div.sk-parallel {display: flex;align-items: stretch;justify-content: center;background-color: white;position: relative;}#sk-container-id-3 div.sk-item::before, #sk-container-id-3 div.sk-parallel-item::before {content: \"\";position: absolute;border-left: 1px solid gray;box-sizing: border-box;top: 0;bottom: 0;left: 50%;z-index: -1;}#sk-container-id-3 div.sk-parallel-item {display: flex;flex-direction: column;z-index: 1;position: relative;background-color: white;}#sk-container-id-3 div.sk-parallel-item:first-child::after {align-self: flex-end;width: 50%;}#sk-container-id-3 div.sk-parallel-item:last-child::after {align-self: flex-start;width: 50%;}#sk-container-id-3 div.sk-parallel-item:only-child::after {width: 0;}#sk-container-id-3 div.sk-dashed-wrapped {border: 1px dashed gray;margin: 0 0.4em 0.5em 0.4em;box-sizing: border-box;padding-bottom: 0.4em;background-color: white;}#sk-container-id-3 div.sk-label label {font-family: monospace;font-weight: bold;display: inline-block;line-height: 1.2em;}#sk-container-id-3 div.sk-label-container {text-align: center;}#sk-container-id-3 div.sk-container {/* jupyter's `normalize.less` sets `[hidden] { display: none; }` but bootstrap.min.css set `[hidden] { display: none !important; }` so we also need the `!important` here to be able to override the default hidden behavior on the sphinx rendered scikit-learn.org. See: https://github.com/scikit-learn/scikit-learn/issues/21755 */display: inline-block !important;position: relative;}#sk-container-id-3 div.sk-text-repr-fallback {display: none;}</style><div id=\"sk-container-id-3\" class=\"sk-top-container\"><div class=\"sk-text-repr-fallback\"><pre>Pipeline(steps=[(&#x27;scaler:&#x27;, StandardScaler()), (&#x27;Algo&#x27;, KNeighborsRegressor())])</pre><b>In a Jupyter environment, please rerun this cell to show the HTML representation or trust the notebook. <br />On GitHub, the HTML representation is unable to render, please try loading this page with nbviewer.org.</b></div><div class=\"sk-container\" hidden><div class=\"sk-item sk-dashed-wrapped\"><div class=\"sk-label-container\"><div class=\"sk-label sk-toggleable\"><input class=\"sk-toggleable__control sk-hidden--visually\" id=\"sk-estimator-id-7\" type=\"checkbox\" ><label for=\"sk-estimator-id-7\" class=\"sk-toggleable__label sk-toggleable__label-arrow\">Pipeline</label><div class=\"sk-toggleable__content\"><pre>Pipeline(steps=[(&#x27;scaler:&#x27;, StandardScaler()), (&#x27;Algo&#x27;, KNeighborsRegressor())])</pre></div></div></div><div class=\"sk-serial\"><div class=\"sk-item\"><div class=\"sk-estimator sk-toggleable\"><input class=\"sk-toggleable__control sk-hidden--visually\" id=\"sk-estimator-id-8\" type=\"checkbox\" ><label for=\"sk-estimator-id-8\" class=\"sk-toggleable__label sk-toggleable__label-arrow\">StandardScaler</label><div class=\"sk-toggleable__content\"><pre>StandardScaler()</pre></div></div></div><div class=\"sk-item\"><div class=\"sk-estimator sk-toggleable\"><input class=\"sk-toggleable__control sk-hidden--visually\" id=\"sk-estimator-id-9\" type=\"checkbox\" ><label for=\"sk-estimator-id-9\" class=\"sk-toggleable__label sk-toggleable__label-arrow\">KNeighborsRegressor</label><div class=\"sk-toggleable__content\"><pre>KNeighborsRegressor()</pre></div></div></div></div></div></div></div>"
      ],
      "text/plain": [
       "Pipeline(steps=[('scaler:', StandardScaler()), ('Algo', KNeighborsRegressor())])"
      ]
     },
     "execution_count": 7,
     "metadata": {},
     "output_type": "execute_result"
    }
   ],
   "source": [
    "pipe.fit(X,y)"
   ]
  },
  {
   "cell_type": "code",
   "execution_count": 8,
   "metadata": {},
   "outputs": [],
   "source": [
    "predicted_y=pipe.predict(X)"
   ]
  },
  {
   "cell_type": "code",
   "execution_count": 9,
   "metadata": {},
   "outputs": [
    {
     "data": {
      "text/plain": [
       "<matplotlib.collections.PathCollection at 0x2269f3ede70>"
      ]
     },
     "execution_count": 9,
     "metadata": {},
     "output_type": "execute_result"
    },
    {
     "data": {
      "image/png": "[encoded data removed]",
      "text/plain": [
       "<Figure size 640x480 with 1 Axes>"
      ]
     },
     "metadata": {},
     "output_type": "display_data"
    }
   ],
   "source": [
    "plt.scatter(predicted_y,y)"
   ]
  },
  {
   "attachments": {},
   "cell_type": "markdown",
   "metadata": {},
   "source": [
    "### Model Grid Search CV  : Model grid search CV in scikit learn (Part-2)\n"
   ]
  },
  {
   "cell_type": "code",
   "execution_count": 35,
   "metadata": {},
   "outputs": [],
   "source": [
    "import matplotlib.pylab as plt \n",
    "from sklearn.linear_model import LinearRegression \n",
    "from sklearn.metrics import mean_squared_error \n",
    "from sklearn.datasets import load_boston\n",
    "from sklearn.preprocessing import StandardScaler \n",
    "from sklearn.pipeline import Pipeline \n",
    "from sklearn.model_selection import GridSearchCV\n",
    "from sklearn.neighbors import KNeighborsRegressor\n",
    "import warnings \n",
    "warnings.filterwarnings('ignore')"
   ]
  },
  {
   "cell_type": "code",
   "execution_count": 36,
   "metadata": {},
   "outputs": [],
   "source": [
    "X,y =load_boston(return_X_y=True)"
   ]
  },
  {
   "cell_type": "code",
   "execution_count": 37,
   "metadata": {},
   "outputs": [],
   "source": [
    "pipe =Pipeline([\n",
    "    ('scaler',StandardScaler()),\n",
    "    (\"algo\",KNeighborsRegressor())]\n",
    ")"
   ]
  },
  {
   "cell_type": "code",
   "execution_count": 4,
   "metadata": {},
   "outputs": [
    {
     "data": {
      "text/plain": [
       "{'memory': None,\n",
       " 'steps': [('scaler', StandardScaler()), ('algo', KNeighborsRegressor())],\n",
       " 'verbose': False,\n",
       " 'scaler': StandardScaler(),\n",
       " 'algo': KNeighborsRegressor(),\n",
       " 'scaler__copy': True,\n",
       " 'scaler__with_mean': True,\n",
       " 'scaler__with_std': True,\n",
       " 'algo__algorithm': 'auto',\n",
       " 'algo__leaf_size': 30,\n",
       " 'algo__metric': 'minkowski',\n",
       " 'algo__metric_params': None,\n",
       " 'algo__n_jobs': None,\n",
       " 'algo__n_neighbors': 5,\n",
       " 'algo__p': 2,\n",
       " 'algo__weights': 'uniform'}"
      ]
     },
     "execution_count": 4,
     "metadata": {},
     "output_type": "execute_result"
    }
   ],
   "source": [
    "pipe.get_params()"
   ]
  },
  {
   "cell_type": "code",
   "execution_count": 5,
   "metadata": {},
   "outputs": [],
   "source": [
    "model =GridSearchCV(\n",
    "    estimator=pipe,\n",
    "    param_grid= {'algo__n_neighbors': [1,2,3,4,5,6,7,8,9,10]},\n",
    "    cv=5\n",
    ")"
   ]
  },
  {
   "cell_type": "code",
   "execution_count": 6,
   "metadata": {},
   "outputs": [
    {
     "data": {
      "text/html": [
       "<style>#sk-container-id-1 {color: black;background-color: white;}#sk-container-id-1 pre{padding: 0;}#sk-container-id-1 div.sk-toggleable {background-color: white;}#sk-container-id-1 label.sk-toggleable__label {cursor: pointer;display: block;width: 100%;margin-bottom: 0;padding: 0.3em;box-sizing: border-box;text-align: center;}#sk-container-id-1 label.sk-toggleable__label-arrow:before {content: \"▸\";float: left;margin-right: 0.25em;color: #696969;}#sk-container-id-1 label.sk-toggleable__label-arrow:hover:before {color: black;}#sk-container-id-1 div.sk-estimator:hover label.sk-toggleable__label-arrow:before {color: black;}#sk-container-id-1 div.sk-toggleable__content {max-height: 0;max-width: 0;overflow: hidden;text-align: left;background-color: #f0f8ff;}#sk-container-id-1 div.sk-toggleable__content pre {margin: 0.2em;color: black;border-radius: 0.25em;background-color: #f0f8ff;}#sk-container-id-1 input.sk-toggleable__control:checked~div.sk-toggleable__content {max-height: 200px;max-width: 100%;overflow: auto;}#sk-container-id-1 input.sk-toggleable__control:checked~label.sk-toggleable__label-arrow:before {content: \"▾\";}#sk-container-id-1 div.sk-estimator input.sk-toggleable__control:checked~label.sk-toggleable__label {background-color: #d4ebff;}#sk-container-id-1 div.sk-label input.sk-toggleable__control:checked~label.sk-toggleable__label {background-color: #d4ebff;}#sk-container-id-1 input.sk-hidden--visually {border: 0;clip: rect(1px 1px 1px 1px);clip: rect(1px, 1px, 1px, 1px);height: 1px;margin: -1px;overflow: hidden;padding: 0;position: absolute;width: 1px;}#sk-container-id-1 div.sk-estimator {font-family: monospace;background-color: #f0f8ff;border: 1px dotted black;border-radius: 0.25em;box-sizing: border-box;margin-bottom: 0.5em;}#sk-container-id-1 div.sk-estimator:hover {background-color: #d4ebff;}#sk-container-id-1 div.sk-parallel-item::after {content: \"\";width: 100%;border-bottom: 1px solid gray;flex-grow: 1;}#sk-container-id-1 div.sk-label:hover label.sk-toggleable__label {background-color: #d4ebff;}#sk-container-id-1 div.sk-serial::before {content: \"\";position: absolute;border-left: 1px solid gray;box-sizing: border-box;top: 0;bottom: 0;left: 50%;z-index: 0;}#sk-container-id-1 div.sk-serial {display: flex;flex-direction: column;align-items: center;background-color: white;padding-right: 0.2em;padding-left: 0.2em;position: relative;}#sk-container-id-1 div.sk-item {position: relative;z-index: 1;}#sk-container-id-1 div.sk-parallel {display: flex;align-items: stretch;justify-content: center;background-color: white;position: relative;}#sk-container-id-1 div.sk-item::before, #sk-container-id-1 div.sk-parallel-item::before {content: \"\";position: absolute;border-left: 1px solid gray;box-sizing: border-box;top: 0;bottom: 0;left: 50%;z-index: -1;}#sk-container-id-1 div.sk-parallel-item {display: flex;flex-direction: column;z-index: 1;position: relative;background-color: white;}#sk-container-id-1 div.sk-parallel-item:first-child::after {align-self: flex-end;width: 50%;}#sk-container-id-1 div.sk-parallel-item:last-child::after {align-self: flex-start;width: 50%;}#sk-container-id-1 div.sk-parallel-item:only-child::after {width: 0;}#sk-container-id-1 div.sk-dashed-wrapped {border: 1px dashed gray;margin: 0 0.4em 0.5em 0.4em;box-sizing: border-box;padding-bottom: 0.4em;background-color: white;}#sk-container-id-1 div.sk-label label {font-family: monospace;font-weight: bold;display: inline-block;line-height: 1.2em;}#sk-container-id-1 div.sk-label-container {text-align: center;}#sk-container-id-1 div.sk-container {/* jupyter's `normalize.less` sets `[hidden] { display: none; }` but bootstrap.min.css set `[hidden] { display: none !important; }` so we also need the `!important` here to be able to override the default hidden behavior on the sphinx rendered scikit-learn.org. See: https://github.com/scikit-learn/scikit-learn/issues/21755 */display: inline-block !important;position: relative;}#sk-container-id-1 div.sk-text-repr-fallback {display: none;}</style><div id=\"sk-container-id-1\" class=\"sk-top-container\"><div class=\"sk-text-repr-fallback\"><pre>GridSearchCV(cv=5,\n",
       "             estimator=Pipeline(steps=[(&#x27;scaler&#x27;, StandardScaler()),\n",
       "                                       (&#x27;algo&#x27;, KNeighborsRegressor())]),\n",
       "             param_grid={&#x27;algo__n_neighbors&#x27;: [1, 2, 3, 4, 5, 6, 7, 8, 9, 10]})</pre><b>In a Jupyter environment, please rerun this cell to show the HTML representation or trust the notebook. <br />On GitHub, the HTML representation is unable to render, please try loading this page with nbviewer.org.</b></div><div class=\"sk-container\" hidden><div class=\"sk-item sk-dashed-wrapped\"><div class=\"sk-label-container\"><div class=\"sk-label sk-toggleable\"><input class=\"sk-toggleable__control sk-hidden--visually\" id=\"sk-estimator-id-1\" type=\"checkbox\" ><label for=\"sk-estimator-id-1\" class=\"sk-toggleable__label sk-toggleable__label-arrow\">GridSearchCV</label><div class=\"sk-toggleable__content\"><pre>GridSearchCV(cv=5,\n",
       "             estimator=Pipeline(steps=[(&#x27;scaler&#x27;, StandardScaler()),\n",
       "                                       (&#x27;algo&#x27;, KNeighborsRegressor())]),\n",
       "             param_grid={&#x27;algo__n_neighbors&#x27;: [1, 2, 3, 4, 5, 6, 7, 8, 9, 10]})</pre></div></div></div><div class=\"sk-parallel\"><div class=\"sk-parallel-item\"><div class=\"sk-item\"><div class=\"sk-label-container\"><div class=\"sk-label sk-toggleable\"><input class=\"sk-toggleable__control sk-hidden--visually\" id=\"sk-estimator-id-2\" type=\"checkbox\" ><label for=\"sk-estimator-id-2\" class=\"sk-toggleable__label sk-toggleable__label-arrow\">estimator: Pipeline</label><div class=\"sk-toggleable__content\"><pre>Pipeline(steps=[(&#x27;scaler&#x27;, StandardScaler()), (&#x27;algo&#x27;, KNeighborsRegressor())])</pre></div></div></div><div class=\"sk-serial\"><div class=\"sk-item\"><div class=\"sk-serial\"><div class=\"sk-item\"><div class=\"sk-estimator sk-toggleable\"><input class=\"sk-toggleable__control sk-hidden--visually\" id=\"sk-estimator-id-3\" type=\"checkbox\" ><label for=\"sk-estimator-id-3\" class=\"sk-toggleable__label sk-toggleable__label-arrow\">StandardScaler</label><div class=\"sk-toggleable__content\"><pre>StandardScaler()</pre></div></div></div><div class=\"sk-item\"><div class=\"sk-estimator sk-toggleable\"><input class=\"sk-toggleable__control sk-hidden--visually\" id=\"sk-estimator-id-4\" type=\"checkbox\" ><label for=\"sk-estimator-id-4\" class=\"sk-toggleable__label sk-toggleable__label-arrow\">KNeighborsRegressor</label><div class=\"sk-toggleable__content\"><pre>KNeighborsRegressor()</pre></div></div></div></div></div></div></div></div></div></div></div></div>"
      ],
      "text/plain": [
       "GridSearchCV(cv=5,\n",
       "             estimator=Pipeline(steps=[('scaler', StandardScaler()),\n",
       "                                       ('algo', KNeighborsRegressor())]),\n",
       "             param_grid={'algo__n_neighbors': [1, 2, 3, 4, 5, 6, 7, 8, 9, 10]})"
      ]
     },
     "execution_count": 6,
     "metadata": {},
     "output_type": "execute_result"
    }
   ],
   "source": [
    "model.fit(X,y)"
   ]
  },
  {
   "cell_type": "code",
   "execution_count": 7,
   "metadata": {},
   "outputs": [
    {
     "data": {
      "text/plain": [
       "array([25.96666667, 23.02222222, 32.57777778, 28.26666667, 30.42222222,\n",
       "       26.51111111, 21.63333333, 19.31111111, 18.63333333, 20.16666667,\n",
       "       19.31111111, 20.6       , 20.85555556, 19.2       , 18.26666667,\n",
       "       19.74444444, 21.86666667, 17.08888889, 20.24444444, 18.76666667,\n",
       "       14.96666667, 17.21111111, 15.47777778, 15.37777778, 15.57777778,\n",
       "       15.26666667, 16.08888889, 14.96666667, 17.4       , 20.33333333,\n",
       "       14.44444444, 16.52222222, 13.83333333, 14.97777778, 13.83333333,\n",
       "       20.01111111, 20.95555556, 21.41111111, 22.65555556, 30.47777778,\n",
       "       32.75555556, 24.64444444, 24.27777778, 24.27777778, 21.71111111,\n",
       "       21.81111111, 21.44444444, 20.24444444, 16.44444444, 19.96666667,\n",
       "       20.11111111, 21.64444444, 24.71111111, 22.26666667, 20.05555556,\n",
       "       31.47777778, 26.34444444, 31.66666667, 23.66666667, 22.35555556,\n",
       "       19.44444444, 18.68888889, 22.4       , 23.6       , 27.14444444,\n",
       "       25.34444444, 22.2       , 22.46666667, 19.8       , 21.17777778,\n",
       "       24.15555556, 22.86666667, 23.75555556, 23.75555556, 23.53333333,\n",
       "       22.77777778, 21.48888889, 22.64444444, 21.81111111, 22.8       ,\n",
       "       25.95555556, 25.92222222, 24.1       , 23.27777778, 23.18888889,\n",
       "       25.33333333, 21.88888889, 23.81111111, 29.94444444, 29.43333333,\n",
       "       25.62222222, 25.62222222, 24.54444444, 24.4       , 22.34444444,\n",
       "       25.88888889, 24.58888889, 40.64444444, 40.14444444, 35.71111111,\n",
       "       21.82222222, 22.25555556, 15.6       , 19.45555556, 20.56666667,\n",
       "       18.96666667, 17.88888889, 19.37777778, 20.6       , 19.2       ,\n",
       "       21.5       , 22.56666667, 19.03333333, 19.03333333, 19.62222222,\n",
       "       19.02222222, 19.96666667, 19.08888889, 18.86666667, 19.52222222,\n",
       "       19.08888889, 19.08888889, 19.02222222, 18.14444444, 18.84444444,\n",
       "       19.08888889, 18.14444444, 16.73333333, 18.73333333, 16.38888889,\n",
       "       18.73333333, 18.73333333, 18.73333333, 17.43333333, 16.56666667,\n",
       "       18.73333333, 16.73333333, 18.73333333, 16.38888889, 16.73333333,\n",
       "       16.24444444, 13.36666667, 15.84444444, 16.61111111, 16.61111111,\n",
       "       16.86666667, 17.77777778, 16.61111111, 16.61111111, 16.81111111,\n",
       "       19.13333333, 18.58888889, 19.21111111, 17.47777778, 22.9       ,\n",
       "       16.68888889, 18.12222222, 31.35555556, 24.41111111, 23.43333333,\n",
       "       27.22222222, 32.02222222, 31.08888889, 32.61111111, 24.41111111,\n",
       "       24.41111111, 35.86666667, 22.08888889, 24.41111111, 24.41111111,\n",
       "       21.85555556, 24.41111111, 22.66666667, 25.8       , 24.91111111,\n",
       "       28.02222222, 25.45555556, 24.85555556, 26.3       , 28.02222222,\n",
       "       35.68888889, 24.45555556, 32.54444444, 27.42222222, 24.72222222,\n",
       "       25.25555556, 39.37777778, 31.34444444, 31.34444444, 32.04444444,\n",
       "       32.03333333, 29.88888889, 32.96666667, 27.72222222, 27.07777778,\n",
       "       40.57777778, 34.23333333, 30.34444444, 34.23333333, 28.91111111,\n",
       "       33.14444444, 24.38888889, 40.43333333, 40.57777778, 40.57777778,\n",
       "       22.52222222, 23.45555556, 19.08888889, 23.97777778, 21.66666667,\n",
       "       21.63333333, 21.66666667, 22.23333333, 24.22222222, 21.47777778,\n",
       "       23.44444444, 23.45555556, 23.42222222, 21.92222222, 24.97777778,\n",
       "       24.51111111, 22.62222222, 24.42222222, 25.55555556, 40.45555556,\n",
       "       42.51111111, 40.45555556, 29.75555556, 37.88888889, 26.01111111,\n",
       "       21.16666667, 30.87777778, 41.58888889, 41.58888889, 26.1       ,\n",
       "       22.41111111, 24.42222222, 31.38888889, 24.44444444, 24.44444444,\n",
       "       23.22222222, 21.66666667, 21.84444444, 24.87777778, 18.9       ,\n",
       "       18.32222222, 23.35555556, 19.78888889, 22.56666667, 25.23333333,\n",
       "       24.81111111, 24.81111111, 25.4       , 29.5       , 22.28888889,\n",
       "       22.28888889, 40.76666667, 41.41111111, 37.77777778, 37.05555556,\n",
       "       37.18888889, 37.77777778, 41.41111111, 37.77777778, 37.05555556,\n",
       "       25.91111111, 37.18888889, 41.41111111, 38.6       , 23.97777778,\n",
       "       21.65555556, 25.86666667, 24.35555556, 32.02222222, 31.35555556,\n",
       "       28.48888889, 31.35555556, 31.35555556, 25.96666667, 29.61111111,\n",
       "       40.06666667, 30.63333333, 32.02222222, 42.83333333, 32.76666667,\n",
       "       25.58888889, 21.92222222, 23.5       , 23.8       , 23.84444444,\n",
       "       31.24444444, 33.55555556, 29.07777778, 24.08888889, 22.67777778,\n",
       "       25.21111111, 23.31111111, 21.17777778, 24.6       , 30.16666667,\n",
       "       27.23333333, 25.81111111, 25.15555556, 29.13333333, 29.27777778,\n",
       "       28.71111111, 32.15555556, 30.25555556, 24.41111111, 20.38888889,\n",
       "       20.95555556, 21.93333333, 19.87777778, 20.54444444, 23.62222222,\n",
       "       19.33333333, 18.94444444, 19.31111111, 21.82222222, 21.53333333,\n",
       "       23.91111111, 23.43333333, 21.23333333, 18.3       , 23.73333333,\n",
       "       23.91111111, 22.37777778, 20.64444444, 20.92222222, 24.57777778,\n",
       "       20.33333333, 20.37777778, 22.8       , 21.74444444, 21.06666667,\n",
       "       20.75555556, 20.11111111, 19.75555556, 21.11111111, 20.11111111,\n",
       "       20.01111111, 30.46666667, 21.48888889, 26.25555556, 30.1       ,\n",
       "       20.51111111, 19.72222222, 26.86666667, 27.97777778, 26.25555556,\n",
       "       24.34444444, 22.94444444, 21.61111111, 26.16666667, 21.24444444,\n",
       "       21.24444444, 28.74444444, 29.76666667, 30.38888889, 19.93333333,\n",
       "       19.67777778, 18.14444444, 19.76666667, 29.54444444, 37.12222222,\n",
       "       23.15555556, 17.16666667, 16.93333333, 27.53333333, 30.87777778,\n",
       "       33.43333333, 21.32222222, 34.        , 10.3       , 10.36666667,\n",
       "       14.36666667, 12.57777778, 12.83333333, 10.2       , 10.68888889,\n",
       "        8.46666667, 12.57777778, 11.92222222, 12.26666667, 10.36666667,\n",
       "       10.48888889,  9.75555556,  9.66666667, 10.21111111, 13.01111111,\n",
       "       15.25555556, 16.76666667, 11.2       , 15.58888889, 13.33333333,\n",
       "       14.08888889, 14.88888889, 13.5       ,  8.45555556, 11.06666667,\n",
       "        9.65555556, 12.66666667, 13.04444444, 10.28888889,  9.46666667,\n",
       "        8.17777778,  9.55555556, 21.07777778, 12.64444444, 15.03333333,\n",
       "       10.76666667, 12.12222222, 11.04444444, 11.97777778, 10.35555556,\n",
       "        9.66666667, 10.95555556, 10.75555556, 10.25555556, 11.13333333,\n",
       "       14.44444444, 15.12222222, 17.71111111, 11.95555556, 13.56666667,\n",
       "       10.35555556, 13.56666667, 11.84444444, 12.18888889, 11.81111111,\n",
       "       14.85555556, 14.47777778, 13.88888889, 13.78888889, 13.        ,\n",
       "       11.06666667, 11.86666667,  9.37777778,  9.53333333, 13.16666667,\n",
       "       10.14444444, 14.6       , 15.04444444, 13.61111111, 13.47777778,\n",
       "       10.87777778, 15.77777778, 15.62222222, 14.74444444, 14.94444444,\n",
       "       12.52222222, 15.        , 17.25555556, 14.61111111, 11.32222222,\n",
       "       13.6       , 14.03333333, 13.58888889, 15.7       , 18.21111111,\n",
       "       15.7       , 18.68888889, 17.87777778, 19.42222222, 20.28888889,\n",
       "       20.87777778, 13.8       , 17.43333333, 18.11111111, 20.57777778,\n",
       "       19.62222222, 20.13333333, 21.54444444, 23.        , 15.92222222,\n",
       "       15.88888889, 15.93333333, 11.68888889, 14.55555556, 21.55555556,\n",
       "       21.3       , 22.72222222, 22.75555556, 20.85555556, 20.85555556,\n",
       "       21.62222222, 19.78888889, 20.85555556, 14.47777778, 13.53333333,\n",
       "       13.33333333, 14.98888889, 16.72222222, 20.41111111, 20.93333333,\n",
       "       20.48888889, 18.78888889, 19.57777778, 20.1       , 19.42222222,\n",
       "       18.98888889, 21.94444444, 19.23333333, 21.93333333, 21.73333333,\n",
       "       19.14444444])"
      ]
     },
     "execution_count": 7,
     "metadata": {},
     "output_type": "execute_result"
    }
   ],
   "source": [
    "model.predict(X)"
   ]
  },
  {
   "cell_type": "code",
   "execution_count": 8,
   "metadata": {},
   "outputs": [
    {
     "data": {
      "text/html": [
       "<div>\n",
       "<style scoped>\n",
       "    .dataframe tbody tr th:only-of-type {\n",
       "        vertical-align: middle;\n",
       "    }\n",
       "\n",
       "    .dataframe tbody tr th {\n",
       "        vertical-align: top;\n",
       "    }\n",
       "\n",
       "    .dataframe thead th {\n",
       "        text-align: right;\n",
       "    }\n",
       "</style>\n",
       "<table border=\"1\" class=\"dataframe\">\n",
       "  <thead>\n",
       "    <tr style=\"text-align: right;\">\n",
       "      <th></th>\n",
       "      <th>mean_fit_time</th>\n",
       "      <th>std_fit_time</th>\n",
       "      <th>mean_score_time</th>\n",
       "      <th>std_score_time</th>\n",
       "      <th>param_algo__n_neighbors</th>\n",
       "      <th>params</th>\n",
       "      <th>split0_test_score</th>\n",
       "      <th>split1_test_score</th>\n",
       "      <th>split2_test_score</th>\n",
       "      <th>split3_test_score</th>\n",
       "      <th>split4_test_score</th>\n",
       "      <th>mean_test_score</th>\n",
       "      <th>std_test_score</th>\n",
       "      <th>rank_test_score</th>\n",
       "    </tr>\n",
       "  </thead>\n",
       "  <tbody>\n",
       "    <tr>\n",
       "      <th>0</th>\n",
       "      <td>0.004998</td>\n",
       "      <td>0.001673</td>\n",
       "      <td>0.004001</td>\n",
       "      <td>0.000631</td>\n",
       "      <td>1</td>\n",
       "      <td>{'algo__n_neighbors': 1}</td>\n",
       "      <td>0.339313</td>\n",
       "      <td>0.423779</td>\n",
       "      <td>0.534566</td>\n",
       "      <td>0.486373</td>\n",
       "      <td>-1.623928</td>\n",
       "      <td>0.032020</td>\n",
       "      <td>0.830549</td>\n",
       "      <td>10</td>\n",
       "    </tr>\n",
       "    <tr>\n",
       "      <th>1</th>\n",
       "      <td>0.004201</td>\n",
       "      <td>0.001165</td>\n",
       "      <td>0.005400</td>\n",
       "      <td>0.001357</td>\n",
       "      <td>2</td>\n",
       "      <td>{'algo__n_neighbors': 2}</td>\n",
       "      <td>0.441649</td>\n",
       "      <td>0.547962</td>\n",
       "      <td>0.474980</td>\n",
       "      <td>0.496794</td>\n",
       "      <td>-0.548699</td>\n",
       "      <td>0.282537</td>\n",
       "      <td>0.417052</td>\n",
       "      <td>9</td>\n",
       "    </tr>\n",
       "    <tr>\n",
       "      <th>2</th>\n",
       "      <td>0.003600</td>\n",
       "      <td>0.001357</td>\n",
       "      <td>0.003402</td>\n",
       "      <td>0.001019</td>\n",
       "      <td>3</td>\n",
       "      <td>{'algo__n_neighbors': 3}</td>\n",
       "      <td>0.520304</td>\n",
       "      <td>0.593339</td>\n",
       "      <td>0.547746</td>\n",
       "      <td>0.513891</td>\n",
       "      <td>0.002980</td>\n",
       "      <td>0.435652</td>\n",
       "      <td>0.218139</td>\n",
       "      <td>8</td>\n",
       "    </tr>\n",
       "    <tr>\n",
       "      <th>3</th>\n",
       "      <td>0.002002</td>\n",
       "      <td>0.000633</td>\n",
       "      <td>0.002598</td>\n",
       "      <td>0.001198</td>\n",
       "      <td>4</td>\n",
       "      <td>{'algo__n_neighbors': 4}</td>\n",
       "      <td>0.547088</td>\n",
       "      <td>0.606925</td>\n",
       "      <td>0.509770</td>\n",
       "      <td>0.490452</td>\n",
       "      <td>0.211278</td>\n",
       "      <td>0.473103</td>\n",
       "      <td>0.136807</td>\n",
       "      <td>7</td>\n",
       "    </tr>\n",
       "    <tr>\n",
       "      <th>4</th>\n",
       "      <td>0.002400</td>\n",
       "      <td>0.000800</td>\n",
       "      <td>0.003000</td>\n",
       "      <td>0.000895</td>\n",
       "      <td>5</td>\n",
       "      <td>{'algo__n_neighbors': 5}</td>\n",
       "      <td>0.560895</td>\n",
       "      <td>0.619174</td>\n",
       "      <td>0.486619</td>\n",
       "      <td>0.469869</td>\n",
       "      <td>0.231330</td>\n",
       "      <td>0.473577</td>\n",
       "      <td>0.132431</td>\n",
       "      <td>6</td>\n",
       "    </tr>\n",
       "    <tr>\n",
       "      <th>5</th>\n",
       "      <td>0.003000</td>\n",
       "      <td>0.001264</td>\n",
       "      <td>0.002799</td>\n",
       "      <td>0.000748</td>\n",
       "      <td>6</td>\n",
       "      <td>{'algo__n_neighbors': 6}</td>\n",
       "      <td>0.582450</td>\n",
       "      <td>0.621194</td>\n",
       "      <td>0.509111</td>\n",
       "      <td>0.446859</td>\n",
       "      <td>0.250417</td>\n",
       "      <td>0.482006</td>\n",
       "      <td>0.130434</td>\n",
       "      <td>5</td>\n",
       "    </tr>\n",
       "    <tr>\n",
       "      <th>6</th>\n",
       "      <td>0.003201</td>\n",
       "      <td>0.001165</td>\n",
       "      <td>0.002397</td>\n",
       "      <td>0.000802</td>\n",
       "      <td>7</td>\n",
       "      <td>{'algo__n_neighbors': 7}</td>\n",
       "      <td>0.602434</td>\n",
       "      <td>0.636185</td>\n",
       "      <td>0.516102</td>\n",
       "      <td>0.442088</td>\n",
       "      <td>0.245749</td>\n",
       "      <td>0.488512</td>\n",
       "      <td>0.139022</td>\n",
       "      <td>4</td>\n",
       "    </tr>\n",
       "    <tr>\n",
       "      <th>7</th>\n",
       "      <td>0.002001</td>\n",
       "      <td>0.000002</td>\n",
       "      <td>0.002201</td>\n",
       "      <td>0.000400</td>\n",
       "      <td>8</td>\n",
       "      <td>{'algo__n_neighbors': 8}</td>\n",
       "      <td>0.615090</td>\n",
       "      <td>0.631185</td>\n",
       "      <td>0.551340</td>\n",
       "      <td>0.440117</td>\n",
       "      <td>0.239072</td>\n",
       "      <td>0.495361</td>\n",
       "      <td>0.144674</td>\n",
       "      <td>3</td>\n",
       "    </tr>\n",
       "    <tr>\n",
       "      <th>8</th>\n",
       "      <td>0.002400</td>\n",
       "      <td>0.000491</td>\n",
       "      <td>0.002600</td>\n",
       "      <td>0.000801</td>\n",
       "      <td>9</td>\n",
       "      <td>{'algo__n_neighbors': 9}</td>\n",
       "      <td>0.625314</td>\n",
       "      <td>0.630621</td>\n",
       "      <td>0.564464</td>\n",
       "      <td>0.429107</td>\n",
       "      <td>0.279376</td>\n",
       "      <td>0.505776</td>\n",
       "      <td>0.134503</td>\n",
       "      <td>1</td>\n",
       "    </tr>\n",
       "    <tr>\n",
       "      <th>9</th>\n",
       "      <td>0.002600</td>\n",
       "      <td>0.000803</td>\n",
       "      <td>0.002800</td>\n",
       "      <td>0.000980</td>\n",
       "      <td>10</td>\n",
       "      <td>{'algo__n_neighbors': 10}</td>\n",
       "      <td>0.614446</td>\n",
       "      <td>0.652489</td>\n",
       "      <td>0.555555</td>\n",
       "      <td>0.420648</td>\n",
       "      <td>0.261128</td>\n",
       "      <td>0.500853</td>\n",
       "      <td>0.143381</td>\n",
       "      <td>2</td>\n",
       "    </tr>\n",
       "  </tbody>\n",
       "</table>\n",
       "</div>"
      ],
      "text/plain": [
       "   mean_fit_time  std_fit_time  mean_score_time  std_score_time  \\\n",
       "0       0.004998      0.001673         0.004001        0.000631   \n",
       "1       0.004201      0.001165         0.005400        0.001357   \n",
       "2       0.003600      0.001357         0.003402        0.001019   \n",
       "3       0.002002      0.000633         0.002598        0.001198   \n",
       "4       0.002400      0.000800         0.003000        0.000895   \n",
       "5       0.003000      0.001264         0.002799        0.000748   \n",
       "6       0.003201      0.001165         0.002397        0.000802   \n",
       "7       0.002001      0.000002         0.002201        0.000400   \n",
       "8       0.002400      0.000491         0.002600        0.000801   \n",
       "9       0.002600      0.000803         0.002800        0.000980   \n",
       "\n",
       "  param_algo__n_neighbors                     params  split0_test_score  \\\n",
       "0                       1   {'algo__n_neighbors': 1}           0.339313   \n",
       "1                       2   {'algo__n_neighbors': 2}           0.441649   \n",
       "2                       3   {'algo__n_neighbors': 3}           0.520304   \n",
       "3                       4   {'algo__n_neighbors': 4}           0.547088   \n",
       "4                       5   {'algo__n_neighbors': 5}           0.560895   \n",
       "5                       6   {'algo__n_neighbors': 6}           0.582450   \n",
       "6                       7   {'algo__n_neighbors': 7}           0.602434   \n",
       "7                       8   {'algo__n_neighbors': 8}           0.615090   \n",
       "8                       9   {'algo__n_neighbors': 9}           0.625314   \n",
       "9                      10  {'algo__n_neighbors': 10}           0.614446   \n",
       "\n",
       "   split1_test_score  split2_test_score  split3_test_score  split4_test_score  \\\n",
       "0           0.423779           0.534566           0.486373          -1.623928   \n",
       "1           0.547962           0.474980           0.496794          -0.548699   \n",
       "2           0.593339           0.547746           0.513891           0.002980   \n",
       "3           0.606925           0.509770           0.490452           0.211278   \n",
       "4           0.619174           0.486619           0.469869           0.231330   \n",
       "5           0.621194           0.509111           0.446859           0.250417   \n",
       "6           0.636185           0.516102           0.442088           0.245749   \n",
       "7           0.631185           0.551340           0.440117           0.239072   \n",
       "8           0.630621           0.564464           0.429107           0.279376   \n",
       "9           0.652489           0.555555           0.420648           0.261128   \n",
       "\n",
       "   mean_test_score  std_test_score  rank_test_score  \n",
       "0         0.032020        0.830549               10  \n",
       "1         0.282537        0.417052                9  \n",
       "2         0.435652        0.218139                8  \n",
       "3         0.473103        0.136807                7  \n",
       "4         0.473577        0.132431                6  \n",
       "5         0.482006        0.130434                5  \n",
       "6         0.488512        0.139022                4  \n",
       "7         0.495361        0.144674                3  \n",
       "8         0.505776        0.134503                1  \n",
       "9         0.500853        0.143381                2  "
      ]
     },
     "execution_count": 8,
     "metadata": {},
     "output_type": "execute_result"
    }
   ],
   "source": [
    "import pandas as pd \n",
    "pd.DataFrame(model.cv_results_)"
   ]
  },
  {
   "attachments": {},
   "cell_type": "markdown",
   "metadata": {},
   "source": [
    "### 2nd Assigment RandomizedSearchCV  "
   ]
  },
  {
   "cell_type": "code",
   "execution_count": 38,
   "metadata": {},
   "outputs": [],
   "source": [
    "import matplotlib.pylab as plt \n",
    "from sklearn.linear_model import LinearRegression \n",
    "from sklearn.datasets import load_boston\n",
    "from sklearn.preprocessing import StandardScaler \n",
    "from sklearn.pipeline import Pipeline \n",
    "from sklearn.model_selection import RandomizedSearchCV\n",
    "from sklearn.neighbors import KNeighborsRegressor\n",
    "from scipy.stats import uniform\n",
    "import warnings \n",
    "warnings.filterwarnings('ignore')"
   ]
  },
  {
   "cell_type": "code",
   "execution_count": 39,
   "metadata": {},
   "outputs": [],
   "source": [
    "X,y =load_boston(return_X_y=True)"
   ]
  },
  {
   "cell_type": "code",
   "execution_count": 40,
   "metadata": {},
   "outputs": [],
   "source": [
    "pipe =Pipeline([\n",
    "    ('scaler',StandardScaler()),\n",
    "    (\"algo\",KNeighborsRegressor())]\n",
    ")"
   ]
  },
  {
   "cell_type": "code",
   "execution_count": 41,
   "metadata": {},
   "outputs": [
    {
     "data": {
      "text/plain": [
       "{'memory': None,\n",
       " 'steps': [('scaler', StandardScaler()), ('algo', KNeighborsRegressor())],\n",
       " 'verbose': False,\n",
       " 'scaler': StandardScaler(),\n",
       " 'algo': KNeighborsRegressor(),\n",
       " 'scaler__copy': True,\n",
       " 'scaler__with_mean': True,\n",
       " 'scaler__with_std': True,\n",
       " 'algo__algorithm': 'auto',\n",
       " 'algo__leaf_size': 30,\n",
       " 'algo__metric': 'minkowski',\n",
       " 'algo__metric_params': None,\n",
       " 'algo__n_jobs': None,\n",
       " 'algo__n_neighbors': 5,\n",
       " 'algo__p': 2,\n",
       " 'algo__weights': 'uniform'}"
      ]
     },
     "execution_count": 41,
     "metadata": {},
     "output_type": "execute_result"
    }
   ],
   "source": [
    "pipe.get_params()"
   ]
  },
  {
   "cell_type": "code",
   "execution_count": 42,
   "metadata": {},
   "outputs": [],
   "source": [
    "model =RandomizedSearchCV(\n",
    "    estimator=pipe,\n",
    "    param_distributions ={'algo__n_neighbors': [1,2,3,4,5,6,7,8,9,10]},\n",
    "    cv=5\n",
    ")"
   ]
  },
  {
   "cell_type": "code",
   "execution_count": 43,
   "metadata": {},
   "outputs": [
    {
     "data": {
      "text/html": [
       "<style>#sk-container-id-2 {color: black;background-color: white;}#sk-container-id-2 pre{padding: 0;}#sk-container-id-2 div.sk-toggleable {background-color: white;}#sk-container-id-2 label.sk-toggleable__label {cursor: pointer;display: block;width: 100%;margin-bottom: 0;padding: 0.3em;box-sizing: border-box;text-align: center;}#sk-container-id-2 label.sk-toggleable__label-arrow:before {content: \"▸\";float: left;margin-right: 0.25em;color: #696969;}#sk-container-id-2 label.sk-toggleable__label-arrow:hover:before {color: black;}#sk-container-id-2 div.sk-estimator:hover label.sk-toggleable__label-arrow:before {color: black;}#sk-container-id-2 div.sk-toggleable__content {max-height: 0;max-width: 0;overflow: hidden;text-align: left;background-color: #f0f8ff;}#sk-container-id-2 div.sk-toggleable__content pre {margin: 0.2em;color: black;border-radius: 0.25em;background-color: #f0f8ff;}#sk-container-id-2 input.sk-toggleable__control:checked~div.sk-toggleable__content {max-height: 200px;max-width: 100%;overflow: auto;}#sk-container-id-2 input.sk-toggleable__control:checked~label.sk-toggleable__label-arrow:before {content: \"▾\";}#sk-container-id-2 div.sk-estimator input.sk-toggleable__control:checked~label.sk-toggleable__label {background-color: #d4ebff;}#sk-container-id-2 div.sk-label input.sk-toggleable__control:checked~label.sk-toggleable__label {background-color: #d4ebff;}#sk-container-id-2 input.sk-hidden--visually {border: 0;clip: rect(1px 1px 1px 1px);clip: rect(1px, 1px, 1px, 1px);height: 1px;margin: -1px;overflow: hidden;padding: 0;position: absolute;width: 1px;}#sk-container-id-2 div.sk-estimator {font-family: monospace;background-color: #f0f8ff;border: 1px dotted black;border-radius: 0.25em;box-sizing: border-box;margin-bottom: 0.5em;}#sk-container-id-2 div.sk-estimator:hover {background-color: #d4ebff;}#sk-container-id-2 div.sk-parallel-item::after {content: \"\";width: 100%;border-bottom: 1px solid gray;flex-grow: 1;}#sk-container-id-2 div.sk-label:hover label.sk-toggleable__label {background-color: #d4ebff;}#sk-container-id-2 div.sk-serial::before {content: \"\";position: absolute;border-left: 1px solid gray;box-sizing: border-box;top: 0;bottom: 0;left: 50%;z-index: 0;}#sk-container-id-2 div.sk-serial {display: flex;flex-direction: column;align-items: center;background-color: white;padding-right: 0.2em;padding-left: 0.2em;position: relative;}#sk-container-id-2 div.sk-item {position: relative;z-index: 1;}#sk-container-id-2 div.sk-parallel {display: flex;align-items: stretch;justify-content: center;background-color: white;position: relative;}#sk-container-id-2 div.sk-item::before, #sk-container-id-2 div.sk-parallel-item::before {content: \"\";position: absolute;border-left: 1px solid gray;box-sizing: border-box;top: 0;bottom: 0;left: 50%;z-index: -1;}#sk-container-id-2 div.sk-parallel-item {display: flex;flex-direction: column;z-index: 1;position: relative;background-color: white;}#sk-container-id-2 div.sk-parallel-item:first-child::after {align-self: flex-end;width: 50%;}#sk-container-id-2 div.sk-parallel-item:last-child::after {align-self: flex-start;width: 50%;}#sk-container-id-2 div.sk-parallel-item:only-child::after {width: 0;}#sk-container-id-2 div.sk-dashed-wrapped {border: 1px dashed gray;margin: 0 0.4em 0.5em 0.4em;box-sizing: border-box;padding-bottom: 0.4em;background-color: white;}#sk-container-id-2 div.sk-label label {font-family: monospace;font-weight: bold;display: inline-block;line-height: 1.2em;}#sk-container-id-2 div.sk-label-container {text-align: center;}#sk-container-id-2 div.sk-container {/* jupyter's `normalize.less` sets `[hidden] { display: none; }` but bootstrap.min.css set `[hidden] { display: none !important; }` so we also need the `!important` here to be able to override the default hidden behavior on the sphinx rendered scikit-learn.org. See: https://github.com/scikit-learn/scikit-learn/issues/21755 */display: inline-block !important;position: relative;}#sk-container-id-2 div.sk-text-repr-fallback {display: none;}</style><div id=\"sk-container-id-2\" class=\"sk-top-container\"><div class=\"sk-text-repr-fallback\"><pre>RandomizedSearchCV(cv=5,\n",
       "                   estimator=Pipeline(steps=[(&#x27;scaler&#x27;, StandardScaler()),\n",
       "                                             (&#x27;algo&#x27;, KNeighborsRegressor())]),\n",
       "                   param_distributions={&#x27;algo__n_neighbors&#x27;: [1, 2, 3, 4, 5, 6,\n",
       "                                                              7, 8, 9, 10]})</pre><b>In a Jupyter environment, please rerun this cell to show the HTML representation or trust the notebook. <br />On GitHub, the HTML representation is unable to render, please try loading this page with nbviewer.org.</b></div><div class=\"sk-container\" hidden><div class=\"sk-item sk-dashed-wrapped\"><div class=\"sk-label-container\"><div class=\"sk-label sk-toggleable\"><input class=\"sk-toggleable__control sk-hidden--visually\" id=\"sk-estimator-id-5\" type=\"checkbox\" ><label for=\"sk-estimator-id-5\" class=\"sk-toggleable__label sk-toggleable__label-arrow\">RandomizedSearchCV</label><div class=\"sk-toggleable__content\"><pre>RandomizedSearchCV(cv=5,\n",
       "                   estimator=Pipeline(steps=[(&#x27;scaler&#x27;, StandardScaler()),\n",
       "                                             (&#x27;algo&#x27;, KNeighborsRegressor())]),\n",
       "                   param_distributions={&#x27;algo__n_neighbors&#x27;: [1, 2, 3, 4, 5, 6,\n",
       "                                                              7, 8, 9, 10]})</pre></div></div></div><div class=\"sk-parallel\"><div class=\"sk-parallel-item\"><div class=\"sk-item\"><div class=\"sk-label-container\"><div class=\"sk-label sk-toggleable\"><input class=\"sk-toggleable__control sk-hidden--visually\" id=\"sk-estimator-id-6\" type=\"checkbox\" ><label for=\"sk-estimator-id-6\" class=\"sk-toggleable__label sk-toggleable__label-arrow\">estimator: Pipeline</label><div class=\"sk-toggleable__content\"><pre>Pipeline(steps=[(&#x27;scaler&#x27;, StandardScaler()), (&#x27;algo&#x27;, KNeighborsRegressor())])</pre></div></div></div><div class=\"sk-serial\"><div class=\"sk-item\"><div class=\"sk-serial\"><div class=\"sk-item\"><div class=\"sk-estimator sk-toggleable\"><input class=\"sk-toggleable__control sk-hidden--visually\" id=\"sk-estimator-id-7\" type=\"checkbox\" ><label for=\"sk-estimator-id-7\" class=\"sk-toggleable__label sk-toggleable__label-arrow\">StandardScaler</label><div class=\"sk-toggleable__content\"><pre>StandardScaler()</pre></div></div></div><div class=\"sk-item\"><div class=\"sk-estimator sk-toggleable\"><input class=\"sk-toggleable__control sk-hidden--visually\" id=\"sk-estimator-id-8\" type=\"checkbox\" ><label for=\"sk-estimator-id-8\" class=\"sk-toggleable__label sk-toggleable__label-arrow\">KNeighborsRegressor</label><div class=\"sk-toggleable__content\"><pre>KNeighborsRegressor()</pre></div></div></div></div></div></div></div></div></div></div></div></div>"
      ],
      "text/plain": [
       "RandomizedSearchCV(cv=5,\n",
       "                   estimator=Pipeline(steps=[('scaler', StandardScaler()),\n",
       "                                             ('algo', KNeighborsRegressor())]),\n",
       "                   param_distributions={'algo__n_neighbors': [1, 2, 3, 4, 5, 6,\n",
       "                                                              7, 8, 9, 10]})"
      ]
     },
     "execution_count": 43,
     "metadata": {},
     "output_type": "execute_result"
    }
   ],
   "source": [
    "model"
   ]
  },
  {
   "cell_type": "code",
   "execution_count": 44,
   "metadata": {},
   "outputs": [
    {
     "data": {
      "text/html": [
       "<style>#sk-container-id-3 {color: black;background-color: white;}#sk-container-id-3 pre{padding: 0;}#sk-container-id-3 div.sk-toggleable {background-color: white;}#sk-container-id-3 label.sk-toggleable__label {cursor: pointer;display: block;width: 100%;margin-bottom: 0;padding: 0.3em;box-sizing: border-box;text-align: center;}#sk-container-id-3 label.sk-toggleable__label-arrow:before {content: \"▸\";float: left;margin-right: 0.25em;color: #696969;}#sk-container-id-3 label.sk-toggleable__label-arrow:hover:before {color: black;}#sk-container-id-3 div.sk-estimator:hover label.sk-toggleable__label-arrow:before {color: black;}#sk-container-id-3 div.sk-toggleable__content {max-height: 0;max-width: 0;overflow: hidden;text-align: left;background-color: #f0f8ff;}#sk-container-id-3 div.sk-toggleable__content pre {margin: 0.2em;color: black;border-radius: 0.25em;background-color: #f0f8ff;}#sk-container-id-3 input.sk-toggleable__control:checked~div.sk-toggleable__content {max-height: 200px;max-width: 100%;overflow: auto;}#sk-container-id-3 input.sk-toggleable__control:checked~label.sk-toggleable__label-arrow:before {content: \"▾\";}#sk-container-id-3 div.sk-estimator input.sk-toggleable__control:checked~label.sk-toggleable__label {background-color: #d4ebff;}#sk-container-id-3 div.sk-label input.sk-toggleable__control:checked~label.sk-toggleable__label {background-color: #d4ebff;}#sk-container-id-3 input.sk-hidden--visually {border: 0;clip: rect(1px 1px 1px 1px);clip: rect(1px, 1px, 1px, 1px);height: 1px;margin: -1px;overflow: hidden;padding: 0;position: absolute;width: 1px;}#sk-container-id-3 div.sk-estimator {font-family: monospace;background-color: #f0f8ff;border: 1px dotted black;border-radius: 0.25em;box-sizing: border-box;margin-bottom: 0.5em;}#sk-container-id-3 div.sk-estimator:hover {background-color: #d4ebff;}#sk-container-id-3 div.sk-parallel-item::after {content: \"\";width: 100%;border-bottom: 1px solid gray;flex-grow: 1;}#sk-container-id-3 div.sk-label:hover label.sk-toggleable__label {background-color: #d4ebff;}#sk-container-id-3 div.sk-serial::before {content: \"\";position: absolute;border-left: 1px solid gray;box-sizing: border-box;top: 0;bottom: 0;left: 50%;z-index: 0;}#sk-container-id-3 div.sk-serial {display: flex;flex-direction: column;align-items: center;background-color: white;padding-right: 0.2em;padding-left: 0.2em;position: relative;}#sk-container-id-3 div.sk-item {position: relative;z-index: 1;}#sk-container-id-3 div.sk-parallel {display: flex;align-items: stretch;justify-content: center;background-color: white;position: relative;}#sk-container-id-3 div.sk-item::before, #sk-container-id-3 div.sk-parallel-item::before {content: \"\";position: absolute;border-left: 1px solid gray;box-sizing: border-box;top: 0;bottom: 0;left: 50%;z-index: -1;}#sk-container-id-3 div.sk-parallel-item {display: flex;flex-direction: column;z-index: 1;position: relative;background-color: white;}#sk-container-id-3 div.sk-parallel-item:first-child::after {align-self: flex-end;width: 50%;}#sk-container-id-3 div.sk-parallel-item:last-child::after {align-self: flex-start;width: 50%;}#sk-container-id-3 div.sk-parallel-item:only-child::after {width: 0;}#sk-container-id-3 div.sk-dashed-wrapped {border: 1px dashed gray;margin: 0 0.4em 0.5em 0.4em;box-sizing: border-box;padding-bottom: 0.4em;background-color: white;}#sk-container-id-3 div.sk-label label {font-family: monospace;font-weight: bold;display: inline-block;line-height: 1.2em;}#sk-container-id-3 div.sk-label-container {text-align: center;}#sk-container-id-3 div.sk-container {/* jupyter's `normalize.less` sets `[hidden] { display: none; }` but bootstrap.min.css set `[hidden] { display: none !important; }` so we also need the `!important` here to be able to override the default hidden behavior on the sphinx rendered scikit-learn.org. See: https://github.com/scikit-learn/scikit-learn/issues/21755 */display: inline-block !important;position: relative;}#sk-container-id-3 div.sk-text-repr-fallback {display: none;}</style><div id=\"sk-container-id-3\" class=\"sk-top-container\"><div class=\"sk-text-repr-fallback\"><pre>RandomizedSearchCV(cv=5,\n",
       "                   estimator=Pipeline(steps=[(&#x27;scaler&#x27;, StandardScaler()),\n",
       "                                             (&#x27;algo&#x27;, KNeighborsRegressor())]),\n",
       "                   param_distributions={&#x27;algo__n_neighbors&#x27;: [1, 2, 3, 4, 5, 6,\n",
       "                                                              7, 8, 9, 10]})</pre><b>In a Jupyter environment, please rerun this cell to show the HTML representation or trust the notebook. <br />On GitHub, the HTML representation is unable to render, please try loading this page with nbviewer.org.</b></div><div class=\"sk-container\" hidden><div class=\"sk-item sk-dashed-wrapped\"><div class=\"sk-label-container\"><div class=\"sk-label sk-toggleable\"><input class=\"sk-toggleable__control sk-hidden--visually\" id=\"sk-estimator-id-9\" type=\"checkbox\" ><label for=\"sk-estimator-id-9\" class=\"sk-toggleable__label sk-toggleable__label-arrow\">RandomizedSearchCV</label><div class=\"sk-toggleable__content\"><pre>RandomizedSearchCV(cv=5,\n",
       "                   estimator=Pipeline(steps=[(&#x27;scaler&#x27;, StandardScaler()),\n",
       "                                             (&#x27;algo&#x27;, KNeighborsRegressor())]),\n",
       "                   param_distributions={&#x27;algo__n_neighbors&#x27;: [1, 2, 3, 4, 5, 6,\n",
       "                                                              7, 8, 9, 10]})</pre></div></div></div><div class=\"sk-parallel\"><div class=\"sk-parallel-item\"><div class=\"sk-item\"><div class=\"sk-label-container\"><div class=\"sk-label sk-toggleable\"><input class=\"sk-toggleable__control sk-hidden--visually\" id=\"sk-estimator-id-10\" type=\"checkbox\" ><label for=\"sk-estimator-id-10\" class=\"sk-toggleable__label sk-toggleable__label-arrow\">estimator: Pipeline</label><div class=\"sk-toggleable__content\"><pre>Pipeline(steps=[(&#x27;scaler&#x27;, StandardScaler()), (&#x27;algo&#x27;, KNeighborsRegressor())])</pre></div></div></div><div class=\"sk-serial\"><div class=\"sk-item\"><div class=\"sk-serial\"><div class=\"sk-item\"><div class=\"sk-estimator sk-toggleable\"><input class=\"sk-toggleable__control sk-hidden--visually\" id=\"sk-estimator-id-11\" type=\"checkbox\" ><label for=\"sk-estimator-id-11\" class=\"sk-toggleable__label sk-toggleable__label-arrow\">StandardScaler</label><div class=\"sk-toggleable__content\"><pre>StandardScaler()</pre></div></div></div><div class=\"sk-item\"><div class=\"sk-estimator sk-toggleable\"><input class=\"sk-toggleable__control sk-hidden--visually\" id=\"sk-estimator-id-12\" type=\"checkbox\" ><label for=\"sk-estimator-id-12\" class=\"sk-toggleable__label sk-toggleable__label-arrow\">KNeighborsRegressor</label><div class=\"sk-toggleable__content\"><pre>KNeighborsRegressor()</pre></div></div></div></div></div></div></div></div></div></div></div></div>"
      ],
      "text/plain": [
       "RandomizedSearchCV(cv=5,\n",
       "                   estimator=Pipeline(steps=[('scaler', StandardScaler()),\n",
       "                                             ('algo', KNeighborsRegressor())]),\n",
       "                   param_distributions={'algo__n_neighbors': [1, 2, 3, 4, 5, 6,\n",
       "                                                              7, 8, 9, 10]})"
      ]
     },
     "execution_count": 44,
     "metadata": {},
     "output_type": "execute_result"
    }
   ],
   "source": [
    "model.fit(X, y)"
   ]
  },
  {
   "cell_type": "code",
   "execution_count": 45,
   "metadata": {},
   "outputs": [
    {
     "data": {
      "text/plain": [
       "array([25.96666667, 23.02222222, 32.57777778, 28.26666667, 30.42222222,\n",
       "       26.51111111, 21.63333333, 19.31111111, 18.63333333, 20.16666667,\n",
       "       19.31111111, 20.6       , 20.85555556, 19.2       , 18.26666667,\n",
       "       19.74444444, 21.86666667, 17.08888889, 20.24444444, 18.76666667,\n",
       "       14.96666667, 17.21111111, 15.47777778, 15.37777778, 15.57777778,\n",
       "       15.26666667, 16.08888889, 14.96666667, 17.4       , 20.33333333,\n",
       "       14.44444444, 16.52222222, 13.83333333, 14.97777778, 13.83333333,\n",
       "       20.01111111, 20.95555556, 21.41111111, 22.65555556, 30.47777778,\n",
       "       32.75555556, 24.64444444, 24.27777778, 24.27777778, 21.71111111,\n",
       "       21.81111111, 21.44444444, 20.24444444, 16.44444444, 19.96666667,\n",
       "       20.11111111, 21.64444444, 24.71111111, 22.26666667, 20.05555556,\n",
       "       31.47777778, 26.34444444, 31.66666667, 23.66666667, 22.35555556,\n",
       "       19.44444444, 18.68888889, 22.4       , 23.6       , 27.14444444,\n",
       "       25.34444444, 22.2       , 22.46666667, 19.8       , 21.17777778,\n",
       "       24.15555556, 22.86666667, 23.75555556, 23.75555556, 23.53333333,\n",
       "       22.77777778, 21.48888889, 22.64444444, 21.81111111, 22.8       ,\n",
       "       25.95555556, 25.92222222, 24.1       , 23.27777778, 23.18888889,\n",
       "       25.33333333, 21.88888889, 23.81111111, 29.94444444, 29.43333333,\n",
       "       25.62222222, 25.62222222, 24.54444444, 24.4       , 22.34444444,\n",
       "       25.88888889, 24.58888889, 40.64444444, 40.14444444, 35.71111111,\n",
       "       21.82222222, 22.25555556, 15.6       , 19.45555556, 20.56666667,\n",
       "       18.96666667, 17.88888889, 19.37777778, 20.6       , 19.2       ,\n",
       "       21.5       , 22.56666667, 19.03333333, 19.03333333, 19.62222222,\n",
       "       19.02222222, 19.96666667, 19.08888889, 18.86666667, 19.52222222,\n",
       "       19.08888889, 19.08888889, 19.02222222, 18.14444444, 18.84444444,\n",
       "       19.08888889, 18.14444444, 16.73333333, 18.73333333, 16.38888889,\n",
       "       18.73333333, 18.73333333, 18.73333333, 17.43333333, 16.56666667,\n",
       "       18.73333333, 16.73333333, 18.73333333, 16.38888889, 16.73333333,\n",
       "       16.24444444, 13.36666667, 15.84444444, 16.61111111, 16.61111111,\n",
       "       16.86666667, 17.77777778, 16.61111111, 16.61111111, 16.81111111,\n",
       "       19.13333333, 18.58888889, 19.21111111, 17.47777778, 22.9       ,\n",
       "       16.68888889, 18.12222222, 31.35555556, 24.41111111, 23.43333333,\n",
       "       27.22222222, 32.02222222, 31.08888889, 32.61111111, 24.41111111,\n",
       "       24.41111111, 35.86666667, 22.08888889, 24.41111111, 24.41111111,\n",
       "       21.85555556, 24.41111111, 22.66666667, 25.8       , 24.91111111,\n",
       "       28.02222222, 25.45555556, 24.85555556, 26.3       , 28.02222222,\n",
       "       35.68888889, 24.45555556, 32.54444444, 27.42222222, 24.72222222,\n",
       "       25.25555556, 39.37777778, 31.34444444, 31.34444444, 32.04444444,\n",
       "       32.03333333, 29.88888889, 32.96666667, 27.72222222, 27.07777778,\n",
       "       40.57777778, 34.23333333, 30.34444444, 34.23333333, 28.91111111,\n",
       "       33.14444444, 24.38888889, 40.43333333, 40.57777778, 40.57777778,\n",
       "       22.52222222, 23.45555556, 19.08888889, 23.97777778, 21.66666667,\n",
       "       21.63333333, 21.66666667, 22.23333333, 24.22222222, 21.47777778,\n",
       "       23.44444444, 23.45555556, 23.42222222, 21.92222222, 24.97777778,\n",
       "       24.51111111, 22.62222222, 24.42222222, 25.55555556, 40.45555556,\n",
       "       42.51111111, 40.45555556, 29.75555556, 37.88888889, 26.01111111,\n",
       "       21.16666667, 30.87777778, 41.58888889, 41.58888889, 26.1       ,\n",
       "       22.41111111, 24.42222222, 31.38888889, 24.44444444, 24.44444444,\n",
       "       23.22222222, 21.66666667, 21.84444444, 24.87777778, 18.9       ,\n",
       "       18.32222222, 23.35555556, 19.78888889, 22.56666667, 25.23333333,\n",
       "       24.81111111, 24.81111111, 25.4       , 29.5       , 22.28888889,\n",
       "       22.28888889, 40.76666667, 41.41111111, 37.77777778, 37.05555556,\n",
       "       37.18888889, 37.77777778, 41.41111111, 37.77777778, 37.05555556,\n",
       "       25.91111111, 37.18888889, 41.41111111, 38.6       , 23.97777778,\n",
       "       21.65555556, 25.86666667, 24.35555556, 32.02222222, 31.35555556,\n",
       "       28.48888889, 31.35555556, 31.35555556, 25.96666667, 29.61111111,\n",
       "       40.06666667, 30.63333333, 32.02222222, 42.83333333, 32.76666667,\n",
       "       25.58888889, 21.92222222, 23.5       , 23.8       , 23.84444444,\n",
       "       31.24444444, 33.55555556, 29.07777778, 24.08888889, 22.67777778,\n",
       "       25.21111111, 23.31111111, 21.17777778, 24.6       , 30.16666667,\n",
       "       27.23333333, 25.81111111, 25.15555556, 29.13333333, 29.27777778,\n",
       "       28.71111111, 32.15555556, 30.25555556, 24.41111111, 20.38888889,\n",
       "       20.95555556, 21.93333333, 19.87777778, 20.54444444, 23.62222222,\n",
       "       19.33333333, 18.94444444, 19.31111111, 21.82222222, 21.53333333,\n",
       "       23.91111111, 23.43333333, 21.23333333, 18.3       , 23.73333333,\n",
       "       23.91111111, 22.37777778, 20.64444444, 20.92222222, 24.57777778,\n",
       "       20.33333333, 20.37777778, 22.8       , 21.74444444, 21.06666667,\n",
       "       20.75555556, 20.11111111, 19.75555556, 21.11111111, 20.11111111,\n",
       "       20.01111111, 30.46666667, 21.48888889, 26.25555556, 30.1       ,\n",
       "       20.51111111, 19.72222222, 26.86666667, 27.97777778, 26.25555556,\n",
       "       24.34444444, 22.94444444, 21.61111111, 26.16666667, 21.24444444,\n",
       "       21.24444444, 28.74444444, 29.76666667, 30.38888889, 19.93333333,\n",
       "       19.67777778, 18.14444444, 19.76666667, 29.54444444, 37.12222222,\n",
       "       23.15555556, 17.16666667, 16.93333333, 27.53333333, 30.87777778,\n",
       "       33.43333333, 21.32222222, 34.        , 10.3       , 10.36666667,\n",
       "       14.36666667, 12.57777778, 12.83333333, 10.2       , 10.68888889,\n",
       "        8.46666667, 12.57777778, 11.92222222, 12.26666667, 10.36666667,\n",
       "       10.48888889,  9.75555556,  9.66666667, 10.21111111, 13.01111111,\n",
       "       15.25555556, 16.76666667, 11.2       , 15.58888889, 13.33333333,\n",
       "       14.08888889, 14.88888889, 13.5       ,  8.45555556, 11.06666667,\n",
       "        9.65555556, 12.66666667, 13.04444444, 10.28888889,  9.46666667,\n",
       "        8.17777778,  9.55555556, 21.07777778, 12.64444444, 15.03333333,\n",
       "       10.76666667, 12.12222222, 11.04444444, 11.97777778, 10.35555556,\n",
       "        9.66666667, 10.95555556, 10.75555556, 10.25555556, 11.13333333,\n",
       "       14.44444444, 15.12222222, 17.71111111, 11.95555556, 13.56666667,\n",
       "       10.35555556, 13.56666667, 11.84444444, 12.18888889, 11.81111111,\n",
       "       14.85555556, 14.47777778, 13.88888889, 13.78888889, 13.        ,\n",
       "       11.06666667, 11.86666667,  9.37777778,  9.53333333, 13.16666667,\n",
       "       10.14444444, 14.6       , 15.04444444, 13.61111111, 13.47777778,\n",
       "       10.87777778, 15.77777778, 15.62222222, 14.74444444, 14.94444444,\n",
       "       12.52222222, 15.        , 17.25555556, 14.61111111, 11.32222222,\n",
       "       13.6       , 14.03333333, 13.58888889, 15.7       , 18.21111111,\n",
       "       15.7       , 18.68888889, 17.87777778, 19.42222222, 20.28888889,\n",
       "       20.87777778, 13.8       , 17.43333333, 18.11111111, 20.57777778,\n",
       "       19.62222222, 20.13333333, 21.54444444, 23.        , 15.92222222,\n",
       "       15.88888889, 15.93333333, 11.68888889, 14.55555556, 21.55555556,\n",
       "       21.3       , 22.72222222, 22.75555556, 20.85555556, 20.85555556,\n",
       "       21.62222222, 19.78888889, 20.85555556, 14.47777778, 13.53333333,\n",
       "       13.33333333, 14.98888889, 16.72222222, 20.41111111, 20.93333333,\n",
       "       20.48888889, 18.78888889, 19.57777778, 20.1       , 19.42222222,\n",
       "       18.98888889, 21.94444444, 19.23333333, 21.93333333, 21.73333333,\n",
       "       19.14444444])"
      ]
     },
     "execution_count": 45,
     "metadata": {},
     "output_type": "execute_result"
    }
   ],
   "source": [
    "model.predict(X)"
   ]
  },
  {
   "cell_type": "code",
   "execution_count": 46,
   "metadata": {},
   "outputs": [
    {
     "data": {
      "text/html": [
       "<div>\n",
       "<style scoped>\n",
       "    .dataframe tbody tr th:only-of-type {\n",
       "        vertical-align: middle;\n",
       "    }\n",
       "\n",
       "    .dataframe tbody tr th {\n",
       "        vertical-align: top;\n",
       "    }\n",
       "\n",
       "    .dataframe thead th {\n",
       "        text-align: right;\n",
       "    }\n",
       "</style>\n",
       "<table border=\"1\" class=\"dataframe\">\n",
       "  <thead>\n",
       "    <tr style=\"text-align: right;\">\n",
       "      <th></th>\n",
       "      <th>mean_fit_time</th>\n",
       "      <th>std_fit_time</th>\n",
       "      <th>mean_score_time</th>\n",
       "      <th>std_score_time</th>\n",
       "      <th>param_algo__n_neighbors</th>\n",
       "      <th>params</th>\n",
       "      <th>split0_test_score</th>\n",
       "      <th>split1_test_score</th>\n",
       "      <th>split2_test_score</th>\n",
       "      <th>split3_test_score</th>\n",
       "      <th>split4_test_score</th>\n",
       "      <th>mean_test_score</th>\n",
       "      <th>std_test_score</th>\n",
       "      <th>rank_test_score</th>\n",
       "    </tr>\n",
       "  </thead>\n",
       "  <tbody>\n",
       "    <tr>\n",
       "      <th>0</th>\n",
       "      <td>0.003402</td>\n",
       "      <td>8.002358e-04</td>\n",
       "      <td>0.003002</td>\n",
       "      <td>0.001103</td>\n",
       "      <td>1</td>\n",
       "      <td>{'algo__n_neighbors': 1}</td>\n",
       "      <td>0.339313</td>\n",
       "      <td>0.423779</td>\n",
       "      <td>0.534566</td>\n",
       "      <td>0.486373</td>\n",
       "      <td>-1.623928</td>\n",
       "      <td>0.032020</td>\n",
       "      <td>0.830549</td>\n",
       "      <td>10</td>\n",
       "    </tr>\n",
       "    <tr>\n",
       "      <th>1</th>\n",
       "      <td>0.003199</td>\n",
       "      <td>1.469705e-03</td>\n",
       "      <td>0.002603</td>\n",
       "      <td>0.000492</td>\n",
       "      <td>2</td>\n",
       "      <td>{'algo__n_neighbors': 2}</td>\n",
       "      <td>0.441649</td>\n",
       "      <td>0.547962</td>\n",
       "      <td>0.474980</td>\n",
       "      <td>0.496794</td>\n",
       "      <td>-0.548699</td>\n",
       "      <td>0.282537</td>\n",
       "      <td>0.417052</td>\n",
       "      <td>9</td>\n",
       "    </tr>\n",
       "    <tr>\n",
       "      <th>2</th>\n",
       "      <td>0.002201</td>\n",
       "      <td>3.993544e-04</td>\n",
       "      <td>0.002400</td>\n",
       "      <td>0.001021</td>\n",
       "      <td>3</td>\n",
       "      <td>{'algo__n_neighbors': 3}</td>\n",
       "      <td>0.520304</td>\n",
       "      <td>0.593339</td>\n",
       "      <td>0.547746</td>\n",
       "      <td>0.513891</td>\n",
       "      <td>0.002980</td>\n",
       "      <td>0.435652</td>\n",
       "      <td>0.218139</td>\n",
       "      <td>8</td>\n",
       "    </tr>\n",
       "    <tr>\n",
       "      <th>3</th>\n",
       "      <td>0.002400</td>\n",
       "      <td>4.904087e-04</td>\n",
       "      <td>0.002001</td>\n",
       "      <td>0.000633</td>\n",
       "      <td>4</td>\n",
       "      <td>{'algo__n_neighbors': 4}</td>\n",
       "      <td>0.547088</td>\n",
       "      <td>0.606925</td>\n",
       "      <td>0.509770</td>\n",
       "      <td>0.490452</td>\n",
       "      <td>0.211278</td>\n",
       "      <td>0.473103</td>\n",
       "      <td>0.136807</td>\n",
       "      <td>7</td>\n",
       "    </tr>\n",
       "    <tr>\n",
       "      <th>4</th>\n",
       "      <td>0.003601</td>\n",
       "      <td>8.012829e-04</td>\n",
       "      <td>0.003801</td>\n",
       "      <td>0.000750</td>\n",
       "      <td>5</td>\n",
       "      <td>{'algo__n_neighbors': 5}</td>\n",
       "      <td>0.560895</td>\n",
       "      <td>0.619174</td>\n",
       "      <td>0.486619</td>\n",
       "      <td>0.469869</td>\n",
       "      <td>0.231330</td>\n",
       "      <td>0.473577</td>\n",
       "      <td>0.132431</td>\n",
       "      <td>6</td>\n",
       "    </tr>\n",
       "    <tr>\n",
       "      <th>5</th>\n",
       "      <td>0.002198</td>\n",
       "      <td>4.006628e-04</td>\n",
       "      <td>0.003200</td>\n",
       "      <td>0.001470</td>\n",
       "      <td>6</td>\n",
       "      <td>{'algo__n_neighbors': 6}</td>\n",
       "      <td>0.582450</td>\n",
       "      <td>0.621194</td>\n",
       "      <td>0.509111</td>\n",
       "      <td>0.446859</td>\n",
       "      <td>0.250417</td>\n",
       "      <td>0.482006</td>\n",
       "      <td>0.130434</td>\n",
       "      <td>5</td>\n",
       "    </tr>\n",
       "    <tr>\n",
       "      <th>6</th>\n",
       "      <td>0.002001</td>\n",
       "      <td>6.326363e-04</td>\n",
       "      <td>0.002600</td>\n",
       "      <td>0.000800</td>\n",
       "      <td>7</td>\n",
       "      <td>{'algo__n_neighbors': 7}</td>\n",
       "      <td>0.602434</td>\n",
       "      <td>0.636185</td>\n",
       "      <td>0.516102</td>\n",
       "      <td>0.442088</td>\n",
       "      <td>0.245749</td>\n",
       "      <td>0.488512</td>\n",
       "      <td>0.139022</td>\n",
       "      <td>4</td>\n",
       "    </tr>\n",
       "    <tr>\n",
       "      <th>7</th>\n",
       "      <td>0.002000</td>\n",
       "      <td>5.642013e-07</td>\n",
       "      <td>0.002601</td>\n",
       "      <td>0.000801</td>\n",
       "      <td>8</td>\n",
       "      <td>{'algo__n_neighbors': 8}</td>\n",
       "      <td>0.615090</td>\n",
       "      <td>0.631185</td>\n",
       "      <td>0.551340</td>\n",
       "      <td>0.440117</td>\n",
       "      <td>0.239072</td>\n",
       "      <td>0.495361</td>\n",
       "      <td>0.144674</td>\n",
       "      <td>3</td>\n",
       "    </tr>\n",
       "    <tr>\n",
       "      <th>8</th>\n",
       "      <td>0.002599</td>\n",
       "      <td>4.908591e-04</td>\n",
       "      <td>0.002802</td>\n",
       "      <td>0.001170</td>\n",
       "      <td>9</td>\n",
       "      <td>{'algo__n_neighbors': 9}</td>\n",
       "      <td>0.625314</td>\n",
       "      <td>0.630621</td>\n",
       "      <td>0.564464</td>\n",
       "      <td>0.429107</td>\n",
       "      <td>0.279376</td>\n",
       "      <td>0.505776</td>\n",
       "      <td>0.134503</td>\n",
       "      <td>1</td>\n",
       "    </tr>\n",
       "    <tr>\n",
       "      <th>9</th>\n",
       "      <td>0.002200</td>\n",
       "      <td>3.996860e-04</td>\n",
       "      <td>0.002399</td>\n",
       "      <td>0.000800</td>\n",
       "      <td>10</td>\n",
       "      <td>{'algo__n_neighbors': 10}</td>\n",
       "      <td>0.614446</td>\n",
       "      <td>0.652489</td>\n",
       "      <td>0.555555</td>\n",
       "      <td>0.420648</td>\n",
       "      <td>0.261128</td>\n",
       "      <td>0.500853</td>\n",
       "      <td>0.143381</td>\n",
       "      <td>2</td>\n",
       "    </tr>\n",
       "  </tbody>\n",
       "</table>\n",
       "</div>"
      ],
      "text/plain": [
       "   mean_fit_time  std_fit_time  mean_score_time  std_score_time  \\\n",
       "0       0.003402  8.002358e-04         0.003002        0.001103   \n",
       "1       0.003199  1.469705e-03         0.002603        0.000492   \n",
       "2       0.002201  3.993544e-04         0.002400        0.001021   \n",
       "3       0.002400  4.904087e-04         0.002001        0.000633   \n",
       "4       0.003601  8.012829e-04         0.003801        0.000750   \n",
       "5       0.002198  4.006628e-04         0.003200        0.001470   \n",
       "6       0.002001  6.326363e-04         0.002600        0.000800   \n",
       "7       0.002000  5.642013e-07         0.002601        0.000801   \n",
       "8       0.002599  4.908591e-04         0.002802        0.001170   \n",
       "9       0.002200  3.996860e-04         0.002399        0.000800   \n",
       "\n",
       "  param_algo__n_neighbors                     params  split0_test_score  \\\n",
       "0                       1   {'algo__n_neighbors': 1}           0.339313   \n",
       "1                       2   {'algo__n_neighbors': 2}           0.441649   \n",
       "2                       3   {'algo__n_neighbors': 3}           0.520304   \n",
       "3                       4   {'algo__n_neighbors': 4}           0.547088   \n",
       "4                       5   {'algo__n_neighbors': 5}           0.560895   \n",
       "5                       6   {'algo__n_neighbors': 6}           0.582450   \n",
       "6                       7   {'algo__n_neighbors': 7}           0.602434   \n",
       "7                       8   {'algo__n_neighbors': 8}           0.615090   \n",
       "8                       9   {'algo__n_neighbors': 9}           0.625314   \n",
       "9                      10  {'algo__n_neighbors': 10}           0.614446   \n",
       "\n",
       "   split1_test_score  split2_test_score  split3_test_score  split4_test_score  \\\n",
       "0           0.423779           0.534566           0.486373          -1.623928   \n",
       "1           0.547962           0.474980           0.496794          -0.548699   \n",
       "2           0.593339           0.547746           0.513891           0.002980   \n",
       "3           0.606925           0.509770           0.490452           0.211278   \n",
       "4           0.619174           0.486619           0.469869           0.231330   \n",
       "5           0.621194           0.509111           0.446859           0.250417   \n",
       "6           0.636185           0.516102           0.442088           0.245749   \n",
       "7           0.631185           0.551340           0.440117           0.239072   \n",
       "8           0.630621           0.564464           0.429107           0.279376   \n",
       "9           0.652489           0.555555           0.420648           0.261128   \n",
       "\n",
       "   mean_test_score  std_test_score  rank_test_score  \n",
       "0         0.032020        0.830549               10  \n",
       "1         0.282537        0.417052                9  \n",
       "2         0.435652        0.218139                8  \n",
       "3         0.473103        0.136807                7  \n",
       "4         0.473577        0.132431                6  \n",
       "5         0.482006        0.130434                5  \n",
       "6         0.488512        0.139022                4  \n",
       "7         0.495361        0.144674                3  \n",
       "8         0.505776        0.134503                1  \n",
       "9         0.500853        0.143381                2  "
      ]
     },
     "execution_count": 46,
     "metadata": {},
     "output_type": "execute_result"
    }
   ],
   "source": [
    "import pandas as pd \n",
    "pd.DataFrame(model.cv_results_)"
   ]
  }
 ],
 "metadata": {
  "kernelspec": {
   "display_name": "jazz",
   "language": "python",
   "name": "python3"
  },
  "language_info": {
   "codemirror_mode": {
    "name": "ipython",
    "version": 3
   },
   "file_extension": ".py",
   "mimetype": "text/x-python",
   "name": "python",
   "nbconvert_exporter": "python",
   "pygments_lexer": "ipython3",
   "version": "3.10.8"
  },
  "orig_nbformat": 4,
  "vscode": {
   "interpreter": {
    "hash": "836c7a803e62df638fdb1bd403a0bb0c86242d4bee87d0bafcdb520cf7232eeb"
   }
  }
 },
 "nbformat": 4,
 "nbformat_minor": 2
}
