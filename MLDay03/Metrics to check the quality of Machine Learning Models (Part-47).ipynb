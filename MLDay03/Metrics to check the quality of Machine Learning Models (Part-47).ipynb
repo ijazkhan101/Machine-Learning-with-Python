{
 "cells": [
  {
   "attachments": {},
   "cell_type": "markdown",
   "metadata": {},
   "source": [
    "### Metrics to check the quality of Machine Learning Models"
   ]
  },
  {
   "cell_type": "code",
   "execution_count": 1,
   "metadata": {},
   "outputs": [],
   "source": [
    "import  numpy as np \n",
    "import pandas as pd \n",
    "import matplotlib.pylab as plt\n",
    "import seaborn as sns \n",
    "from sklearn.linear_model import LogisticRegression \n",
    "from sklearn.model_selection import GridSearchCV\n",
    "from sklearn.metrics import precision_score,recall_score,confusion_matrix ,classification_report,f1_score,accuracy_score,make_scorer\n",
    "\n"
   ]
  },
  {
   "cell_type": "code",
   "execution_count": 2,
   "metadata": {},
   "outputs": [
    {
     "data": {
      "text/html": [
       "<div>\n",
       "<style scoped>\n",
       "    .dataframe tbody tr th:only-of-type {\n",
       "        vertical-align: middle;\n",
       "    }\n",
       "\n",
       "    .dataframe tbody tr th {\n",
       "        vertical-align: top;\n",
       "    }\n",
       "\n",
       "    .dataframe thead th {\n",
       "        text-align: right;\n",
       "    }\n",
       "</style>\n",
       "<table border=\"1\" class=\"dataframe\">\n",
       "  <thead>\n",
       "    <tr style=\"text-align: right;\">\n",
       "      <th></th>\n",
       "      <th>Time</th>\n",
       "      <th>V1</th>\n",
       "      <th>V2</th>\n",
       "      <th>V3</th>\n",
       "      <th>V4</th>\n",
       "      <th>V5</th>\n",
       "      <th>V6</th>\n",
       "      <th>V7</th>\n",
       "      <th>V8</th>\n",
       "      <th>V9</th>\n",
       "      <th>...</th>\n",
       "      <th>V21</th>\n",
       "      <th>V22</th>\n",
       "      <th>V23</th>\n",
       "      <th>V24</th>\n",
       "      <th>V25</th>\n",
       "      <th>V26</th>\n",
       "      <th>V27</th>\n",
       "      <th>V28</th>\n",
       "      <th>Amount</th>\n",
       "      <th>Class</th>\n",
       "    </tr>\n",
       "  </thead>\n",
       "  <tbody>\n",
       "    <tr>\n",
       "      <th>21238</th>\n",
       "      <td>31550.0</td>\n",
       "      <td>-0.972401</td>\n",
       "      <td>0.652863</td>\n",
       "      <td>2.669551</td>\n",
       "      <td>1.391358</td>\n",
       "      <td>-0.986318</td>\n",
       "      <td>-0.083598</td>\n",
       "      <td>0.067155</td>\n",
       "      <td>0.131614</td>\n",
       "      <td>0.211952</td>\n",
       "      <td>...</td>\n",
       "      <td>0.197048</td>\n",
       "      <td>0.633022</td>\n",
       "      <td>-0.127267</td>\n",
       "      <td>0.703985</td>\n",
       "      <td>0.215010</td>\n",
       "      <td>-0.096101</td>\n",
       "      <td>-0.126639</td>\n",
       "      <td>0.110299</td>\n",
       "      <td>43.0</td>\n",
       "      <td>0</td>\n",
       "    </tr>\n",
       "    <tr>\n",
       "      <th>68421</th>\n",
       "      <td>52984.0</td>\n",
       "      <td>1.056563</td>\n",
       "      <td>0.135047</td>\n",
       "      <td>0.450158</td>\n",
       "      <td>1.108255</td>\n",
       "      <td>-0.136541</td>\n",
       "      <td>-0.023696</td>\n",
       "      <td>-0.004363</td>\n",
       "      <td>0.065342</td>\n",
       "      <td>-0.324552</td>\n",
       "      <td>...</td>\n",
       "      <td>0.146303</td>\n",
       "      <td>0.386420</td>\n",
       "      <td>-0.103472</td>\n",
       "      <td>0.029922</td>\n",
       "      <td>0.508141</td>\n",
       "      <td>-0.322921</td>\n",
       "      <td>0.029779</td>\n",
       "      <td>0.019617</td>\n",
       "      <td>49.0</td>\n",
       "      <td>0</td>\n",
       "    </tr>\n",
       "    <tr>\n",
       "      <th>97659</th>\n",
       "      <td>66319.0</td>\n",
       "      <td>1.568989</td>\n",
       "      <td>-0.944651</td>\n",
       "      <td>-0.070873</td>\n",
       "      <td>-1.763315</td>\n",
       "      <td>-0.728317</td>\n",
       "      <td>0.095268</td>\n",
       "      <td>-0.953282</td>\n",
       "      <td>-0.089752</td>\n",
       "      <td>-2.206720</td>\n",
       "      <td>...</td>\n",
       "      <td>-0.235035</td>\n",
       "      <td>-0.253634</td>\n",
       "      <td>-0.158744</td>\n",
       "      <td>-0.980618</td>\n",
       "      <td>0.578181</td>\n",
       "      <td>-0.145866</td>\n",
       "      <td>0.032400</td>\n",
       "      <td>0.000344</td>\n",
       "      <td>15.0</td>\n",
       "      <td>0</td>\n",
       "    </tr>\n",
       "    <tr>\n",
       "      <th>193614</th>\n",
       "      <td>130214.0</td>\n",
       "      <td>-2.567360</td>\n",
       "      <td>-0.398800</td>\n",
       "      <td>0.422644</td>\n",
       "      <td>0.349300</td>\n",
       "      <td>-1.560111</td>\n",
       "      <td>1.225073</td>\n",
       "      <td>0.986748</td>\n",
       "      <td>0.230471</td>\n",
       "      <td>-1.462310</td>\n",
       "      <td>...</td>\n",
       "      <td>-0.462104</td>\n",
       "      <td>-0.341253</td>\n",
       "      <td>-0.420273</td>\n",
       "      <td>0.705276</td>\n",
       "      <td>0.491527</td>\n",
       "      <td>-0.431081</td>\n",
       "      <td>-0.019302</td>\n",
       "      <td>0.179316</td>\n",
       "      <td>370.0</td>\n",
       "      <td>0</td>\n",
       "    </tr>\n",
       "    <tr>\n",
       "      <th>5468</th>\n",
       "      <td>5494.0</td>\n",
       "      <td>0.934890</td>\n",
       "      <td>0.606763</td>\n",
       "      <td>0.424614</td>\n",
       "      <td>0.959685</td>\n",
       "      <td>0.101613</td>\n",
       "      <td>-0.893265</td>\n",
       "      <td>0.707978</td>\n",
       "      <td>-0.524007</td>\n",
       "      <td>1.076137</td>\n",
       "      <td>...</td>\n",
       "      <td>-0.059816</td>\n",
       "      <td>0.377196</td>\n",
       "      <td>0.336011</td>\n",
       "      <td>0.592248</td>\n",
       "      <td>-0.955234</td>\n",
       "      <td>0.168309</td>\n",
       "      <td>-0.250721</td>\n",
       "      <td>-0.361626</td>\n",
       "      <td>25.7</td>\n",
       "      <td>0</td>\n",
       "    </tr>\n",
       "  </tbody>\n",
       "</table>\n",
       "<p>5 rows × 31 columns</p>\n",
       "</div>"
      ],
      "text/plain": [
       "            Time        V1        V2        V3        V4        V5        V6  \\\n",
       "21238    31550.0 -0.972401  0.652863  2.669551  1.391358 -0.986318 -0.083598   \n",
       "68421    52984.0  1.056563  0.135047  0.450158  1.108255 -0.136541 -0.023696   \n",
       "97659    66319.0  1.568989 -0.944651 -0.070873 -1.763315 -0.728317  0.095268   \n",
       "193614  130214.0 -2.567360 -0.398800  0.422644  0.349300 -1.560111  1.225073   \n",
       "5468      5494.0  0.934890  0.606763  0.424614  0.959685  0.101613 -0.893265   \n",
       "\n",
       "              V7        V8        V9  ...       V21       V22       V23  \\\n",
       "21238   0.067155  0.131614  0.211952  ...  0.197048  0.633022 -0.127267   \n",
       "68421  -0.004363  0.065342 -0.324552  ...  0.146303  0.386420 -0.103472   \n",
       "97659  -0.953282 -0.089752 -2.206720  ... -0.235035 -0.253634 -0.158744   \n",
       "193614  0.986748  0.230471 -1.462310  ... -0.462104 -0.341253 -0.420273   \n",
       "5468    0.707978 -0.524007  1.076137  ... -0.059816  0.377196  0.336011   \n",
       "\n",
       "             V24       V25       V26       V27       V28  Amount  Class  \n",
       "21238   0.703985  0.215010 -0.096101 -0.126639  0.110299    43.0      0  \n",
       "68421   0.029922  0.508141 -0.322921  0.029779  0.019617    49.0      0  \n",
       "97659  -0.980618  0.578181 -0.145866  0.032400  0.000344    15.0      0  \n",
       "193614  0.705276  0.491527 -0.431081 -0.019302  0.179316   370.0      0  \n",
       "5468    0.592248 -0.955234  0.168309 -0.250721 -0.361626    25.7      0  \n",
       "\n",
       "[5 rows x 31 columns]"
      ]
     },
     "execution_count": 2,
     "metadata": {},
     "output_type": "execute_result"
    }
   ],
   "source": [
    "df=pd.read_csv('creditcard.csv')\n",
    "df.sample(5)"
   ]
  },
  {
   "cell_type": "code",
   "execution_count": 3,
   "metadata": {},
   "outputs": [
    {
     "data": {
      "text/plain": [
       "(284807, 31)"
      ]
     },
     "execution_count": 3,
     "metadata": {},
     "output_type": "execute_result"
    }
   ],
   "source": [
    "df.shape"
   ]
  },
  {
   "cell_type": "code",
   "execution_count": 4,
   "metadata": {},
   "outputs": [],
   "source": [
    "X =df.drop(columns =['Class','Time','Amount'])"
   ]
  },
  {
   "cell_type": "code",
   "execution_count": 5,
   "metadata": {},
   "outputs": [],
   "source": [
    "y=df.iloc[:,-1:]"
   ]
  },
  {
   "cell_type": "code",
   "execution_count": 6,
   "metadata": {},
   "outputs": [
    {
     "data": {
      "text/plain": [
       "0    284315\n",
       "1       492\n",
       "Name: Class, dtype: int64"
      ]
     },
     "execution_count": 6,
     "metadata": {},
     "output_type": "execute_result"
    }
   ],
   "source": [
    "df['Class'].value_counts()"
   ]
  },
  {
   "cell_type": "code",
   "execution_count": 7,
   "metadata": {},
   "outputs": [
    {
     "data": {
      "text/plain": [
       "Class    492\n",
       "dtype: int64"
      ]
     },
     "execution_count": 7,
     "metadata": {},
     "output_type": "execute_result"
    }
   ],
   "source": [
    "y.sum()"
   ]
  },
  {
   "cell_type": "code",
   "execution_count": 8,
   "metadata": {},
   "outputs": [],
   "source": [
    "lr=LogisticRegression(class_weight={0:1,1:2})"
   ]
  },
  {
   "cell_type": "code",
   "execution_count": 28,
   "metadata": {},
   "outputs": [
    {
     "name": "stderr",
     "output_type": "stream",
     "text": [
      "C:\\Users\\Lenovo\\AppData\\Roaming\\Python\\Python310\\site-packages\\sklearn\\utils\\validation.py:1111: DataConversionWarning: A column-vector y was passed when a 1d array was expected. Please change the shape of y to (n_samples, ), for example using ravel().\n",
      "  y = column_or_1d(y, warn=True)\n"
     ]
    },
    {
     "data": {
      "text/html": [
       "<style>#sk-container-id-1 {color: black;background-color: white;}#sk-container-id-1 pre{padding: 0;}#sk-container-id-1 div.sk-toggleable {background-color: white;}#sk-container-id-1 label.sk-toggleable__label {cursor: pointer;display: block;width: 100%;margin-bottom: 0;padding: 0.3em;box-sizing: border-box;text-align: center;}#sk-container-id-1 label.sk-toggleable__label-arrow:before {content: \"▸\";float: left;margin-right: 0.25em;color: #696969;}#sk-container-id-1 label.sk-toggleable__label-arrow:hover:before {color: black;}#sk-container-id-1 div.sk-estimator:hover label.sk-toggleable__label-arrow:before {color: black;}#sk-container-id-1 div.sk-toggleable__content {max-height: 0;max-width: 0;overflow: hidden;text-align: left;background-color: #f0f8ff;}#sk-container-id-1 div.sk-toggleable__content pre {margin: 0.2em;color: black;border-radius: 0.25em;background-color: #f0f8ff;}#sk-container-id-1 input.sk-toggleable__control:checked~div.sk-toggleable__content {max-height: 200px;max-width: 100%;overflow: auto;}#sk-container-id-1 input.sk-toggleable__control:checked~label.sk-toggleable__label-arrow:before {content: \"▾\";}#sk-container-id-1 div.sk-estimator input.sk-toggleable__control:checked~label.sk-toggleable__label {background-color: #d4ebff;}#sk-container-id-1 div.sk-label input.sk-toggleable__control:checked~label.sk-toggleable__label {background-color: #d4ebff;}#sk-container-id-1 input.sk-hidden--visually {border: 0;clip: rect(1px 1px 1px 1px);clip: rect(1px, 1px, 1px, 1px);height: 1px;margin: -1px;overflow: hidden;padding: 0;position: absolute;width: 1px;}#sk-container-id-1 div.sk-estimator {font-family: monospace;background-color: #f0f8ff;border: 1px dotted black;border-radius: 0.25em;box-sizing: border-box;margin-bottom: 0.5em;}#sk-container-id-1 div.sk-estimator:hover {background-color: #d4ebff;}#sk-container-id-1 div.sk-parallel-item::after {content: \"\";width: 100%;border-bottom: 1px solid gray;flex-grow: 1;}#sk-container-id-1 div.sk-label:hover label.sk-toggleable__label {background-color: #d4ebff;}#sk-container-id-1 div.sk-serial::before {content: \"\";position: absolute;border-left: 1px solid gray;box-sizing: border-box;top: 0;bottom: 0;left: 50%;z-index: 0;}#sk-container-id-1 div.sk-serial {display: flex;flex-direction: column;align-items: center;background-color: white;padding-right: 0.2em;padding-left: 0.2em;position: relative;}#sk-container-id-1 div.sk-item {position: relative;z-index: 1;}#sk-container-id-1 div.sk-parallel {display: flex;align-items: stretch;justify-content: center;background-color: white;position: relative;}#sk-container-id-1 div.sk-item::before, #sk-container-id-1 div.sk-parallel-item::before {content: \"\";position: absolute;border-left: 1px solid gray;box-sizing: border-box;top: 0;bottom: 0;left: 50%;z-index: -1;}#sk-container-id-1 div.sk-parallel-item {display: flex;flex-direction: column;z-index: 1;position: relative;background-color: white;}#sk-container-id-1 div.sk-parallel-item:first-child::after {align-self: flex-end;width: 50%;}#sk-container-id-1 div.sk-parallel-item:last-child::after {align-self: flex-start;width: 50%;}#sk-container-id-1 div.sk-parallel-item:only-child::after {width: 0;}#sk-container-id-1 div.sk-dashed-wrapped {border: 1px dashed gray;margin: 0 0.4em 0.5em 0.4em;box-sizing: border-box;padding-bottom: 0.4em;background-color: white;}#sk-container-id-1 div.sk-label label {font-family: monospace;font-weight: bold;display: inline-block;line-height: 1.2em;}#sk-container-id-1 div.sk-label-container {text-align: center;}#sk-container-id-1 div.sk-container {/* jupyter's `normalize.less` sets `[hidden] { display: none; }` but bootstrap.min.css set `[hidden] { display: none !important; }` so we also need the `!important` here to be able to override the default hidden behavior on the sphinx rendered scikit-learn.org. See: https://github.com/scikit-learn/scikit-learn/issues/21755 */display: inline-block !important;position: relative;}#sk-container-id-1 div.sk-text-repr-fallback {display: none;}</style><div id=\"sk-container-id-1\" class=\"sk-top-container\"><div class=\"sk-text-repr-fallback\"><pre>LogisticRegression(class_weight={0: 1, 1: 2})</pre><b>In a Jupyter environment, please rerun this cell to show the HTML representation or trust the notebook. <br />On GitHub, the HTML representation is unable to render, please try loading this page with nbviewer.org.</b></div><div class=\"sk-container\" hidden><div class=\"sk-item\"><div class=\"sk-estimator sk-toggleable\"><input class=\"sk-toggleable__control sk-hidden--visually\" id=\"sk-estimator-id-1\" type=\"checkbox\" checked><label for=\"sk-estimator-id-1\" class=\"sk-toggleable__label sk-toggleable__label-arrow\">LogisticRegression</label><div class=\"sk-toggleable__content\"><pre>LogisticRegression(class_weight={0: 1, 1: 2})</pre></div></div></div></div></div>"
      ],
      "text/plain": [
       "LogisticRegression(class_weight={0: 1, 1: 2})"
      ]
     },
     "execution_count": 28,
     "metadata": {},
     "output_type": "execute_result"
    }
   ],
   "source": [
    "lr.fit(X,y)"
   ]
  },
  {
   "cell_type": "code",
   "execution_count": 29,
   "metadata": {},
   "outputs": [],
   "source": [
    "predicted_y =lr.predict(X)"
   ]
  },
  {
   "cell_type": "code",
   "execution_count": 30,
   "metadata": {},
   "outputs": [
    {
     "data": {
      "text/plain": [
       "437"
      ]
     },
     "execution_count": 30,
     "metadata": {},
     "output_type": "execute_result"
    }
   ],
   "source": [
    "predicted_y.sum()"
   ]
  },
  {
   "cell_type": "code",
   "execution_count": 31,
   "metadata": {},
   "outputs": [],
   "source": [
    "grid=GridSearchCV(\n",
    "    estimator=LogisticRegression(),\n",
    "    param_grid={'class_weight':[{0:1,1: number}for number in range(1,10)]},\n",
    "    cv=5\n",
    ")"
   ]
  },
  {
   "cell_type": "code",
   "execution_count": 32,
   "metadata": {},
   "outputs": [
    {
     "name": "stderr",
     "output_type": "stream",
     "text": [
      "C:\\Users\\Lenovo\\AppData\\Roaming\\Python\\Python310\\site-packages\\sklearn\\utils\\validation.py:1111: DataConversionWarning: A column-vector y was passed when a 1d array was expected. Please change the shape of y to (n_samples, ), for example using ravel().\n",
      "  y = column_or_1d(y, warn=True)\n",
      "C:\\Users\\Lenovo\\AppData\\Roaming\\Python\\Python310\\site-packages\\sklearn\\utils\\validation.py:1111: DataConversionWarning: A column-vector y was passed when a 1d array was expected. Please change the shape of y to (n_samples, ), for example using ravel().\n",
      "  y = column_or_1d(y, warn=True)\n",
      "C:\\Users\\Lenovo\\AppData\\Roaming\\Python\\Python310\\site-packages\\sklearn\\utils\\validation.py:1111: DataConversionWarning: A column-vector y was passed when a 1d array was expected. Please change the shape of y to (n_samples, ), for example using ravel().\n",
      "  y = column_or_1d(y, warn=True)\n",
      "C:\\Users\\Lenovo\\AppData\\Roaming\\Python\\Python310\\site-packages\\sklearn\\utils\\validation.py:1111: DataConversionWarning: A column-vector y was passed when a 1d array was expected. Please change the shape of y to (n_samples, ), for example using ravel().\n",
      "  y = column_or_1d(y, warn=True)\n",
      "C:\\Users\\Lenovo\\AppData\\Roaming\\Python\\Python310\\site-packages\\sklearn\\utils\\validation.py:1111: DataConversionWarning: A column-vector y was passed when a 1d array was expected. Please change the shape of y to (n_samples, ), for example using ravel().\n",
      "  y = column_or_1d(y, warn=True)\n",
      "C:\\Users\\Lenovo\\AppData\\Roaming\\Python\\Python310\\site-packages\\sklearn\\utils\\validation.py:1111: DataConversionWarning: A column-vector y was passed when a 1d array was expected. Please change the shape of y to (n_samples, ), for example using ravel().\n",
      "  y = column_or_1d(y, warn=True)\n",
      "C:\\Users\\Lenovo\\AppData\\Roaming\\Python\\Python310\\site-packages\\sklearn\\utils\\validation.py:1111: DataConversionWarning: A column-vector y was passed when a 1d array was expected. Please change the shape of y to (n_samples, ), for example using ravel().\n",
      "  y = column_or_1d(y, warn=True)\n",
      "C:\\Users\\Lenovo\\AppData\\Roaming\\Python\\Python310\\site-packages\\sklearn\\utils\\validation.py:1111: DataConversionWarning: A column-vector y was passed when a 1d array was expected. Please change the shape of y to (n_samples, ), for example using ravel().\n",
      "  y = column_or_1d(y, warn=True)\n",
      "C:\\Users\\Lenovo\\AppData\\Roaming\\Python\\Python310\\site-packages\\sklearn\\utils\\validation.py:1111: DataConversionWarning: A column-vector y was passed when a 1d array was expected. Please change the shape of y to (n_samples, ), for example using ravel().\n",
      "  y = column_or_1d(y, warn=True)\n",
      "C:\\Users\\Lenovo\\AppData\\Roaming\\Python\\Python310\\site-packages\\sklearn\\utils\\validation.py:1111: DataConversionWarning: A column-vector y was passed when a 1d array was expected. Please change the shape of y to (n_samples, ), for example using ravel().\n",
      "  y = column_or_1d(y, warn=True)\n",
      "C:\\Users\\Lenovo\\AppData\\Roaming\\Python\\Python310\\site-packages\\sklearn\\utils\\validation.py:1111: DataConversionWarning: A column-vector y was passed when a 1d array was expected. Please change the shape of y to (n_samples, ), for example using ravel().\n",
      "  y = column_or_1d(y, warn=True)\n",
      "C:\\Users\\Lenovo\\AppData\\Roaming\\Python\\Python310\\site-packages\\sklearn\\utils\\validation.py:1111: DataConversionWarning: A column-vector y was passed when a 1d array was expected. Please change the shape of y to (n_samples, ), for example using ravel().\n",
      "  y = column_or_1d(y, warn=True)\n",
      "C:\\Users\\Lenovo\\AppData\\Roaming\\Python\\Python310\\site-packages\\sklearn\\utils\\validation.py:1111: DataConversionWarning: A column-vector y was passed when a 1d array was expected. Please change the shape of y to (n_samples, ), for example using ravel().\n",
      "  y = column_or_1d(y, warn=True)\n",
      "C:\\Users\\Lenovo\\AppData\\Roaming\\Python\\Python310\\site-packages\\sklearn\\utils\\validation.py:1111: DataConversionWarning: A column-vector y was passed when a 1d array was expected. Please change the shape of y to (n_samples, ), for example using ravel().\n",
      "  y = column_or_1d(y, warn=True)\n",
      "C:\\Users\\Lenovo\\AppData\\Roaming\\Python\\Python310\\site-packages\\sklearn\\utils\\validation.py:1111: DataConversionWarning: A column-vector y was passed when a 1d array was expected. Please change the shape of y to (n_samples, ), for example using ravel().\n",
      "  y = column_or_1d(y, warn=True)\n",
      "C:\\Users\\Lenovo\\AppData\\Roaming\\Python\\Python310\\site-packages\\sklearn\\utils\\validation.py:1111: DataConversionWarning: A column-vector y was passed when a 1d array was expected. Please change the shape of y to (n_samples, ), for example using ravel().\n",
      "  y = column_or_1d(y, warn=True)\n",
      "C:\\Users\\Lenovo\\AppData\\Roaming\\Python\\Python310\\site-packages\\sklearn\\utils\\validation.py:1111: DataConversionWarning: A column-vector y was passed when a 1d array was expected. Please change the shape of y to (n_samples, ), for example using ravel().\n",
      "  y = column_or_1d(y, warn=True)\n",
      "C:\\Users\\Lenovo\\AppData\\Roaming\\Python\\Python310\\site-packages\\sklearn\\utils\\validation.py:1111: DataConversionWarning: A column-vector y was passed when a 1d array was expected. Please change the shape of y to (n_samples, ), for example using ravel().\n",
      "  y = column_or_1d(y, warn=True)\n",
      "C:\\Users\\Lenovo\\AppData\\Roaming\\Python\\Python310\\site-packages\\sklearn\\utils\\validation.py:1111: DataConversionWarning: A column-vector y was passed when a 1d array was expected. Please change the shape of y to (n_samples, ), for example using ravel().\n",
      "  y = column_or_1d(y, warn=True)\n",
      "C:\\Users\\Lenovo\\AppData\\Roaming\\Python\\Python310\\site-packages\\sklearn\\utils\\validation.py:1111: DataConversionWarning: A column-vector y was passed when a 1d array was expected. Please change the shape of y to (n_samples, ), for example using ravel().\n",
      "  y = column_or_1d(y, warn=True)\n",
      "C:\\Users\\Lenovo\\AppData\\Roaming\\Python\\Python310\\site-packages\\sklearn\\utils\\validation.py:1111: DataConversionWarning: A column-vector y was passed when a 1d array was expected. Please change the shape of y to (n_samples, ), for example using ravel().\n",
      "  y = column_or_1d(y, warn=True)\n",
      "C:\\Users\\Lenovo\\AppData\\Roaming\\Python\\Python310\\site-packages\\sklearn\\utils\\validation.py:1111: DataConversionWarning: A column-vector y was passed when a 1d array was expected. Please change the shape of y to (n_samples, ), for example using ravel().\n",
      "  y = column_or_1d(y, warn=True)\n",
      "C:\\Users\\Lenovo\\AppData\\Roaming\\Python\\Python310\\site-packages\\sklearn\\utils\\validation.py:1111: DataConversionWarning: A column-vector y was passed when a 1d array was expected. Please change the shape of y to (n_samples, ), for example using ravel().\n",
      "  y = column_or_1d(y, warn=True)\n",
      "C:\\Users\\Lenovo\\AppData\\Roaming\\Python\\Python310\\site-packages\\sklearn\\utils\\validation.py:1111: DataConversionWarning: A column-vector y was passed when a 1d array was expected. Please change the shape of y to (n_samples, ), for example using ravel().\n",
      "  y = column_or_1d(y, warn=True)\n",
      "C:\\Users\\Lenovo\\AppData\\Roaming\\Python\\Python310\\site-packages\\sklearn\\utils\\validation.py:1111: DataConversionWarning: A column-vector y was passed when a 1d array was expected. Please change the shape of y to (n_samples, ), for example using ravel().\n",
      "  y = column_or_1d(y, warn=True)\n",
      "C:\\Users\\Lenovo\\AppData\\Roaming\\Python\\Python310\\site-packages\\sklearn\\utils\\validation.py:1111: DataConversionWarning: A column-vector y was passed when a 1d array was expected. Please change the shape of y to (n_samples, ), for example using ravel().\n",
      "  y = column_or_1d(y, warn=True)\n",
      "C:\\Users\\Lenovo\\AppData\\Roaming\\Python\\Python310\\site-packages\\sklearn\\utils\\validation.py:1111: DataConversionWarning: A column-vector y was passed when a 1d array was expected. Please change the shape of y to (n_samples, ), for example using ravel().\n",
      "  y = column_or_1d(y, warn=True)\n",
      "C:\\Users\\Lenovo\\AppData\\Roaming\\Python\\Python310\\site-packages\\sklearn\\utils\\validation.py:1111: DataConversionWarning: A column-vector y was passed when a 1d array was expected. Please change the shape of y to (n_samples, ), for example using ravel().\n",
      "  y = column_or_1d(y, warn=True)\n",
      "C:\\Users\\Lenovo\\AppData\\Roaming\\Python\\Python310\\site-packages\\sklearn\\utils\\validation.py:1111: DataConversionWarning: A column-vector y was passed when a 1d array was expected. Please change the shape of y to (n_samples, ), for example using ravel().\n",
      "  y = column_or_1d(y, warn=True)\n",
      "C:\\Users\\Lenovo\\AppData\\Roaming\\Python\\Python310\\site-packages\\sklearn\\utils\\validation.py:1111: DataConversionWarning: A column-vector y was passed when a 1d array was expected. Please change the shape of y to (n_samples, ), for example using ravel().\n",
      "  y = column_or_1d(y, warn=True)\n",
      "C:\\Users\\Lenovo\\AppData\\Roaming\\Python\\Python310\\site-packages\\sklearn\\utils\\validation.py:1111: DataConversionWarning: A column-vector y was passed when a 1d array was expected. Please change the shape of y to (n_samples, ), for example using ravel().\n",
      "  y = column_or_1d(y, warn=True)\n",
      "C:\\Users\\Lenovo\\AppData\\Roaming\\Python\\Python310\\site-packages\\sklearn\\utils\\validation.py:1111: DataConversionWarning: A column-vector y was passed when a 1d array was expected. Please change the shape of y to (n_samples, ), for example using ravel().\n",
      "  y = column_or_1d(y, warn=True)\n",
      "C:\\Users\\Lenovo\\AppData\\Roaming\\Python\\Python310\\site-packages\\sklearn\\utils\\validation.py:1111: DataConversionWarning: A column-vector y was passed when a 1d array was expected. Please change the shape of y to (n_samples, ), for example using ravel().\n",
      "  y = column_or_1d(y, warn=True)\n",
      "C:\\Users\\Lenovo\\AppData\\Roaming\\Python\\Python310\\site-packages\\sklearn\\utils\\validation.py:1111: DataConversionWarning: A column-vector y was passed when a 1d array was expected. Please change the shape of y to (n_samples, ), for example using ravel().\n",
      "  y = column_or_1d(y, warn=True)\n",
      "C:\\Users\\Lenovo\\AppData\\Roaming\\Python\\Python310\\site-packages\\sklearn\\utils\\validation.py:1111: DataConversionWarning: A column-vector y was passed when a 1d array was expected. Please change the shape of y to (n_samples, ), for example using ravel().\n",
      "  y = column_or_1d(y, warn=True)\n",
      "C:\\Users\\Lenovo\\AppData\\Roaming\\Python\\Python310\\site-packages\\sklearn\\utils\\validation.py:1111: DataConversionWarning: A column-vector y was passed when a 1d array was expected. Please change the shape of y to (n_samples, ), for example using ravel().\n",
      "  y = column_or_1d(y, warn=True)\n",
      "C:\\Users\\Lenovo\\AppData\\Roaming\\Python\\Python310\\site-packages\\sklearn\\utils\\validation.py:1111: DataConversionWarning: A column-vector y was passed when a 1d array was expected. Please change the shape of y to (n_samples, ), for example using ravel().\n",
      "  y = column_or_1d(y, warn=True)\n",
      "C:\\Users\\Lenovo\\AppData\\Roaming\\Python\\Python310\\site-packages\\sklearn\\utils\\validation.py:1111: DataConversionWarning: A column-vector y was passed when a 1d array was expected. Please change the shape of y to (n_samples, ), for example using ravel().\n",
      "  y = column_or_1d(y, warn=True)\n",
      "C:\\Users\\Lenovo\\AppData\\Roaming\\Python\\Python310\\site-packages\\sklearn\\utils\\validation.py:1111: DataConversionWarning: A column-vector y was passed when a 1d array was expected. Please change the shape of y to (n_samples, ), for example using ravel().\n",
      "  y = column_or_1d(y, warn=True)\n",
      "C:\\Users\\Lenovo\\AppData\\Roaming\\Python\\Python310\\site-packages\\sklearn\\utils\\validation.py:1111: DataConversionWarning: A column-vector y was passed when a 1d array was expected. Please change the shape of y to (n_samples, ), for example using ravel().\n",
      "  y = column_or_1d(y, warn=True)\n",
      "C:\\Users\\Lenovo\\AppData\\Roaming\\Python\\Python310\\site-packages\\sklearn\\utils\\validation.py:1111: DataConversionWarning: A column-vector y was passed when a 1d array was expected. Please change the shape of y to (n_samples, ), for example using ravel().\n",
      "  y = column_or_1d(y, warn=True)\n",
      "C:\\Users\\Lenovo\\AppData\\Roaming\\Python\\Python310\\site-packages\\sklearn\\utils\\validation.py:1111: DataConversionWarning: A column-vector y was passed when a 1d array was expected. Please change the shape of y to (n_samples, ), for example using ravel().\n",
      "  y = column_or_1d(y, warn=True)\n",
      "C:\\Users\\Lenovo\\AppData\\Roaming\\Python\\Python310\\site-packages\\sklearn\\utils\\validation.py:1111: DataConversionWarning: A column-vector y was passed when a 1d array was expected. Please change the shape of y to (n_samples, ), for example using ravel().\n",
      "  y = column_or_1d(y, warn=True)\n",
      "C:\\Users\\Lenovo\\AppData\\Roaming\\Python\\Python310\\site-packages\\sklearn\\utils\\validation.py:1111: DataConversionWarning: A column-vector y was passed when a 1d array was expected. Please change the shape of y to (n_samples, ), for example using ravel().\n",
      "  y = column_or_1d(y, warn=True)\n",
      "C:\\Users\\Lenovo\\AppData\\Roaming\\Python\\Python310\\site-packages\\sklearn\\utils\\validation.py:1111: DataConversionWarning: A column-vector y was passed when a 1d array was expected. Please change the shape of y to (n_samples, ), for example using ravel().\n",
      "  y = column_or_1d(y, warn=True)\n",
      "C:\\Users\\Lenovo\\AppData\\Roaming\\Python\\Python310\\site-packages\\sklearn\\utils\\validation.py:1111: DataConversionWarning: A column-vector y was passed when a 1d array was expected. Please change the shape of y to (n_samples, ), for example using ravel().\n",
      "  y = column_or_1d(y, warn=True)\n"
     ]
    },
    {
     "data": {
      "text/html": [
       "<style>#sk-container-id-2 {color: black;background-color: white;}#sk-container-id-2 pre{padding: 0;}#sk-container-id-2 div.sk-toggleable {background-color: white;}#sk-container-id-2 label.sk-toggleable__label {cursor: pointer;display: block;width: 100%;margin-bottom: 0;padding: 0.3em;box-sizing: border-box;text-align: center;}#sk-container-id-2 label.sk-toggleable__label-arrow:before {content: \"▸\";float: left;margin-right: 0.25em;color: #696969;}#sk-container-id-2 label.sk-toggleable__label-arrow:hover:before {color: black;}#sk-container-id-2 div.sk-estimator:hover label.sk-toggleable__label-arrow:before {color: black;}#sk-container-id-2 div.sk-toggleable__content {max-height: 0;max-width: 0;overflow: hidden;text-align: left;background-color: #f0f8ff;}#sk-container-id-2 div.sk-toggleable__content pre {margin: 0.2em;color: black;border-radius: 0.25em;background-color: #f0f8ff;}#sk-container-id-2 input.sk-toggleable__control:checked~div.sk-toggleable__content {max-height: 200px;max-width: 100%;overflow: auto;}#sk-container-id-2 input.sk-toggleable__control:checked~label.sk-toggleable__label-arrow:before {content: \"▾\";}#sk-container-id-2 div.sk-estimator input.sk-toggleable__control:checked~label.sk-toggleable__label {background-color: #d4ebff;}#sk-container-id-2 div.sk-label input.sk-toggleable__control:checked~label.sk-toggleable__label {background-color: #d4ebff;}#sk-container-id-2 input.sk-hidden--visually {border: 0;clip: rect(1px 1px 1px 1px);clip: rect(1px, 1px, 1px, 1px);height: 1px;margin: -1px;overflow: hidden;padding: 0;position: absolute;width: 1px;}#sk-container-id-2 div.sk-estimator {font-family: monospace;background-color: #f0f8ff;border: 1px dotted black;border-radius: 0.25em;box-sizing: border-box;margin-bottom: 0.5em;}#sk-container-id-2 div.sk-estimator:hover {background-color: #d4ebff;}#sk-container-id-2 div.sk-parallel-item::after {content: \"\";width: 100%;border-bottom: 1px solid gray;flex-grow: 1;}#sk-container-id-2 div.sk-label:hover label.sk-toggleable__label {background-color: #d4ebff;}#sk-container-id-2 div.sk-serial::before {content: \"\";position: absolute;border-left: 1px solid gray;box-sizing: border-box;top: 0;bottom: 0;left: 50%;z-index: 0;}#sk-container-id-2 div.sk-serial {display: flex;flex-direction: column;align-items: center;background-color: white;padding-right: 0.2em;padding-left: 0.2em;position: relative;}#sk-container-id-2 div.sk-item {position: relative;z-index: 1;}#sk-container-id-2 div.sk-parallel {display: flex;align-items: stretch;justify-content: center;background-color: white;position: relative;}#sk-container-id-2 div.sk-item::before, #sk-container-id-2 div.sk-parallel-item::before {content: \"\";position: absolute;border-left: 1px solid gray;box-sizing: border-box;top: 0;bottom: 0;left: 50%;z-index: -1;}#sk-container-id-2 div.sk-parallel-item {display: flex;flex-direction: column;z-index: 1;position: relative;background-color: white;}#sk-container-id-2 div.sk-parallel-item:first-child::after {align-self: flex-end;width: 50%;}#sk-container-id-2 div.sk-parallel-item:last-child::after {align-self: flex-start;width: 50%;}#sk-container-id-2 div.sk-parallel-item:only-child::after {width: 0;}#sk-container-id-2 div.sk-dashed-wrapped {border: 1px dashed gray;margin: 0 0.4em 0.5em 0.4em;box-sizing: border-box;padding-bottom: 0.4em;background-color: white;}#sk-container-id-2 div.sk-label label {font-family: monospace;font-weight: bold;display: inline-block;line-height: 1.2em;}#sk-container-id-2 div.sk-label-container {text-align: center;}#sk-container-id-2 div.sk-container {/* jupyter's `normalize.less` sets `[hidden] { display: none; }` but bootstrap.min.css set `[hidden] { display: none !important; }` so we also need the `!important` here to be able to override the default hidden behavior on the sphinx rendered scikit-learn.org. See: https://github.com/scikit-learn/scikit-learn/issues/21755 */display: inline-block !important;position: relative;}#sk-container-id-2 div.sk-text-repr-fallback {display: none;}</style><div id=\"sk-container-id-2\" class=\"sk-top-container\"><div class=\"sk-text-repr-fallback\"><pre>GridSearchCV(cv=5, estimator=LogisticRegression(),\n",
       "             param_grid={&#x27;class_weight&#x27;: [{0: 1, 1: 1}, {0: 1, 1: 2},\n",
       "                                          {0: 1, 1: 3}, {0: 1, 1: 4},\n",
       "                                          {0: 1, 1: 5}, {0: 1, 1: 6},\n",
       "                                          {0: 1, 1: 7}, {0: 1, 1: 8},\n",
       "                                          {0: 1, 1: 9}]})</pre><b>In a Jupyter environment, please rerun this cell to show the HTML representation or trust the notebook. <br />On GitHub, the HTML representation is unable to render, please try loading this page with nbviewer.org.</b></div><div class=\"sk-container\" hidden><div class=\"sk-item sk-dashed-wrapped\"><div class=\"sk-label-container\"><div class=\"sk-label sk-toggleable\"><input class=\"sk-toggleable__control sk-hidden--visually\" id=\"sk-estimator-id-2\" type=\"checkbox\" ><label for=\"sk-estimator-id-2\" class=\"sk-toggleable__label sk-toggleable__label-arrow\">GridSearchCV</label><div class=\"sk-toggleable__content\"><pre>GridSearchCV(cv=5, estimator=LogisticRegression(),\n",
       "             param_grid={&#x27;class_weight&#x27;: [{0: 1, 1: 1}, {0: 1, 1: 2},\n",
       "                                          {0: 1, 1: 3}, {0: 1, 1: 4},\n",
       "                                          {0: 1, 1: 5}, {0: 1, 1: 6},\n",
       "                                          {0: 1, 1: 7}, {0: 1, 1: 8},\n",
       "                                          {0: 1, 1: 9}]})</pre></div></div></div><div class=\"sk-parallel\"><div class=\"sk-parallel-item\"><div class=\"sk-item\"><div class=\"sk-label-container\"><div class=\"sk-label sk-toggleable\"><input class=\"sk-toggleable__control sk-hidden--visually\" id=\"sk-estimator-id-3\" type=\"checkbox\" ><label for=\"sk-estimator-id-3\" class=\"sk-toggleable__label sk-toggleable__label-arrow\">estimator: LogisticRegression</label><div class=\"sk-toggleable__content\"><pre>LogisticRegression()</pre></div></div></div><div class=\"sk-serial\"><div class=\"sk-item\"><div class=\"sk-estimator sk-toggleable\"><input class=\"sk-toggleable__control sk-hidden--visually\" id=\"sk-estimator-id-4\" type=\"checkbox\" ><label for=\"sk-estimator-id-4\" class=\"sk-toggleable__label sk-toggleable__label-arrow\">LogisticRegression</label><div class=\"sk-toggleable__content\"><pre>LogisticRegression()</pre></div></div></div></div></div></div></div></div></div></div>"
      ],
      "text/plain": [
       "GridSearchCV(cv=5, estimator=LogisticRegression(),\n",
       "             param_grid={'class_weight': [{0: 1, 1: 1}, {0: 1, 1: 2},\n",
       "                                          {0: 1, 1: 3}, {0: 1, 1: 4},\n",
       "                                          {0: 1, 1: 5}, {0: 1, 1: 6},\n",
       "                                          {0: 1, 1: 7}, {0: 1, 1: 8},\n",
       "                                          {0: 1, 1: 9}]})"
      ]
     },
     "execution_count": 32,
     "metadata": {},
     "output_type": "execute_result"
    }
   ],
   "source": [
    "grid.fit(X,y)"
   ]
  },
  {
   "cell_type": "code",
   "execution_count": 33,
   "metadata": {},
   "outputs": [],
   "source": [
    "predicted_y =grid.predict(X)"
   ]
  },
  {
   "cell_type": "code",
   "execution_count": 34,
   "metadata": {},
   "outputs": [
    {
     "data": {
      "text/plain": [
       "476"
      ]
     },
     "execution_count": 34,
     "metadata": {},
     "output_type": "execute_result"
    }
   ],
   "source": [
    "predicted_y.sum()"
   ]
  },
  {
   "cell_type": "code",
   "execution_count": 35,
   "metadata": {},
   "outputs": [
    {
     "data": {
      "text/html": [
       "<div>\n",
       "<style scoped>\n",
       "    .dataframe tbody tr th:only-of-type {\n",
       "        vertical-align: middle;\n",
       "    }\n",
       "\n",
       "    .dataframe tbody tr th {\n",
       "        vertical-align: top;\n",
       "    }\n",
       "\n",
       "    .dataframe thead th {\n",
       "        text-align: right;\n",
       "    }\n",
       "</style>\n",
       "<table border=\"1\" class=\"dataframe\">\n",
       "  <thead>\n",
       "    <tr style=\"text-align: right;\">\n",
       "      <th></th>\n",
       "      <th>mean_fit_time</th>\n",
       "      <th>std_fit_time</th>\n",
       "      <th>mean_score_time</th>\n",
       "      <th>std_score_time</th>\n",
       "      <th>param_class_weight</th>\n",
       "      <th>params</th>\n",
       "      <th>split0_test_score</th>\n",
       "      <th>split1_test_score</th>\n",
       "      <th>split2_test_score</th>\n",
       "      <th>split3_test_score</th>\n",
       "      <th>split4_test_score</th>\n",
       "      <th>mean_test_score</th>\n",
       "      <th>std_test_score</th>\n",
       "      <th>rank_test_score</th>\n",
       "    </tr>\n",
       "  </thead>\n",
       "  <tbody>\n",
       "    <tr>\n",
       "      <th>0</th>\n",
       "      <td>3.884604</td>\n",
       "      <td>0.448501</td>\n",
       "      <td>0.011397</td>\n",
       "      <td>0.001357</td>\n",
       "      <td>{0: 1, 1: 1}</td>\n",
       "      <td>{'class_weight': {0: 1, 1: 1}}</td>\n",
       "      <td>0.998999</td>\n",
       "      <td>0.999315</td>\n",
       "      <td>0.998947</td>\n",
       "      <td>0.999298</td>\n",
       "      <td>0.999017</td>\n",
       "      <td>0.999115</td>\n",
       "      <td>0.000158</td>\n",
       "      <td>9</td>\n",
       "    </tr>\n",
       "    <tr>\n",
       "      <th>1</th>\n",
       "      <td>3.714201</td>\n",
       "      <td>0.462090</td>\n",
       "      <td>0.015002</td>\n",
       "      <td>0.005101</td>\n",
       "      <td>{0: 1, 1: 2}</td>\n",
       "      <td>{'class_weight': {0: 1, 1: 2}}</td>\n",
       "      <td>0.999034</td>\n",
       "      <td>0.999421</td>\n",
       "      <td>0.999017</td>\n",
       "      <td>0.999298</td>\n",
       "      <td>0.999175</td>\n",
       "      <td>0.999189</td>\n",
       "      <td>0.000154</td>\n",
       "      <td>7</td>\n",
       "    </tr>\n",
       "    <tr>\n",
       "      <th>2</th>\n",
       "      <td>4.169014</td>\n",
       "      <td>0.266212</td>\n",
       "      <td>0.020604</td>\n",
       "      <td>0.005240</td>\n",
       "      <td>{0: 1, 1: 3}</td>\n",
       "      <td>{'class_weight': {0: 1, 1: 3}}</td>\n",
       "      <td>0.999052</td>\n",
       "      <td>0.999491</td>\n",
       "      <td>0.998964</td>\n",
       "      <td>0.999421</td>\n",
       "      <td>0.999210</td>\n",
       "      <td>0.999228</td>\n",
       "      <td>0.000204</td>\n",
       "      <td>4</td>\n",
       "    </tr>\n",
       "    <tr>\n",
       "      <th>3</th>\n",
       "      <td>4.370200</td>\n",
       "      <td>0.442683</td>\n",
       "      <td>0.025404</td>\n",
       "      <td>0.009266</td>\n",
       "      <td>{0: 1, 1: 4}</td>\n",
       "      <td>{'class_weight': {0: 1, 1: 4}}</td>\n",
       "      <td>0.998999</td>\n",
       "      <td>0.999544</td>\n",
       "      <td>0.998982</td>\n",
       "      <td>0.999438</td>\n",
       "      <td>0.999280</td>\n",
       "      <td>0.999249</td>\n",
       "      <td>0.000227</td>\n",
       "      <td>1</td>\n",
       "    </tr>\n",
       "    <tr>\n",
       "      <th>4</th>\n",
       "      <td>3.915020</td>\n",
       "      <td>0.309312</td>\n",
       "      <td>0.016398</td>\n",
       "      <td>0.002059</td>\n",
       "      <td>{0: 1, 1: 5}</td>\n",
       "      <td>{'class_weight': {0: 1, 1: 5}}</td>\n",
       "      <td>0.998964</td>\n",
       "      <td>0.999526</td>\n",
       "      <td>0.999017</td>\n",
       "      <td>0.999438</td>\n",
       "      <td>0.999280</td>\n",
       "      <td>0.999245</td>\n",
       "      <td>0.000223</td>\n",
       "      <td>3</td>\n",
       "    </tr>\n",
       "    <tr>\n",
       "      <th>5</th>\n",
       "      <td>3.593862</td>\n",
       "      <td>0.375636</td>\n",
       "      <td>0.013199</td>\n",
       "      <td>0.001722</td>\n",
       "      <td>{0: 1, 1: 6}</td>\n",
       "      <td>{'class_weight': {0: 1, 1: 6}}</td>\n",
       "      <td>0.998964</td>\n",
       "      <td>0.999579</td>\n",
       "      <td>0.998982</td>\n",
       "      <td>0.999438</td>\n",
       "      <td>0.999280</td>\n",
       "      <td>0.999249</td>\n",
       "      <td>0.000244</td>\n",
       "      <td>1</td>\n",
       "    </tr>\n",
       "    <tr>\n",
       "      <th>6</th>\n",
       "      <td>3.096161</td>\n",
       "      <td>0.494070</td>\n",
       "      <td>0.012595</td>\n",
       "      <td>0.000488</td>\n",
       "      <td>{0: 1, 1: 7}</td>\n",
       "      <td>{'class_weight': {0: 1, 1: 7}}</td>\n",
       "      <td>0.998964</td>\n",
       "      <td>0.999596</td>\n",
       "      <td>0.998912</td>\n",
       "      <td>0.999473</td>\n",
       "      <td>0.999192</td>\n",
       "      <td>0.999228</td>\n",
       "      <td>0.000271</td>\n",
       "      <td>5</td>\n",
       "    </tr>\n",
       "    <tr>\n",
       "      <th>7</th>\n",
       "      <td>2.882625</td>\n",
       "      <td>0.150848</td>\n",
       "      <td>0.012200</td>\n",
       "      <td>0.000400</td>\n",
       "      <td>{0: 1, 1: 8}</td>\n",
       "      <td>{'class_weight': {0: 1, 1: 8}}</td>\n",
       "      <td>0.998929</td>\n",
       "      <td>0.999649</td>\n",
       "      <td>0.998841</td>\n",
       "      <td>0.999438</td>\n",
       "      <td>0.999192</td>\n",
       "      <td>0.999210</td>\n",
       "      <td>0.000303</td>\n",
       "      <td>6</td>\n",
       "    </tr>\n",
       "    <tr>\n",
       "      <th>8</th>\n",
       "      <td>2.793402</td>\n",
       "      <td>0.119619</td>\n",
       "      <td>0.011798</td>\n",
       "      <td>0.001327</td>\n",
       "      <td>{0: 1, 1: 9}</td>\n",
       "      <td>{'class_weight': {0: 1, 1: 9}}</td>\n",
       "      <td>0.998894</td>\n",
       "      <td>0.999649</td>\n",
       "      <td>0.998718</td>\n",
       "      <td>0.999368</td>\n",
       "      <td>0.999192</td>\n",
       "      <td>0.999164</td>\n",
       "      <td>0.000331</td>\n",
       "      <td>8</td>\n",
       "    </tr>\n",
       "  </tbody>\n",
       "</table>\n",
       "</div>"
      ],
      "text/plain": [
       "   mean_fit_time  std_fit_time  mean_score_time  std_score_time  \\\n",
       "0       3.884604      0.448501         0.011397        0.001357   \n",
       "1       3.714201      0.462090         0.015002        0.005101   \n",
       "2       4.169014      0.266212         0.020604        0.005240   \n",
       "3       4.370200      0.442683         0.025404        0.009266   \n",
       "4       3.915020      0.309312         0.016398        0.002059   \n",
       "5       3.593862      0.375636         0.013199        0.001722   \n",
       "6       3.096161      0.494070         0.012595        0.000488   \n",
       "7       2.882625      0.150848         0.012200        0.000400   \n",
       "8       2.793402      0.119619         0.011798        0.001327   \n",
       "\n",
       "  param_class_weight                          params  split0_test_score  \\\n",
       "0       {0: 1, 1: 1}  {'class_weight': {0: 1, 1: 1}}           0.998999   \n",
       "1       {0: 1, 1: 2}  {'class_weight': {0: 1, 1: 2}}           0.999034   \n",
       "2       {0: 1, 1: 3}  {'class_weight': {0: 1, 1: 3}}           0.999052   \n",
       "3       {0: 1, 1: 4}  {'class_weight': {0: 1, 1: 4}}           0.998999   \n",
       "4       {0: 1, 1: 5}  {'class_weight': {0: 1, 1: 5}}           0.998964   \n",
       "5       {0: 1, 1: 6}  {'class_weight': {0: 1, 1: 6}}           0.998964   \n",
       "6       {0: 1, 1: 7}  {'class_weight': {0: 1, 1: 7}}           0.998964   \n",
       "7       {0: 1, 1: 8}  {'class_weight': {0: 1, 1: 8}}           0.998929   \n",
       "8       {0: 1, 1: 9}  {'class_weight': {0: 1, 1: 9}}           0.998894   \n",
       "\n",
       "   split1_test_score  split2_test_score  split3_test_score  split4_test_score  \\\n",
       "0           0.999315           0.998947           0.999298           0.999017   \n",
       "1           0.999421           0.999017           0.999298           0.999175   \n",
       "2           0.999491           0.998964           0.999421           0.999210   \n",
       "3           0.999544           0.998982           0.999438           0.999280   \n",
       "4           0.999526           0.999017           0.999438           0.999280   \n",
       "5           0.999579           0.998982           0.999438           0.999280   \n",
       "6           0.999596           0.998912           0.999473           0.999192   \n",
       "7           0.999649           0.998841           0.999438           0.999192   \n",
       "8           0.999649           0.998718           0.999368           0.999192   \n",
       "\n",
       "   mean_test_score  std_test_score  rank_test_score  \n",
       "0         0.999115        0.000158                9  \n",
       "1         0.999189        0.000154                7  \n",
       "2         0.999228        0.000204                4  \n",
       "3         0.999249        0.000227                1  \n",
       "4         0.999245        0.000223                3  \n",
       "5         0.999249        0.000244                1  \n",
       "6         0.999228        0.000271                5  \n",
       "7         0.999210        0.000303                6  \n",
       "8         0.999164        0.000331                8  "
      ]
     },
     "execution_count": 35,
     "metadata": {},
     "output_type": "execute_result"
    }
   ],
   "source": [
    "pd.DataFrame(grid.cv_results_)"
   ]
  },
  {
   "cell_type": "code",
   "execution_count": 36,
   "metadata": {},
   "outputs": [
    {
     "data": {
      "text/plain": [
       "0.8109243697478992"
      ]
     },
     "execution_count": 36,
     "metadata": {},
     "output_type": "execute_result"
    }
   ],
   "source": [
    "precision_score(y,predicted_y)"
   ]
  },
  {
   "cell_type": "code",
   "execution_count": 37,
   "metadata": {},
   "outputs": [
    {
     "data": {
      "text/plain": [
       "0.7845528455284553"
      ]
     },
     "execution_count": 37,
     "metadata": {},
     "output_type": "execute_result"
    }
   ],
   "source": [
    "recall_score(y,predicted_y)"
   ]
  },
  {
   "cell_type": "code",
   "execution_count": 38,
   "metadata": {},
   "outputs": [
    {
     "data": {
      "text/plain": [
       "0.7975206611570248"
      ]
     },
     "execution_count": 38,
     "metadata": {},
     "output_type": "execute_result"
    }
   ],
   "source": [
    "f1_score(y,predicted_y)"
   ]
  },
  {
   "cell_type": "code",
   "execution_count": 39,
   "metadata": {},
   "outputs": [
    {
     "data": {
      "text/plain": [
       "0.9993118146674765"
      ]
     },
     "execution_count": 39,
     "metadata": {},
     "output_type": "execute_result"
    }
   ],
   "source": [
    "accuracy_score(y,predicted_y)"
   ]
  },
  {
   "cell_type": "code",
   "execution_count": 40,
   "metadata": {},
   "outputs": [
    {
     "data": {
      "text/plain": [
       "array([[284225,     90],\n",
       "       [   106,    386]], dtype=int64)"
      ]
     },
     "execution_count": 40,
     "metadata": {},
     "output_type": "execute_result"
    }
   ],
   "source": [
    "confusion_matrix(y,predicted_y)"
   ]
  },
  {
   "cell_type": "code",
   "execution_count": 41,
   "metadata": {},
   "outputs": [
    {
     "data": {
      "text/plain": [
       "<AxesSubplot:>"
      ]
     },
     "execution_count": 41,
     "metadata": {},
     "output_type": "execute_result"
    },
    {
     "data": {
      "image/png": "[encoded data removed]",
      "text/plain": [
       "<Figure size 640x480 with 2 Axes>"
      ]
     },
     "metadata": {},
     "output_type": "display_data"
    }
   ],
   "source": [
    "sns.heatmap(confusion_matrix(y,predicted_y),annot=True)"
   ]
  },
  {
   "attachments": {},
   "cell_type": "markdown",
   "metadata": {},
   "source": [
    "### Metrics to check the quality of Machine Learning Models (Part-4/7)   13/12/2022"
   ]
  },
  {
   "cell_type": "code",
   "execution_count": 42,
   "metadata": {},
   "outputs": [
    {
     "name": "stdout",
     "output_type": "stream",
     "text": [
      "              precision    recall  f1-score   support\n",
      "\n",
      "           0       1.00      1.00      1.00    284315\n",
      "           1       0.81      0.78      0.80       492\n",
      "\n",
      "    accuracy                           1.00    284807\n",
      "   macro avg       0.91      0.89      0.90    284807\n",
      "weighted avg       1.00      1.00      1.00    284807\n",
      "\n"
     ]
    }
   ],
   "source": [
    "print(classification_report(y,predicted_y))"
   ]
  },
  {
   "attachments": {},
   "cell_type": "markdown",
   "metadata": {},
   "source": [
    "### video Metrics to check the quality of Machine Learning Models (Part-5/7)"
   ]
  },
  {
   "cell_type": "code",
   "execution_count": 35,
   "metadata": {},
   "outputs": [
    {
     "data": {
      "text/plain": [
       "make_scorer(min_precision_recall, greater_is_better=False)"
      ]
     },
     "execution_count": 35,
     "metadata": {},
     "output_type": "execute_result"
    }
   ],
   "source": [
    "def min_precision_recall(y,predicted_y):\n",
    "    p =precision_score(y,predicted_y)\n",
    "    r=recall_score(y,predicted_y)\n",
    "    return min(p,r)\n",
    "make_scorer(min_precision_recall,greater_is_better=False)"
   ]
  },
  {
   "cell_type": "code",
   "execution_count": 42,
   "metadata": {},
   "outputs": [],
   "source": [
    "dummy =make_scorer(min_precision_recall)"
   ]
  },
  {
   "cell_type": "code",
   "execution_count": 43,
   "metadata": {},
   "outputs": [
    {
     "name": "stdout",
     "output_type": "stream",
     "text": [
      "\u001b[1;31mSignature:\u001b[0m      \u001b[0mdummy\u001b[0m\u001b[1;33m(\u001b[0m\u001b[0mestimator\u001b[0m\u001b[1;33m,\u001b[0m \u001b[0mX\u001b[0m\u001b[1;33m,\u001b[0m \u001b[0my_true\u001b[0m\u001b[1;33m,\u001b[0m \u001b[0msample_weight\u001b[0m\u001b[1;33m=\u001b[0m\u001b[1;32mNone\u001b[0m\u001b[1;33m)\u001b[0m\u001b[1;33m\u001b[0m\u001b[1;33m\u001b[0m\u001b[0m\n",
      "\u001b[1;31mType:\u001b[0m           _PredictScorer\n",
      "\u001b[1;31mString form:\u001b[0m    make_scorer(min_precision_recall)\n",
      "\u001b[1;31mFile:\u001b[0m           c:\\users\\lenovo\\appdata\\roaming\\python\\python310\\site-packages\\sklearn\\metrics\\_scorer.py\n",
      "\u001b[1;31mSource:\u001b[0m        \n",
      "\u001b[1;32mclass\u001b[0m \u001b[0m_PredictScorer\u001b[0m\u001b[1;33m(\u001b[0m\u001b[0m_BaseScorer\u001b[0m\u001b[1;33m)\u001b[0m\u001b[1;33m:\u001b[0m\u001b[1;33m\n",
      "\u001b[0m    \u001b[1;32mdef\u001b[0m \u001b[0m_score\u001b[0m\u001b[1;33m(\u001b[0m\u001b[0mself\u001b[0m\u001b[1;33m,\u001b[0m \u001b[0mmethod_caller\u001b[0m\u001b[1;33m,\u001b[0m \u001b[0mestimator\u001b[0m\u001b[1;33m,\u001b[0m \u001b[0mX\u001b[0m\u001b[1;33m,\u001b[0m \u001b[0my_true\u001b[0m\u001b[1;33m,\u001b[0m \u001b[0msample_weight\u001b[0m\u001b[1;33m=\u001b[0m\u001b[1;32mNone\u001b[0m\u001b[1;33m)\u001b[0m\u001b[1;33m:\u001b[0m\u001b[1;33m\n",
      "\u001b[0m        \u001b[1;34m\"\"\"Evaluate predicted target values for X relative to y_true.\n",
      "\n",
      "        Parameters\n",
      "        ----------\n",
      "        method_caller : callable\n",
      "            Returns predictions given an estimator, method name, and other\n",
      "            arguments, potentially caching results.\n",
      "\n",
      "        estimator : object\n",
      "            Trained estimator to use for scoring. Must have a `predict`\n",
      "            method; the output of that is used to compute the score.\n",
      "\n",
      "        X : {array-like, sparse matrix}\n",
      "            Test data that will be fed to estimator.predict.\n",
      "\n",
      "        y_true : array-like\n",
      "            Gold standard target values for X.\n",
      "\n",
      "        sample_weight : array-like of shape (n_samples,), default=None\n",
      "            Sample weights.\n",
      "\n",
      "        Returns\n",
      "        -------\n",
      "        score : float\n",
      "            Score function applied to prediction of estimator on X.\n",
      "        \"\"\"\u001b[0m\u001b[1;33m\n",
      "\u001b[0m\u001b[1;33m\n",
      "\u001b[0m        \u001b[0my_pred\u001b[0m \u001b[1;33m=\u001b[0m \u001b[0mmethod_caller\u001b[0m\u001b[1;33m(\u001b[0m\u001b[0mestimator\u001b[0m\u001b[1;33m,\u001b[0m \u001b[1;34m\"predict\"\u001b[0m\u001b[1;33m,\u001b[0m \u001b[0mX\u001b[0m\u001b[1;33m)\u001b[0m\u001b[1;33m\n",
      "\u001b[0m        \u001b[1;32mif\u001b[0m \u001b[0msample_weight\u001b[0m \u001b[1;32mis\u001b[0m \u001b[1;32mnot\u001b[0m \u001b[1;32mNone\u001b[0m\u001b[1;33m:\u001b[0m\u001b[1;33m\n",
      "\u001b[0m            \u001b[1;32mreturn\u001b[0m \u001b[0mself\u001b[0m\u001b[1;33m.\u001b[0m\u001b[0m_sign\u001b[0m \u001b[1;33m*\u001b[0m \u001b[0mself\u001b[0m\u001b[1;33m.\u001b[0m\u001b[0m_score_func\u001b[0m\u001b[1;33m(\u001b[0m\u001b[1;33m\n",
      "\u001b[0m                \u001b[0my_true\u001b[0m\u001b[1;33m,\u001b[0m \u001b[0my_pred\u001b[0m\u001b[1;33m,\u001b[0m \u001b[0msample_weight\u001b[0m\u001b[1;33m=\u001b[0m\u001b[0msample_weight\u001b[0m\u001b[1;33m,\u001b[0m \u001b[1;33m**\u001b[0m\u001b[0mself\u001b[0m\u001b[1;33m.\u001b[0m\u001b[0m_kwargs\u001b[0m\u001b[1;33m\n",
      "\u001b[0m            \u001b[1;33m)\u001b[0m\u001b[1;33m\n",
      "\u001b[0m        \u001b[1;32melse\u001b[0m\u001b[1;33m:\u001b[0m\u001b[1;33m\n",
      "\u001b[0m            \u001b[1;32mreturn\u001b[0m \u001b[0mself\u001b[0m\u001b[1;33m.\u001b[0m\u001b[0m_sign\u001b[0m \u001b[1;33m*\u001b[0m \u001b[0mself\u001b[0m\u001b[1;33m.\u001b[0m\u001b[0m_score_func\u001b[0m\u001b[1;33m(\u001b[0m\u001b[0my_true\u001b[0m\u001b[1;33m,\u001b[0m \u001b[0my_pred\u001b[0m\u001b[1;33m,\u001b[0m \u001b[1;33m**\u001b[0m\u001b[0mself\u001b[0m\u001b[1;33m.\u001b[0m\u001b[0m_kwargs\u001b[0m\u001b[1;33m)\u001b[0m\u001b[1;33m\u001b[0m\u001b[1;33m\u001b[0m\u001b[0m\n",
      "\u001b[1;31mCall docstring:\u001b[0m\n",
      "Evaluate predicted target values for X relative to y_true.\n",
      "\n",
      "Parameters\n",
      "----------\n",
      "estimator : object\n",
      "    Trained estimator to use for scoring. Must have a predict_proba\n",
      "    method; the output of that is used to compute the score.\n",
      "\n",
      "X : {array-like, sparse matrix}\n",
      "    Test data that will be fed to estimator.predict.\n",
      "\n",
      "y_true : array-like\n",
      "    Gold standard target values for X.\n",
      "\n",
      "sample_weight : array-like of shape (n_samples,), default=None\n",
      "    Sample weights.\n",
      "\n",
      "Returns\n",
      "-------\n",
      "score : float\n",
      "    Score function applied to prediction of estimator on X.\n"
     ]
    }
   ],
   "source": [
    "??dummy"
   ]
  },
  {
   "cell_type": "code",
   "execution_count": 48,
   "metadata": {},
   "outputs": [],
   "source": [
    "def min_precision_recall(estimator, X, y_true, sample_weight=None):\n",
    "    pred_y = estimator.predict(X)\n",
    "    p =precision_score(y,predicted_y)\n",
    "    r=recall_score(y,predicted_y)\n",
    "    return min(p,r)\n",
    "    \n",
    "grid=GridSearchCV(\n",
    "    estimator=LogisticRegression(),\n",
    "    param_grid={\"class_weight\":[{0:1,1: number} for number in range(1,10)]},\n",
    "    cv=5,\n",
    "    scoring={\"precision\":make_scorer(precision_score),\"recall\":make_scorer(recall_score),\n",
    "    \"minum_of_both\":min_precision_recall\n",
    "    },\n",
    "\n",
    "    refit=\"minum_of_both\"\n",
    ")"
   ]
  },
  {
   "cell_type": "code",
   "execution_count": 49,
   "metadata": {},
   "outputs": [
    {
     "name": "stderr",
     "output_type": "stream",
     "text": [
      "C:\\Users\\Lenovo\\AppData\\Roaming\\Python\\Python310\\site-packages\\sklearn\\utils\\validation.py:1111: DataConversionWarning: A column-vector y was passed when a 1d array was expected. Please change the shape of y to (n_samples, ), for example using ravel().\n",
      "  y = column_or_1d(y, warn=True)\n",
      "C:\\Users\\Lenovo\\AppData\\Roaming\\Python\\Python310\\site-packages\\sklearn\\utils\\validation.py:1111: DataConversionWarning: A column-vector y was passed when a 1d array was expected. Please change the shape of y to (n_samples, ), for example using ravel().\n",
      "  y = column_or_1d(y, warn=True)\n",
      "C:\\Users\\Lenovo\\AppData\\Roaming\\Python\\Python310\\site-packages\\sklearn\\utils\\validation.py:1111: DataConversionWarning: A column-vector y was passed when a 1d array was expected. Please change the shape of y to (n_samples, ), for example using ravel().\n",
      "  y = column_or_1d(y, warn=True)\n",
      "C:\\Users\\Lenovo\\AppData\\Roaming\\Python\\Python310\\site-packages\\sklearn\\utils\\validation.py:1111: DataConversionWarning: A column-vector y was passed when a 1d array was expected. Please change the shape of y to (n_samples, ), for example using ravel().\n",
      "  y = column_or_1d(y, warn=True)\n",
      "C:\\Users\\Lenovo\\AppData\\Roaming\\Python\\Python310\\site-packages\\sklearn\\utils\\validation.py:1111: DataConversionWarning: A column-vector y was passed when a 1d array was expected. Please change the shape of y to (n_samples, ), for example using ravel().\n",
      "  y = column_or_1d(y, warn=True)\n",
      "C:\\Users\\Lenovo\\AppData\\Roaming\\Python\\Python310\\site-packages\\sklearn\\utils\\validation.py:1111: DataConversionWarning: A column-vector y was passed when a 1d array was expected. Please change the shape of y to (n_samples, ), for example using ravel().\n",
      "  y = column_or_1d(y, warn=True)\n",
      "C:\\Users\\Lenovo\\AppData\\Roaming\\Python\\Python310\\site-packages\\sklearn\\utils\\validation.py:1111: DataConversionWarning: A column-vector y was passed when a 1d array was expected. Please change the shape of y to (n_samples, ), for example using ravel().\n",
      "  y = column_or_1d(y, warn=True)\n",
      "C:\\Users\\Lenovo\\AppData\\Roaming\\Python\\Python310\\site-packages\\sklearn\\utils\\validation.py:1111: DataConversionWarning: A column-vector y was passed when a 1d array was expected. Please change the shape of y to (n_samples, ), for example using ravel().\n",
      "  y = column_or_1d(y, warn=True)\n",
      "C:\\Users\\Lenovo\\AppData\\Roaming\\Python\\Python310\\site-packages\\sklearn\\utils\\validation.py:1111: DataConversionWarning: A column-vector y was passed when a 1d array was expected. Please change the shape of y to (n_samples, ), for example using ravel().\n",
      "  y = column_or_1d(y, warn=True)\n",
      "C:\\Users\\Lenovo\\AppData\\Roaming\\Python\\Python310\\site-packages\\sklearn\\utils\\validation.py:1111: DataConversionWarning: A column-vector y was passed when a 1d array was expected. Please change the shape of y to (n_samples, ), for example using ravel().\n",
      "  y = column_or_1d(y, warn=True)\n",
      "C:\\Users\\Lenovo\\AppData\\Roaming\\Python\\Python310\\site-packages\\sklearn\\utils\\validation.py:1111: DataConversionWarning: A column-vector y was passed when a 1d array was expected. Please change the shape of y to (n_samples, ), for example using ravel().\n",
      "  y = column_or_1d(y, warn=True)\n",
      "C:\\Users\\Lenovo\\AppData\\Roaming\\Python\\Python310\\site-packages\\sklearn\\utils\\validation.py:1111: DataConversionWarning: A column-vector y was passed when a 1d array was expected. Please change the shape of y to (n_samples, ), for example using ravel().\n",
      "  y = column_or_1d(y, warn=True)\n",
      "C:\\Users\\Lenovo\\AppData\\Roaming\\Python\\Python310\\site-packages\\sklearn\\utils\\validation.py:1111: DataConversionWarning: A column-vector y was passed when a 1d array was expected. Please change the shape of y to (n_samples, ), for example using ravel().\n",
      "  y = column_or_1d(y, warn=True)\n",
      "C:\\Users\\Lenovo\\AppData\\Roaming\\Python\\Python310\\site-packages\\sklearn\\utils\\validation.py:1111: DataConversionWarning: A column-vector y was passed when a 1d array was expected. Please change the shape of y to (n_samples, ), for example using ravel().\n",
      "  y = column_or_1d(y, warn=True)\n",
      "C:\\Users\\Lenovo\\AppData\\Roaming\\Python\\Python310\\site-packages\\sklearn\\utils\\validation.py:1111: DataConversionWarning: A column-vector y was passed when a 1d array was expected. Please change the shape of y to (n_samples, ), for example using ravel().\n",
      "  y = column_or_1d(y, warn=True)\n",
      "C:\\Users\\Lenovo\\AppData\\Roaming\\Python\\Python310\\site-packages\\sklearn\\utils\\validation.py:1111: DataConversionWarning: A column-vector y was passed when a 1d array was expected. Please change the shape of y to (n_samples, ), for example using ravel().\n",
      "  y = column_or_1d(y, warn=True)\n",
      "C:\\Users\\Lenovo\\AppData\\Roaming\\Python\\Python310\\site-packages\\sklearn\\utils\\validation.py:1111: DataConversionWarning: A column-vector y was passed when a 1d array was expected. Please change the shape of y to (n_samples, ), for example using ravel().\n",
      "  y = column_or_1d(y, warn=True)\n",
      "C:\\Users\\Lenovo\\AppData\\Roaming\\Python\\Python310\\site-packages\\sklearn\\utils\\validation.py:1111: DataConversionWarning: A column-vector y was passed when a 1d array was expected. Please change the shape of y to (n_samples, ), for example using ravel().\n",
      "  y = column_or_1d(y, warn=True)\n",
      "C:\\Users\\Lenovo\\AppData\\Roaming\\Python\\Python310\\site-packages\\sklearn\\utils\\validation.py:1111: DataConversionWarning: A column-vector y was passed when a 1d array was expected. Please change the shape of y to (n_samples, ), for example using ravel().\n",
      "  y = column_or_1d(y, warn=True)\n",
      "C:\\Users\\Lenovo\\AppData\\Roaming\\Python\\Python310\\site-packages\\sklearn\\utils\\validation.py:1111: DataConversionWarning: A column-vector y was passed when a 1d array was expected. Please change the shape of y to (n_samples, ), for example using ravel().\n",
      "  y = column_or_1d(y, warn=True)\n",
      "C:\\Users\\Lenovo\\AppData\\Roaming\\Python\\Python310\\site-packages\\sklearn\\utils\\validation.py:1111: DataConversionWarning: A column-vector y was passed when a 1d array was expected. Please change the shape of y to (n_samples, ), for example using ravel().\n",
      "  y = column_or_1d(y, warn=True)\n",
      "C:\\Users\\Lenovo\\AppData\\Roaming\\Python\\Python310\\site-packages\\sklearn\\utils\\validation.py:1111: DataConversionWarning: A column-vector y was passed when a 1d array was expected. Please change the shape of y to (n_samples, ), for example using ravel().\n",
      "  y = column_or_1d(y, warn=True)\n",
      "C:\\Users\\Lenovo\\AppData\\Roaming\\Python\\Python310\\site-packages\\sklearn\\utils\\validation.py:1111: DataConversionWarning: A column-vector y was passed when a 1d array was expected. Please change the shape of y to (n_samples, ), for example using ravel().\n",
      "  y = column_or_1d(y, warn=True)\n",
      "C:\\Users\\Lenovo\\AppData\\Roaming\\Python\\Python310\\site-packages\\sklearn\\utils\\validation.py:1111: DataConversionWarning: A column-vector y was passed when a 1d array was expected. Please change the shape of y to (n_samples, ), for example using ravel().\n",
      "  y = column_or_1d(y, warn=True)\n",
      "C:\\Users\\Lenovo\\AppData\\Roaming\\Python\\Python310\\site-packages\\sklearn\\utils\\validation.py:1111: DataConversionWarning: A column-vector y was passed when a 1d array was expected. Please change the shape of y to (n_samples, ), for example using ravel().\n",
      "  y = column_or_1d(y, warn=True)\n",
      "C:\\Users\\Lenovo\\AppData\\Roaming\\Python\\Python310\\site-packages\\sklearn\\utils\\validation.py:1111: DataConversionWarning: A column-vector y was passed when a 1d array was expected. Please change the shape of y to (n_samples, ), for example using ravel().\n",
      "  y = column_or_1d(y, warn=True)\n",
      "C:\\Users\\Lenovo\\AppData\\Roaming\\Python\\Python310\\site-packages\\sklearn\\utils\\validation.py:1111: DataConversionWarning: A column-vector y was passed when a 1d array was expected. Please change the shape of y to (n_samples, ), for example using ravel().\n",
      "  y = column_or_1d(y, warn=True)\n",
      "C:\\Users\\Lenovo\\AppData\\Roaming\\Python\\Python310\\site-packages\\sklearn\\utils\\validation.py:1111: DataConversionWarning: A column-vector y was passed when a 1d array was expected. Please change the shape of y to (n_samples, ), for example using ravel().\n",
      "  y = column_or_1d(y, warn=True)\n",
      "C:\\Users\\Lenovo\\AppData\\Roaming\\Python\\Python310\\site-packages\\sklearn\\utils\\validation.py:1111: DataConversionWarning: A column-vector y was passed when a 1d array was expected. Please change the shape of y to (n_samples, ), for example using ravel().\n",
      "  y = column_or_1d(y, warn=True)\n",
      "C:\\Users\\Lenovo\\AppData\\Roaming\\Python\\Python310\\site-packages\\sklearn\\utils\\validation.py:1111: DataConversionWarning: A column-vector y was passed when a 1d array was expected. Please change the shape of y to (n_samples, ), for example using ravel().\n",
      "  y = column_or_1d(y, warn=True)\n",
      "C:\\Users\\Lenovo\\AppData\\Roaming\\Python\\Python310\\site-packages\\sklearn\\utils\\validation.py:1111: DataConversionWarning: A column-vector y was passed when a 1d array was expected. Please change the shape of y to (n_samples, ), for example using ravel().\n",
      "  y = column_or_1d(y, warn=True)\n",
      "C:\\Users\\Lenovo\\AppData\\Roaming\\Python\\Python310\\site-packages\\sklearn\\utils\\validation.py:1111: DataConversionWarning: A column-vector y was passed when a 1d array was expected. Please change the shape of y to (n_samples, ), for example using ravel().\n",
      "  y = column_or_1d(y, warn=True)\n",
      "C:\\Users\\Lenovo\\AppData\\Roaming\\Python\\Python310\\site-packages\\sklearn\\utils\\validation.py:1111: DataConversionWarning: A column-vector y was passed when a 1d array was expected. Please change the shape of y to (n_samples, ), for example using ravel().\n",
      "  y = column_or_1d(y, warn=True)\n",
      "C:\\Users\\Lenovo\\AppData\\Roaming\\Python\\Python310\\site-packages\\sklearn\\utils\\validation.py:1111: DataConversionWarning: A column-vector y was passed when a 1d array was expected. Please change the shape of y to (n_samples, ), for example using ravel().\n",
      "  y = column_or_1d(y, warn=True)\n",
      "C:\\Users\\Lenovo\\AppData\\Roaming\\Python\\Python310\\site-packages\\sklearn\\utils\\validation.py:1111: DataConversionWarning: A column-vector y was passed when a 1d array was expected. Please change the shape of y to (n_samples, ), for example using ravel().\n",
      "  y = column_or_1d(y, warn=True)\n",
      "C:\\Users\\Lenovo\\AppData\\Roaming\\Python\\Python310\\site-packages\\sklearn\\utils\\validation.py:1111: DataConversionWarning: A column-vector y was passed when a 1d array was expected. Please change the shape of y to (n_samples, ), for example using ravel().\n",
      "  y = column_or_1d(y, warn=True)\n",
      "C:\\Users\\Lenovo\\AppData\\Roaming\\Python\\Python310\\site-packages\\sklearn\\utils\\validation.py:1111: DataConversionWarning: A column-vector y was passed when a 1d array was expected. Please change the shape of y to (n_samples, ), for example using ravel().\n",
      "  y = column_or_1d(y, warn=True)\n",
      "C:\\Users\\Lenovo\\AppData\\Roaming\\Python\\Python310\\site-packages\\sklearn\\utils\\validation.py:1111: DataConversionWarning: A column-vector y was passed when a 1d array was expected. Please change the shape of y to (n_samples, ), for example using ravel().\n",
      "  y = column_or_1d(y, warn=True)\n",
      "C:\\Users\\Lenovo\\AppData\\Roaming\\Python\\Python310\\site-packages\\sklearn\\utils\\validation.py:1111: DataConversionWarning: A column-vector y was passed when a 1d array was expected. Please change the shape of y to (n_samples, ), for example using ravel().\n",
      "  y = column_or_1d(y, warn=True)\n",
      "C:\\Users\\Lenovo\\AppData\\Roaming\\Python\\Python310\\site-packages\\sklearn\\utils\\validation.py:1111: DataConversionWarning: A column-vector y was passed when a 1d array was expected. Please change the shape of y to (n_samples, ), for example using ravel().\n",
      "  y = column_or_1d(y, warn=True)\n",
      "C:\\Users\\Lenovo\\AppData\\Roaming\\Python\\Python310\\site-packages\\sklearn\\utils\\validation.py:1111: DataConversionWarning: A column-vector y was passed when a 1d array was expected. Please change the shape of y to (n_samples, ), for example using ravel().\n",
      "  y = column_or_1d(y, warn=True)\n",
      "C:\\Users\\Lenovo\\AppData\\Roaming\\Python\\Python310\\site-packages\\sklearn\\utils\\validation.py:1111: DataConversionWarning: A column-vector y was passed when a 1d array was expected. Please change the shape of y to (n_samples, ), for example using ravel().\n",
      "  y = column_or_1d(y, warn=True)\n",
      "C:\\Users\\Lenovo\\AppData\\Roaming\\Python\\Python310\\site-packages\\sklearn\\utils\\validation.py:1111: DataConversionWarning: A column-vector y was passed when a 1d array was expected. Please change the shape of y to (n_samples, ), for example using ravel().\n",
      "  y = column_or_1d(y, warn=True)\n",
      "C:\\Users\\Lenovo\\AppData\\Roaming\\Python\\Python310\\site-packages\\sklearn\\utils\\validation.py:1111: DataConversionWarning: A column-vector y was passed when a 1d array was expected. Please change the shape of y to (n_samples, ), for example using ravel().\n",
      "  y = column_or_1d(y, warn=True)\n",
      "C:\\Users\\Lenovo\\AppData\\Roaming\\Python\\Python310\\site-packages\\sklearn\\utils\\validation.py:1111: DataConversionWarning: A column-vector y was passed when a 1d array was expected. Please change the shape of y to (n_samples, ), for example using ravel().\n",
      "  y = column_or_1d(y, warn=True)\n",
      "C:\\Users\\Lenovo\\AppData\\Roaming\\Python\\Python310\\site-packages\\sklearn\\utils\\validation.py:1111: DataConversionWarning: A column-vector y was passed when a 1d array was expected. Please change the shape of y to (n_samples, ), for example using ravel().\n",
      "  y = column_or_1d(y, warn=True)\n"
     ]
    },
    {
     "data": {
      "text/html": [
       "<style>#sk-container-id-5 {color: black;background-color: white;}#sk-container-id-5 pre{padding: 0;}#sk-container-id-5 div.sk-toggleable {background-color: white;}#sk-container-id-5 label.sk-toggleable__label {cursor: pointer;display: block;width: 100%;margin-bottom: 0;padding: 0.3em;box-sizing: border-box;text-align: center;}#sk-container-id-5 label.sk-toggleable__label-arrow:before {content: \"▸\";float: left;margin-right: 0.25em;color: #696969;}#sk-container-id-5 label.sk-toggleable__label-arrow:hover:before {color: black;}#sk-container-id-5 div.sk-estimator:hover label.sk-toggleable__label-arrow:before {color: black;}#sk-container-id-5 div.sk-toggleable__content {max-height: 0;max-width: 0;overflow: hidden;text-align: left;background-color: #f0f8ff;}#sk-container-id-5 div.sk-toggleable__content pre {margin: 0.2em;color: black;border-radius: 0.25em;background-color: #f0f8ff;}#sk-container-id-5 input.sk-toggleable__control:checked~div.sk-toggleable__content {max-height: 200px;max-width: 100%;overflow: auto;}#sk-container-id-5 input.sk-toggleable__control:checked~label.sk-toggleable__label-arrow:before {content: \"▾\";}#sk-container-id-5 div.sk-estimator input.sk-toggleable__control:checked~label.sk-toggleable__label {background-color: #d4ebff;}#sk-container-id-5 div.sk-label input.sk-toggleable__control:checked~label.sk-toggleable__label {background-color: #d4ebff;}#sk-container-id-5 input.sk-hidden--visually {border: 0;clip: rect(1px 1px 1px 1px);clip: rect(1px, 1px, 1px, 1px);height: 1px;margin: -1px;overflow: hidden;padding: 0;position: absolute;width: 1px;}#sk-container-id-5 div.sk-estimator {font-family: monospace;background-color: #f0f8ff;border: 1px dotted black;border-radius: 0.25em;box-sizing: border-box;margin-bottom: 0.5em;}#sk-container-id-5 div.sk-estimator:hover {background-color: #d4ebff;}#sk-container-id-5 div.sk-parallel-item::after {content: \"\";width: 100%;border-bottom: 1px solid gray;flex-grow: 1;}#sk-container-id-5 div.sk-label:hover label.sk-toggleable__label {background-color: #d4ebff;}#sk-container-id-5 div.sk-serial::before {content: \"\";position: absolute;border-left: 1px solid gray;box-sizing: border-box;top: 0;bottom: 0;left: 50%;z-index: 0;}#sk-container-id-5 div.sk-serial {display: flex;flex-direction: column;align-items: center;background-color: white;padding-right: 0.2em;padding-left: 0.2em;position: relative;}#sk-container-id-5 div.sk-item {position: relative;z-index: 1;}#sk-container-id-5 div.sk-parallel {display: flex;align-items: stretch;justify-content: center;background-color: white;position: relative;}#sk-container-id-5 div.sk-item::before, #sk-container-id-5 div.sk-parallel-item::before {content: \"\";position: absolute;border-left: 1px solid gray;box-sizing: border-box;top: 0;bottom: 0;left: 50%;z-index: -1;}#sk-container-id-5 div.sk-parallel-item {display: flex;flex-direction: column;z-index: 1;position: relative;background-color: white;}#sk-container-id-5 div.sk-parallel-item:first-child::after {align-self: flex-end;width: 50%;}#sk-container-id-5 div.sk-parallel-item:last-child::after {align-self: flex-start;width: 50%;}#sk-container-id-5 div.sk-parallel-item:only-child::after {width: 0;}#sk-container-id-5 div.sk-dashed-wrapped {border: 1px dashed gray;margin: 0 0.4em 0.5em 0.4em;box-sizing: border-box;padding-bottom: 0.4em;background-color: white;}#sk-container-id-5 div.sk-label label {font-family: monospace;font-weight: bold;display: inline-block;line-height: 1.2em;}#sk-container-id-5 div.sk-label-container {text-align: center;}#sk-container-id-5 div.sk-container {/* jupyter's `normalize.less` sets `[hidden] { display: none; }` but bootstrap.min.css set `[hidden] { display: none !important; }` so we also need the `!important` here to be able to override the default hidden behavior on the sphinx rendered scikit-learn.org. See: https://github.com/scikit-learn/scikit-learn/issues/21755 */display: inline-block !important;position: relative;}#sk-container-id-5 div.sk-text-repr-fallback {display: none;}</style><div id=\"sk-container-id-5\" class=\"sk-top-container\"><div class=\"sk-text-repr-fallback\"><pre>GridSearchCV(cv=5, estimator=LogisticRegression(),\n",
       "             param_grid={&#x27;class_weight&#x27;: [{0: 1, 1: 1}, {0: 1, 1: 2},\n",
       "                                          {0: 1, 1: 3}, {0: 1, 1: 4},\n",
       "                                          {0: 1, 1: 5}, {0: 1, 1: 6},\n",
       "                                          {0: 1, 1: 7}, {0: 1, 1: 8},\n",
       "                                          {0: 1, 1: 9}]},\n",
       "             refit=&#x27;minum_of_both&#x27;,\n",
       "             scoring={&#x27;minum_of_both&#x27;: &lt;function min_precision_recall at 0x000001F104E2AC20&gt;,\n",
       "                      &#x27;precision&#x27;: make_scorer(precision_score),\n",
       "                      &#x27;recall&#x27;: make_scorer(recall_score)})</pre><b>In a Jupyter environment, please rerun this cell to show the HTML representation or trust the notebook. <br />On GitHub, the HTML representation is unable to render, please try loading this page with nbviewer.org.</b></div><div class=\"sk-container\" hidden><div class=\"sk-item sk-dashed-wrapped\"><div class=\"sk-label-container\"><div class=\"sk-label sk-toggleable\"><input class=\"sk-toggleable__control sk-hidden--visually\" id=\"sk-estimator-id-13\" type=\"checkbox\" ><label for=\"sk-estimator-id-13\" class=\"sk-toggleable__label sk-toggleable__label-arrow\">GridSearchCV</label><div class=\"sk-toggleable__content\"><pre>GridSearchCV(cv=5, estimator=LogisticRegression(),\n",
       "             param_grid={&#x27;class_weight&#x27;: [{0: 1, 1: 1}, {0: 1, 1: 2},\n",
       "                                          {0: 1, 1: 3}, {0: 1, 1: 4},\n",
       "                                          {0: 1, 1: 5}, {0: 1, 1: 6},\n",
       "                                          {0: 1, 1: 7}, {0: 1, 1: 8},\n",
       "                                          {0: 1, 1: 9}]},\n",
       "             refit=&#x27;minum_of_both&#x27;,\n",
       "             scoring={&#x27;minum_of_both&#x27;: &lt;function min_precision_recall at 0x000001F104E2AC20&gt;,\n",
       "                      &#x27;precision&#x27;: make_scorer(precision_score),\n",
       "                      &#x27;recall&#x27;: make_scorer(recall_score)})</pre></div></div></div><div class=\"sk-parallel\"><div class=\"sk-parallel-item\"><div class=\"sk-item\"><div class=\"sk-label-container\"><div class=\"sk-label sk-toggleable\"><input class=\"sk-toggleable__control sk-hidden--visually\" id=\"sk-estimator-id-14\" type=\"checkbox\" ><label for=\"sk-estimator-id-14\" class=\"sk-toggleable__label sk-toggleable__label-arrow\">estimator: LogisticRegression</label><div class=\"sk-toggleable__content\"><pre>LogisticRegression()</pre></div></div></div><div class=\"sk-serial\"><div class=\"sk-item\"><div class=\"sk-estimator sk-toggleable\"><input class=\"sk-toggleable__control sk-hidden--visually\" id=\"sk-estimator-id-15\" type=\"checkbox\" ><label for=\"sk-estimator-id-15\" class=\"sk-toggleable__label sk-toggleable__label-arrow\">LogisticRegression</label><div class=\"sk-toggleable__content\"><pre>LogisticRegression()</pre></div></div></div></div></div></div></div></div></div></div>"
      ],
      "text/plain": [
       "GridSearchCV(cv=5, estimator=LogisticRegression(),\n",
       "             param_grid={'class_weight': [{0: 1, 1: 1}, {0: 1, 1: 2},\n",
       "                                          {0: 1, 1: 3}, {0: 1, 1: 4},\n",
       "                                          {0: 1, 1: 5}, {0: 1, 1: 6},\n",
       "                                          {0: 1, 1: 7}, {0: 1, 1: 8},\n",
       "                                          {0: 1, 1: 9}]},\n",
       "             refit='minum_of_both',\n",
       "             scoring={'minum_of_both': <function min_precision_recall at 0x000001F104E2AC20>,\n",
       "                      'precision': make_scorer(precision_score),\n",
       "                      'recall': make_scorer(recall_score)})"
      ]
     },
     "execution_count": 49,
     "metadata": {},
     "output_type": "execute_result"
    }
   ],
   "source": [
    "grid.fit(X,y)"
   ]
  },
  {
   "cell_type": "code",
   "execution_count": 50,
   "metadata": {},
   "outputs": [],
   "source": [
    "predicted_y =grid.predict(X)"
   ]
  },
  {
   "cell_type": "code",
   "execution_count": 51,
   "metadata": {},
   "outputs": [],
   "source": [
    "df_result =pd.DataFrame(grid.cv_results_)"
   ]
  },
  {
   "cell_type": "code",
   "execution_count": 52,
   "metadata": {},
   "outputs": [
    {
     "data": {
      "text/html": [
       "<div>\n",
       "<style scoped>\n",
       "    .dataframe tbody tr th:only-of-type {\n",
       "        vertical-align: middle;\n",
       "    }\n",
       "\n",
       "    .dataframe tbody tr th {\n",
       "        vertical-align: top;\n",
       "    }\n",
       "\n",
       "    .dataframe thead th {\n",
       "        text-align: right;\n",
       "    }\n",
       "</style>\n",
       "<table border=\"1\" class=\"dataframe\">\n",
       "  <thead>\n",
       "    <tr style=\"text-align: right;\">\n",
       "      <th></th>\n",
       "      <th>mean_fit_time</th>\n",
       "      <th>std_fit_time</th>\n",
       "      <th>mean_score_time</th>\n",
       "      <th>std_score_time</th>\n",
       "      <th>param_class_weight</th>\n",
       "      <th>params</th>\n",
       "      <th>split0_test_precision</th>\n",
       "      <th>split1_test_precision</th>\n",
       "      <th>split2_test_precision</th>\n",
       "      <th>split3_test_precision</th>\n",
       "      <th>...</th>\n",
       "      <th>std_test_recall</th>\n",
       "      <th>rank_test_recall</th>\n",
       "      <th>split0_test_minum_of_both</th>\n",
       "      <th>split1_test_minum_of_both</th>\n",
       "      <th>split2_test_minum_of_both</th>\n",
       "      <th>split3_test_minum_of_both</th>\n",
       "      <th>split4_test_minum_of_both</th>\n",
       "      <th>mean_test_minum_of_both</th>\n",
       "      <th>std_test_minum_of_both</th>\n",
       "      <th>rank_test_minum_of_both</th>\n",
       "    </tr>\n",
       "  </thead>\n",
       "  <tbody>\n",
       "    <tr>\n",
       "      <th>0</th>\n",
       "      <td>5.189626</td>\n",
       "      <td>1.298760</td>\n",
       "      <td>0.451199</td>\n",
       "      <td>0.122423</td>\n",
       "      <td>{0: 1, 1: 1}</td>\n",
       "      <td>{'class_weight': {0: 1, 1: 1}}</td>\n",
       "      <td>0.694444</td>\n",
       "      <td>0.968750</td>\n",
       "      <td>0.913043</td>\n",
       "      <td>0.881579</td>\n",
       "      <td>...</td>\n",
       "      <td>0.119921</td>\n",
       "      <td>9</td>\n",
       "      <td>0.801619</td>\n",
       "      <td>0.801619</td>\n",
       "      <td>0.801619</td>\n",
       "      <td>0.801619</td>\n",
       "      <td>0.801619</td>\n",
       "      <td>0.801619</td>\n",
       "      <td>0.0</td>\n",
       "      <td>1</td>\n",
       "    </tr>\n",
       "    <tr>\n",
       "      <th>1</th>\n",
       "      <td>4.030758</td>\n",
       "      <td>0.564678</td>\n",
       "      <td>0.411401</td>\n",
       "      <td>0.067682</td>\n",
       "      <td>{0: 1, 1: 2}</td>\n",
       "      <td>{'class_weight': {0: 1, 1: 2}}</td>\n",
       "      <td>0.700000</td>\n",
       "      <td>0.971429</td>\n",
       "      <td>0.818182</td>\n",
       "      <td>0.815217</td>\n",
       "      <td>...</td>\n",
       "      <td>0.084528</td>\n",
       "      <td>8</td>\n",
       "      <td>0.801619</td>\n",
       "      <td>0.801619</td>\n",
       "      <td>0.801619</td>\n",
       "      <td>0.801619</td>\n",
       "      <td>0.801619</td>\n",
       "      <td>0.801619</td>\n",
       "      <td>0.0</td>\n",
       "      <td>1</td>\n",
       "    </tr>\n",
       "    <tr>\n",
       "      <th>2</th>\n",
       "      <td>5.196443</td>\n",
       "      <td>1.214914</td>\n",
       "      <td>0.655368</td>\n",
       "      <td>0.529332</td>\n",
       "      <td>{0: 1, 1: 3}</td>\n",
       "      <td>{'class_weight': {0: 1, 1: 3}}</td>\n",
       "      <td>0.695652</td>\n",
       "      <td>0.960526</td>\n",
       "      <td>0.729412</td>\n",
       "      <td>0.828283</td>\n",
       "      <td>...</td>\n",
       "      <td>0.075756</td>\n",
       "      <td>7</td>\n",
       "      <td>0.801619</td>\n",
       "      <td>0.801619</td>\n",
       "      <td>0.801619</td>\n",
       "      <td>0.801619</td>\n",
       "      <td>0.801619</td>\n",
       "      <td>0.801619</td>\n",
       "      <td>0.0</td>\n",
       "      <td>1</td>\n",
       "    </tr>\n",
       "    <tr>\n",
       "      <th>3</th>\n",
       "      <td>3.770462</td>\n",
       "      <td>0.367031</td>\n",
       "      <td>0.355805</td>\n",
       "      <td>0.025976</td>\n",
       "      <td>{0: 1, 1: 4}</td>\n",
       "      <td>{'class_weight': {0: 1, 1: 4}}</td>\n",
       "      <td>0.677966</td>\n",
       "      <td>0.962025</td>\n",
       "      <td>0.717391</td>\n",
       "      <td>0.830000</td>\n",
       "      <td>...</td>\n",
       "      <td>0.060979</td>\n",
       "      <td>6</td>\n",
       "      <td>0.801619</td>\n",
       "      <td>0.801619</td>\n",
       "      <td>0.801619</td>\n",
       "      <td>0.801619</td>\n",
       "      <td>0.801619</td>\n",
       "      <td>0.801619</td>\n",
       "      <td>0.0</td>\n",
       "      <td>1</td>\n",
       "    </tr>\n",
       "    <tr>\n",
       "      <th>4</th>\n",
       "      <td>3.872170</td>\n",
       "      <td>0.633561</td>\n",
       "      <td>0.440615</td>\n",
       "      <td>0.123368</td>\n",
       "      <td>{0: 1, 1: 5}</td>\n",
       "      <td>{'class_weight': {0: 1, 1: 5}}</td>\n",
       "      <td>0.666667</td>\n",
       "      <td>0.950000</td>\n",
       "      <td>0.718750</td>\n",
       "      <td>0.830000</td>\n",
       "      <td>...</td>\n",
       "      <td>0.052519</td>\n",
       "      <td>5</td>\n",
       "      <td>0.801619</td>\n",
       "      <td>0.801619</td>\n",
       "      <td>0.801619</td>\n",
       "      <td>0.801619</td>\n",
       "      <td>0.801619</td>\n",
       "      <td>0.801619</td>\n",
       "      <td>0.0</td>\n",
       "      <td>1</td>\n",
       "    </tr>\n",
       "    <tr>\n",
       "      <th>5</th>\n",
       "      <td>5.178642</td>\n",
       "      <td>1.071202</td>\n",
       "      <td>0.809270</td>\n",
       "      <td>0.324132</td>\n",
       "      <td>{0: 1, 1: 6}</td>\n",
       "      <td>{'class_weight': {0: 1, 1: 6}}</td>\n",
       "      <td>0.666667</td>\n",
       "      <td>0.951807</td>\n",
       "      <td>0.704082</td>\n",
       "      <td>0.823529</td>\n",
       "      <td>...</td>\n",
       "      <td>0.056381</td>\n",
       "      <td>4</td>\n",
       "      <td>0.801619</td>\n",
       "      <td>0.801619</td>\n",
       "      <td>0.801619</td>\n",
       "      <td>0.801619</td>\n",
       "      <td>0.801619</td>\n",
       "      <td>0.801619</td>\n",
       "      <td>0.0</td>\n",
       "      <td>1</td>\n",
       "    </tr>\n",
       "    <tr>\n",
       "      <th>6</th>\n",
       "      <td>4.393828</td>\n",
       "      <td>0.830081</td>\n",
       "      <td>0.445119</td>\n",
       "      <td>0.044808</td>\n",
       "      <td>{0: 1, 1: 7}</td>\n",
       "      <td>{'class_weight': {0: 1, 1: 7}}</td>\n",
       "      <td>0.666667</td>\n",
       "      <td>0.952381</td>\n",
       "      <td>0.676471</td>\n",
       "      <td>0.833333</td>\n",
       "      <td>...</td>\n",
       "      <td>0.060037</td>\n",
       "      <td>3</td>\n",
       "      <td>0.801619</td>\n",
       "      <td>0.801619</td>\n",
       "      <td>0.801619</td>\n",
       "      <td>0.801619</td>\n",
       "      <td>0.801619</td>\n",
       "      <td>0.801619</td>\n",
       "      <td>0.0</td>\n",
       "      <td>1</td>\n",
       "    </tr>\n",
       "    <tr>\n",
       "      <th>7</th>\n",
       "      <td>3.227801</td>\n",
       "      <td>0.161100</td>\n",
       "      <td>0.383598</td>\n",
       "      <td>0.070019</td>\n",
       "      <td>{0: 1, 1: 8}</td>\n",
       "      <td>{'class_weight': {0: 1, 1: 8}}</td>\n",
       "      <td>0.658333</td>\n",
       "      <td>0.954023</td>\n",
       "      <td>0.650943</td>\n",
       "      <td>0.817308</td>\n",
       "      <td>...</td>\n",
       "      <td>0.061346</td>\n",
       "      <td>2</td>\n",
       "      <td>0.801619</td>\n",
       "      <td>0.801619</td>\n",
       "      <td>0.801619</td>\n",
       "      <td>0.801619</td>\n",
       "      <td>0.801619</td>\n",
       "      <td>0.801619</td>\n",
       "      <td>0.0</td>\n",
       "      <td>1</td>\n",
       "    </tr>\n",
       "    <tr>\n",
       "      <th>8</th>\n",
       "      <td>2.934199</td>\n",
       "      <td>0.098972</td>\n",
       "      <td>0.336002</td>\n",
       "      <td>0.030067</td>\n",
       "      <td>{0: 1, 1: 9}</td>\n",
       "      <td>{'class_weight': {0: 1, 1: 9}}</td>\n",
       "      <td>0.647541</td>\n",
       "      <td>0.954023</td>\n",
       "      <td>0.610619</td>\n",
       "      <td>0.787037</td>\n",
       "      <td>...</td>\n",
       "      <td>0.058230</td>\n",
       "      <td>1</td>\n",
       "      <td>0.801619</td>\n",
       "      <td>0.801619</td>\n",
       "      <td>0.801619</td>\n",
       "      <td>0.801619</td>\n",
       "      <td>0.801619</td>\n",
       "      <td>0.801619</td>\n",
       "      <td>0.0</td>\n",
       "      <td>1</td>\n",
       "    </tr>\n",
       "  </tbody>\n",
       "</table>\n",
       "<p>9 rows × 30 columns</p>\n",
       "</div>"
      ],
      "text/plain": [
       "   mean_fit_time  std_fit_time  mean_score_time  std_score_time  \\\n",
       "0       5.189626      1.298760         0.451199        0.122423   \n",
       "1       4.030758      0.564678         0.411401        0.067682   \n",
       "2       5.196443      1.214914         0.655368        0.529332   \n",
       "3       3.770462      0.367031         0.355805        0.025976   \n",
       "4       3.872170      0.633561         0.440615        0.123368   \n",
       "5       5.178642      1.071202         0.809270        0.324132   \n",
       "6       4.393828      0.830081         0.445119        0.044808   \n",
       "7       3.227801      0.161100         0.383598        0.070019   \n",
       "8       2.934199      0.098972         0.336002        0.030067   \n",
       "\n",
       "  param_class_weight                          params  split0_test_precision  \\\n",
       "0       {0: 1, 1: 1}  {'class_weight': {0: 1, 1: 1}}               0.694444   \n",
       "1       {0: 1, 1: 2}  {'class_weight': {0: 1, 1: 2}}               0.700000   \n",
       "2       {0: 1, 1: 3}  {'class_weight': {0: 1, 1: 3}}               0.695652   \n",
       "3       {0: 1, 1: 4}  {'class_weight': {0: 1, 1: 4}}               0.677966   \n",
       "4       {0: 1, 1: 5}  {'class_weight': {0: 1, 1: 5}}               0.666667   \n",
       "5       {0: 1, 1: 6}  {'class_weight': {0: 1, 1: 6}}               0.666667   \n",
       "6       {0: 1, 1: 7}  {'class_weight': {0: 1, 1: 7}}               0.666667   \n",
       "7       {0: 1, 1: 8}  {'class_weight': {0: 1, 1: 8}}               0.658333   \n",
       "8       {0: 1, 1: 9}  {'class_weight': {0: 1, 1: 9}}               0.647541   \n",
       "\n",
       "   split1_test_precision  split2_test_precision  split3_test_precision  ...  \\\n",
       "0               0.968750               0.913043               0.881579  ...   \n",
       "1               0.971429               0.818182               0.815217  ...   \n",
       "2               0.960526               0.729412               0.828283  ...   \n",
       "3               0.962025               0.717391               0.830000  ...   \n",
       "4               0.950000               0.718750               0.830000  ...   \n",
       "5               0.951807               0.704082               0.823529  ...   \n",
       "6               0.952381               0.676471               0.833333  ...   \n",
       "7               0.954023               0.650943               0.817308  ...   \n",
       "8               0.954023               0.610619               0.787037  ...   \n",
       "\n",
       "   std_test_recall  rank_test_recall  split0_test_minum_of_both  \\\n",
       "0         0.119921                 9                   0.801619   \n",
       "1         0.084528                 8                   0.801619   \n",
       "2         0.075756                 7                   0.801619   \n",
       "3         0.060979                 6                   0.801619   \n",
       "4         0.052519                 5                   0.801619   \n",
       "5         0.056381                 4                   0.801619   \n",
       "6         0.060037                 3                   0.801619   \n",
       "7         0.061346                 2                   0.801619   \n",
       "8         0.058230                 1                   0.801619   \n",
       "\n",
       "   split1_test_minum_of_both  split2_test_minum_of_both  \\\n",
       "0                   0.801619                   0.801619   \n",
       "1                   0.801619                   0.801619   \n",
       "2                   0.801619                   0.801619   \n",
       "3                   0.801619                   0.801619   \n",
       "4                   0.801619                   0.801619   \n",
       "5                   0.801619                   0.801619   \n",
       "6                   0.801619                   0.801619   \n",
       "7                   0.801619                   0.801619   \n",
       "8                   0.801619                   0.801619   \n",
       "\n",
       "   split3_test_minum_of_both  split4_test_minum_of_both  \\\n",
       "0                   0.801619                   0.801619   \n",
       "1                   0.801619                   0.801619   \n",
       "2                   0.801619                   0.801619   \n",
       "3                   0.801619                   0.801619   \n",
       "4                   0.801619                   0.801619   \n",
       "5                   0.801619                   0.801619   \n",
       "6                   0.801619                   0.801619   \n",
       "7                   0.801619                   0.801619   \n",
       "8                   0.801619                   0.801619   \n",
       "\n",
       "   mean_test_minum_of_both  std_test_minum_of_both  rank_test_minum_of_both  \n",
       "0                 0.801619                     0.0                        1  \n",
       "1                 0.801619                     0.0                        1  \n",
       "2                 0.801619                     0.0                        1  \n",
       "3                 0.801619                     0.0                        1  \n",
       "4                 0.801619                     0.0                        1  \n",
       "5                 0.801619                     0.0                        1  \n",
       "6                 0.801619                     0.0                        1  \n",
       "7                 0.801619                     0.0                        1  \n",
       "8                 0.801619                     0.0                        1  \n",
       "\n",
       "[9 rows x 30 columns]"
      ]
     },
     "execution_count": 52,
     "metadata": {},
     "output_type": "execute_result"
    }
   ],
   "source": [
    "df_result"
   ]
  },
  {
   "cell_type": "code",
   "execution_count": 53,
   "metadata": {},
   "outputs": [
    {
     "data": {
      "text/plain": [
       "<matplotlib.legend.Legend at 0x1f104e2f280>"
      ]
     },
     "execution_count": 53,
     "metadata": {},
     "output_type": "execute_result"
    },
    {
     "data": {
      "image/png": "[encoded data removed]",
      "text/plain": [
       "<Figure size 1200x400 with 1 Axes>"
      ]
     },
     "metadata": {},
     "output_type": "display_data"
    }
   ],
   "source": [
    "plt.figure(figsize=(12,4))\n",
    "for i in['mean_test_precision','mean_test_recall','mean_test_minum_of_both']:\n",
    "    plt.plot([ j[1] for j in df_result['param_class_weight']],df_result[i],\n",
    "    label=i\n",
    "    )\n",
    "plt.legend()"
   ]
  }
 ],
 "metadata": {
  "kernelspec": {
   "display_name": "jazz",
   "language": "python",
   "name": "python3"
  },
  "language_info": {
   "codemirror_mode": {
    "name": "ipython",
    "version": 3
   },
   "file_extension": ".py",
   "mimetype": "text/x-python",
   "name": "python",
   "nbconvert_exporter": "python",
   "pygments_lexer": "ipython3",
   "version": "3.10.8"
  },
  "orig_nbformat": 4,
  "vscode": {
   "interpreter": {
    "hash": "836c7a803e62df638fdb1bd403a0bb0c86242d4bee87d0bafcdb520cf7232eeb"
   }
  }
 },
 "nbformat": 4,
 "nbformat_minor": 2
}
